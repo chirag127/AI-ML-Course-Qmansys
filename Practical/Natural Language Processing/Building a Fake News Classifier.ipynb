{
 "cells": [
  {
   "cell_type": "markdown",
   "metadata": {},
   "source": [
    "# Building a Fake News Classifier"
   ]
  },
  {
   "cell_type": "markdown",
   "metadata": {},
   "source": [
    "https://towardsdatascience.com/building-a-fake-news-classifier-using-natural-language-processing-83d911b237e1"
   ]
  },
  {
   "cell_type": "markdown",
   "metadata": {},
   "source": [
    "## Import Libraries"
   ]
  },
  {
   "cell_type": "code",
   "execution_count": 2,
   "metadata": {},
   "outputs": [
    {
     "name": "stderr",
     "output_type": "stream",
     "text": [
      "C:\\ProgramData\\Anaconda3\\lib\\site-packages\\sklearn\\utils\\deprecation.py:143: FutureWarning: The sklearn.feature_extraction.stop_words module is  deprecated in version 0.22 and will be removed in version 0.24. The corresponding classes / functions should instead be imported from sklearn.feature_extraction.text. Anything that cannot be imported from sklearn.feature_extraction.text is now part of the private API.\n",
      "  warnings.warn(message, FutureWarning)\n"
     ]
    }
   ],
   "source": [
    "# API scrape \n",
    "from psaw import PushshiftAPI\n",
    "\n",
    "# Basic libraries\n",
    "import numpy as np\n",
    "import pandas as pd\n",
    "\n",
    "# Data Visualization\n",
    "import matplotlib.pyplot as plt\n",
    "import seaborn as sns\n",
    "%config InlineBackend.figure_format = 'retina'\n",
    "%matplotlib inline\n",
    "\n",
    "# Natural Language Processing\n",
    "from sklearn.feature_extraction import stop_words\n",
    "from sklearn.feature_extraction.text import CountVectorizer, TfidfVectorizer\n",
    "\n",
    "# Modeling\n",
    "from sklearn.linear_model import LogisticRegression\n",
    "from sklearn.model_selection import train_test_split, GridSearchCV\n",
    "from sklearn.pipeline import Pipeline\n",
    "from sklearn.naive_bayes import MultinomialNB\n",
    "from sklearn import metrics\n",
    "from sklearn.metrics import accuracy_score, recall_score, precision_score, confusion_matrix"
   ]
  },
  {
   "cell_type": "markdown",
   "metadata": {},
   "source": [
    "## Data Scrape"
   ]
  },
  {
   "cell_type": "markdown",
   "metadata": {},
   "source": [
    "### API Scrape Function"
   ]
  },
  {
   "cell_type": "code",
   "execution_count": 3,
   "metadata": {},
   "outputs": [],
   "source": [
    "def scrape_data(subreddit):\n",
    "    \n",
    "    # Instantiate \n",
    "    api = PushshiftAPI()\n",
    "\n",
    "    # Create list of scraped data\n",
    "    scrape_list = list(api.search_submissions(subreddit=subreddit,\n",
    "                                filter=['title', 'subreddit', 'num_comments', 'author', 'subreddit_subscribers', 'score', 'domain', 'created_utc'],\n",
    "                                limit=15000))\n",
    "\n",
    "    #Filter list to only show Subreddit titles and Subreddit category \n",
    "    clean_scrape_lst = []\n",
    "    for i in range(len(scrape_list)):\n",
    "        scrape_dict = {}\n",
    "        scrape_dict['subreddit'] = scrape_list[i][5]\n",
    "        scrape_dict['author'] = scrape_list[i][0]\n",
    "        scrape_dict['domain'] = scrape_list[i][2]\n",
    "        scrape_dict['title'] = scrape_list[i][7]\n",
    "        scrape_dict['num_comments'] = scrape_list[i][3]\n",
    "        scrape_dict['score'] = scrape_list[i][4]\n",
    "        scrape_dict['timestamp'] = scrape_list[i][1]\n",
    "        clean_scrape_lst.append(scrape_dict)\n",
    "\n",
    "    # Show number of subscribers\n",
    "    print(subreddit, 'subscribers:',scrape_list[1][6])\n",
    "    \n",
    "    # Return list of scraped data\n",
    "    return clean_scrape_lst"
   ]
  },
  {
   "cell_type": "markdown",
   "metadata": {},
   "source": [
    "### Scrape r/nottheonion"
   ]
  },
  {
   "cell_type": "code",
   "execution_count": 4,
   "metadata": {},
   "outputs": [
    {
     "name": "stdout",
     "output_type": "stream",
     "text": [
      "nottheonion subscribers: 17019635\n",
      "df_not_onion shape: (15000, 7)\n"
     ]
    },
    {
     "data": {
      "text/html": [
       "<div>\n",
       "<style scoped>\n",
       "    .dataframe tbody tr th:only-of-type {\n",
       "        vertical-align: middle;\n",
       "    }\n",
       "\n",
       "    .dataframe tbody tr th {\n",
       "        vertical-align: top;\n",
       "    }\n",
       "\n",
       "    .dataframe thead th {\n",
       "        text-align: right;\n",
       "    }\n",
       "</style>\n",
       "<table border=\"1\" class=\"dataframe\">\n",
       "  <thead>\n",
       "    <tr style=\"text-align: right;\">\n",
       "      <th></th>\n",
       "      <th>subreddit</th>\n",
       "      <th>author</th>\n",
       "      <th>domain</th>\n",
       "      <th>title</th>\n",
       "      <th>num_comments</th>\n",
       "      <th>score</th>\n",
       "      <th>timestamp</th>\n",
       "    </tr>\n",
       "  </thead>\n",
       "  <tbody>\n",
       "    <tr>\n",
       "      <th>0</th>\n",
       "      <td>nottheonion</td>\n",
       "      <td>turtwig33</td>\n",
       "      <td>cnn.com</td>\n",
       "      <td>No screaming, please: Japan amusement parks is...</td>\n",
       "      <td>3</td>\n",
       "      <td>1</td>\n",
       "      <td>1591602185</td>\n",
       "    </tr>\n",
       "    <tr>\n",
       "      <th>1</th>\n",
       "      <td>nottheonion</td>\n",
       "      <td>backpackHoarder</td>\n",
       "      <td>foxnews.com</td>\n",
       "      <td>Man tormented by mystery pizza deliveries to h...</td>\n",
       "      <td>0</td>\n",
       "      <td>1</td>\n",
       "      <td>1591601037</td>\n",
       "    </tr>\n",
       "    <tr>\n",
       "      <th>2</th>\n",
       "      <td>nottheonion</td>\n",
       "      <td>1970251510</td>\n",
       "      <td>twitter.com</td>\n",
       "      <td>#FREEDOM#DEMOCRACY#FUTURE#HOPE#STAND WITH DEMO...</td>\n",
       "      <td>1</td>\n",
       "      <td>1</td>\n",
       "      <td>1591600365</td>\n",
       "    </tr>\n",
       "    <tr>\n",
       "      <th>3</th>\n",
       "      <td>nottheonion</td>\n",
       "      <td>TodayinHistoryWiki</td>\n",
       "      <td>technicalhistorian01.blogspot.com</td>\n",
       "      <td>The volcanic eruption that lasted for 8 months...</td>\n",
       "      <td>1</td>\n",
       "      <td>1</td>\n",
       "      <td>1591599875</td>\n",
       "    </tr>\n",
       "    <tr>\n",
       "      <th>4</th>\n",
       "      <td>nottheonion</td>\n",
       "      <td>1970251510</td>\n",
       "      <td>twitter.com</td>\n",
       "      <td>#FREEDOM#DEMOCRACY#FUTURE#HOPE#STAND WITH DEMO...</td>\n",
       "      <td>2</td>\n",
       "      <td>1</td>\n",
       "      <td>1591599834</td>\n",
       "    </tr>\n",
       "  </tbody>\n",
       "</table>\n",
       "</div>"
      ],
      "text/plain": [
       "     subreddit              author                             domain  \\\n",
       "0  nottheonion           turtwig33                            cnn.com   \n",
       "1  nottheonion     backpackHoarder                        foxnews.com   \n",
       "2  nottheonion          1970251510                        twitter.com   \n",
       "3  nottheonion  TodayinHistoryWiki  technicalhistorian01.blogspot.com   \n",
       "4  nottheonion          1970251510                        twitter.com   \n",
       "\n",
       "                                               title  num_comments  score  \\\n",
       "0  No screaming, please: Japan amusement parks is...             3      1   \n",
       "1  Man tormented by mystery pizza deliveries to h...             0      1   \n",
       "2  #FREEDOM#DEMOCRACY#FUTURE#HOPE#STAND WITH DEMO...             1      1   \n",
       "3  The volcanic eruption that lasted for 8 months...             1      1   \n",
       "4  #FREEDOM#DEMOCRACY#FUTURE#HOPE#STAND WITH DEMO...             2      1   \n",
       "\n",
       "    timestamp  \n",
       "0  1591602185  \n",
       "1  1591601037  \n",
       "2  1591600365  \n",
       "3  1591599875  \n",
       "4  1591599834  "
      ]
     },
     "execution_count": 4,
     "metadata": {},
     "output_type": "execute_result"
    }
   ],
   "source": [
    "# Call function and create DataFrame\n",
    "df_not_onion = pd.DataFrame(scrape_data('nottheonion'))\n",
    "\n",
    "# Save data to csv\n",
    "df_not_onion.to_csv('./data/not_onion.csv')\n",
    "\n",
    "# Shape of DataFrame\n",
    "print(f'df_not_onion shape: {df_not_onion.shape}')\n",
    "\n",
    "# Show head\n",
    "df_not_onion.head()"
   ]
  },
  {
   "cell_type": "markdown",
   "metadata": {},
   "source": [
    "### Scrape r/TheOnion"
   ]
  },
  {
   "cell_type": "code",
   "execution_count": 5,
   "metadata": {},
   "outputs": [
    {
     "name": "stdout",
     "output_type": "stream",
     "text": [
      "theonion subscribers: 148426\n",
      "df_onion shape: (14978, 7)\n"
     ]
    },
    {
     "data": {
      "text/html": [
       "<div>\n",
       "<style scoped>\n",
       "    .dataframe tbody tr th:only-of-type {\n",
       "        vertical-align: middle;\n",
       "    }\n",
       "\n",
       "    .dataframe tbody tr th {\n",
       "        vertical-align: top;\n",
       "    }\n",
       "\n",
       "    .dataframe thead th {\n",
       "        text-align: right;\n",
       "    }\n",
       "</style>\n",
       "<table border=\"1\" class=\"dataframe\">\n",
       "  <thead>\n",
       "    <tr style=\"text-align: right;\">\n",
       "      <th></th>\n",
       "      <th>subreddit</th>\n",
       "      <th>author</th>\n",
       "      <th>domain</th>\n",
       "      <th>title</th>\n",
       "      <th>num_comments</th>\n",
       "      <th>score</th>\n",
       "      <th>timestamp</th>\n",
       "    </tr>\n",
       "  </thead>\n",
       "  <tbody>\n",
       "    <tr>\n",
       "      <th>0</th>\n",
       "      <td>TheOnion</td>\n",
       "      <td>Askalany</td>\n",
       "      <td>local.theonion.com</td>\n",
       "      <td>Family Left Elderly Grandmother To Die In Nurs...</td>\n",
       "      <td>1</td>\n",
       "      <td>1</td>\n",
       "      <td>1591567259</td>\n",
       "    </tr>\n",
       "    <tr>\n",
       "      <th>1</th>\n",
       "      <td>TheOnion</td>\n",
       "      <td>Askalany</td>\n",
       "      <td>theonion.com</td>\n",
       "      <td>Supreme Court Overturns 'Right v. Wrong'</td>\n",
       "      <td>4</td>\n",
       "      <td>1</td>\n",
       "      <td>1591566975</td>\n",
       "    </tr>\n",
       "    <tr>\n",
       "      <th>2</th>\n",
       "      <td>TheOnion</td>\n",
       "      <td>boomernot</td>\n",
       "      <td>theonion.com</td>\n",
       "      <td>Auntie Anne’s Breaks From Pack By Calling For ...</td>\n",
       "      <td>21</td>\n",
       "      <td>1</td>\n",
       "      <td>1591545442</td>\n",
       "    </tr>\n",
       "    <tr>\n",
       "      <th>3</th>\n",
       "      <td>TheOnion</td>\n",
       "      <td>zirayaacg</td>\n",
       "      <td>theonion.com</td>\n",
       "      <td>Trump Throws Garbage Can Through McDonald’s Wi...</td>\n",
       "      <td>32</td>\n",
       "      <td>1</td>\n",
       "      <td>1591480508</td>\n",
       "    </tr>\n",
       "    <tr>\n",
       "      <th>4</th>\n",
       "      <td>TheOnion</td>\n",
       "      <td>zirayaacg</td>\n",
       "      <td>i.redd.it</td>\n",
       "      <td>oh no! not the big macs!</td>\n",
       "      <td>1</td>\n",
       "      <td>1</td>\n",
       "      <td>1591478748</td>\n",
       "    </tr>\n",
       "  </tbody>\n",
       "</table>\n",
       "</div>"
      ],
      "text/plain": [
       "  subreddit     author              domain  \\\n",
       "0  TheOnion   Askalany  local.theonion.com   \n",
       "1  TheOnion   Askalany        theonion.com   \n",
       "2  TheOnion  boomernot        theonion.com   \n",
       "3  TheOnion  zirayaacg        theonion.com   \n",
       "4  TheOnion  zirayaacg           i.redd.it   \n",
       "\n",
       "                                               title  num_comments  score  \\\n",
       "0  Family Left Elderly Grandmother To Die In Nurs...             1      1   \n",
       "1           Supreme Court Overturns 'Right v. Wrong'             4      1   \n",
       "2  Auntie Anne’s Breaks From Pack By Calling For ...            21      1   \n",
       "3  Trump Throws Garbage Can Through McDonald’s Wi...            32      1   \n",
       "4                           oh no! not the big macs!             1      1   \n",
       "\n",
       "    timestamp  \n",
       "0  1591567259  \n",
       "1  1591566975  \n",
       "2  1591545442  \n",
       "3  1591480508  \n",
       "4  1591478748  "
      ]
     },
     "execution_count": 5,
     "metadata": {},
     "output_type": "execute_result"
    }
   ],
   "source": [
    "# Call function and create DataFrame\n",
    "df_onion = pd.DataFrame(scrape_data('theonion'))\n",
    "\n",
    "# Save data to csv\n",
    "df_onion.to_csv('./data/the_onion.csv')\n",
    "\n",
    "# Shape of DataFrame\n",
    "print(f'df_onion shape: {df_onion.shape}')\n",
    "\n",
    "# Show head\n",
    "df_onion.head()"
   ]
  },
  {
   "cell_type": "markdown",
   "metadata": {},
   "source": [
    "### Import Data"
   ]
  },
  {
   "cell_type": "code",
   "execution_count": 6,
   "metadata": {},
   "outputs": [],
   "source": [
    "# If you're running this notebook, you can begin with this cell as the data has already been saved to a csv\n",
    "\n",
    "# r/TheOnion DataFrame\n",
    "df_onion = pd.read_csv('./data/the_onion.csv')\n",
    "\n",
    "# r/nottheonion DataFrame\n",
    "df_not_onion = pd.read_csv('./data/not_onion.csv')"
   ]
  },
  {
   "cell_type": "markdown",
   "metadata": {},
   "source": [
    "### Preview df_onion"
   ]
  },
  {
   "cell_type": "code",
   "execution_count": 7,
   "metadata": {},
   "outputs": [
    {
     "name": "stdout",
     "output_type": "stream",
     "text": [
      "Shape: (14978, 8)\n"
     ]
    },
    {
     "data": {
      "text/html": [
       "<div>\n",
       "<style scoped>\n",
       "    .dataframe tbody tr th:only-of-type {\n",
       "        vertical-align: middle;\n",
       "    }\n",
       "\n",
       "    .dataframe tbody tr th {\n",
       "        vertical-align: top;\n",
       "    }\n",
       "\n",
       "    .dataframe thead th {\n",
       "        text-align: right;\n",
       "    }\n",
       "</style>\n",
       "<table border=\"1\" class=\"dataframe\">\n",
       "  <thead>\n",
       "    <tr style=\"text-align: right;\">\n",
       "      <th></th>\n",
       "      <th>Unnamed: 0</th>\n",
       "      <th>subreddit</th>\n",
       "      <th>author</th>\n",
       "      <th>domain</th>\n",
       "      <th>title</th>\n",
       "      <th>num_comments</th>\n",
       "      <th>score</th>\n",
       "      <th>timestamp</th>\n",
       "    </tr>\n",
       "  </thead>\n",
       "  <tbody>\n",
       "    <tr>\n",
       "      <th>0</th>\n",
       "      <td>0</td>\n",
       "      <td>TheOnion</td>\n",
       "      <td>Askalany</td>\n",
       "      <td>local.theonion.com</td>\n",
       "      <td>Family Left Elderly Grandmother To Die In Nurs...</td>\n",
       "      <td>1</td>\n",
       "      <td>1</td>\n",
       "      <td>1591567259</td>\n",
       "    </tr>\n",
       "    <tr>\n",
       "      <th>1</th>\n",
       "      <td>1</td>\n",
       "      <td>TheOnion</td>\n",
       "      <td>Askalany</td>\n",
       "      <td>theonion.com</td>\n",
       "      <td>Supreme Court Overturns 'Right v. Wrong'</td>\n",
       "      <td>4</td>\n",
       "      <td>1</td>\n",
       "      <td>1591566975</td>\n",
       "    </tr>\n",
       "    <tr>\n",
       "      <th>2</th>\n",
       "      <td>2</td>\n",
       "      <td>TheOnion</td>\n",
       "      <td>boomernot</td>\n",
       "      <td>theonion.com</td>\n",
       "      <td>Auntie Anne’s Breaks From Pack By Calling For ...</td>\n",
       "      <td>21</td>\n",
       "      <td>1</td>\n",
       "      <td>1591545442</td>\n",
       "    </tr>\n",
       "    <tr>\n",
       "      <th>3</th>\n",
       "      <td>3</td>\n",
       "      <td>TheOnion</td>\n",
       "      <td>zirayaacg</td>\n",
       "      <td>theonion.com</td>\n",
       "      <td>Trump Throws Garbage Can Through McDonald’s Wi...</td>\n",
       "      <td>32</td>\n",
       "      <td>1</td>\n",
       "      <td>1591480508</td>\n",
       "    </tr>\n",
       "    <tr>\n",
       "      <th>4</th>\n",
       "      <td>4</td>\n",
       "      <td>TheOnion</td>\n",
       "      <td>zirayaacg</td>\n",
       "      <td>i.redd.it</td>\n",
       "      <td>oh no! not the big macs!</td>\n",
       "      <td>1</td>\n",
       "      <td>1</td>\n",
       "      <td>1591478748</td>\n",
       "    </tr>\n",
       "  </tbody>\n",
       "</table>\n",
       "</div>"
      ],
      "text/plain": [
       "   Unnamed: 0 subreddit     author              domain  \\\n",
       "0           0  TheOnion   Askalany  local.theonion.com   \n",
       "1           1  TheOnion   Askalany        theonion.com   \n",
       "2           2  TheOnion  boomernot        theonion.com   \n",
       "3           3  TheOnion  zirayaacg        theonion.com   \n",
       "4           4  TheOnion  zirayaacg           i.redd.it   \n",
       "\n",
       "                                               title  num_comments  score  \\\n",
       "0  Family Left Elderly Grandmother To Die In Nurs...             1      1   \n",
       "1           Supreme Court Overturns 'Right v. Wrong'             4      1   \n",
       "2  Auntie Anne’s Breaks From Pack By Calling For ...            21      1   \n",
       "3  Trump Throws Garbage Can Through McDonald’s Wi...            32      1   \n",
       "4                           oh no! not the big macs!             1      1   \n",
       "\n",
       "    timestamp  \n",
       "0  1591567259  \n",
       "1  1591566975  \n",
       "2  1591545442  \n",
       "3  1591480508  \n",
       "4  1591478748  "
      ]
     },
     "execution_count": 7,
     "metadata": {},
     "output_type": "execute_result"
    }
   ],
   "source": [
    "# Show first 5 rows of df_onion\n",
    "print(\"Shape:\", df_onion.shape)\n",
    "df_onion.head()"
   ]
  },
  {
   "cell_type": "markdown",
   "metadata": {},
   "source": [
    "### Preview df_not_onion"
   ]
  },
  {
   "cell_type": "code",
   "execution_count": 8,
   "metadata": {},
   "outputs": [
    {
     "name": "stdout",
     "output_type": "stream",
     "text": [
      "Shape: (15000, 8)\n"
     ]
    },
    {
     "data": {
      "text/html": [
       "<div>\n",
       "<style scoped>\n",
       "    .dataframe tbody tr th:only-of-type {\n",
       "        vertical-align: middle;\n",
       "    }\n",
       "\n",
       "    .dataframe tbody tr th {\n",
       "        vertical-align: top;\n",
       "    }\n",
       "\n",
       "    .dataframe thead th {\n",
       "        text-align: right;\n",
       "    }\n",
       "</style>\n",
       "<table border=\"1\" class=\"dataframe\">\n",
       "  <thead>\n",
       "    <tr style=\"text-align: right;\">\n",
       "      <th></th>\n",
       "      <th>Unnamed: 0</th>\n",
       "      <th>subreddit</th>\n",
       "      <th>author</th>\n",
       "      <th>domain</th>\n",
       "      <th>title</th>\n",
       "      <th>num_comments</th>\n",
       "      <th>score</th>\n",
       "      <th>timestamp</th>\n",
       "    </tr>\n",
       "  </thead>\n",
       "  <tbody>\n",
       "    <tr>\n",
       "      <th>0</th>\n",
       "      <td>0</td>\n",
       "      <td>nottheonion</td>\n",
       "      <td>turtwig33</td>\n",
       "      <td>cnn.com</td>\n",
       "      <td>No screaming, please: Japan amusement parks is...</td>\n",
       "      <td>3</td>\n",
       "      <td>1</td>\n",
       "      <td>1591602185</td>\n",
       "    </tr>\n",
       "    <tr>\n",
       "      <th>1</th>\n",
       "      <td>1</td>\n",
       "      <td>nottheonion</td>\n",
       "      <td>backpackHoarder</td>\n",
       "      <td>foxnews.com</td>\n",
       "      <td>Man tormented by mystery pizza deliveries to h...</td>\n",
       "      <td>0</td>\n",
       "      <td>1</td>\n",
       "      <td>1591601037</td>\n",
       "    </tr>\n",
       "    <tr>\n",
       "      <th>2</th>\n",
       "      <td>2</td>\n",
       "      <td>nottheonion</td>\n",
       "      <td>1970251510</td>\n",
       "      <td>twitter.com</td>\n",
       "      <td>#FREEDOM#DEMOCRACY#FUTURE#HOPE#STAND WITH DEMO...</td>\n",
       "      <td>1</td>\n",
       "      <td>1</td>\n",
       "      <td>1591600365</td>\n",
       "    </tr>\n",
       "    <tr>\n",
       "      <th>3</th>\n",
       "      <td>3</td>\n",
       "      <td>nottheonion</td>\n",
       "      <td>TodayinHistoryWiki</td>\n",
       "      <td>technicalhistorian01.blogspot.com</td>\n",
       "      <td>The volcanic eruption that lasted for 8 months...</td>\n",
       "      <td>1</td>\n",
       "      <td>1</td>\n",
       "      <td>1591599875</td>\n",
       "    </tr>\n",
       "    <tr>\n",
       "      <th>4</th>\n",
       "      <td>4</td>\n",
       "      <td>nottheonion</td>\n",
       "      <td>1970251510</td>\n",
       "      <td>twitter.com</td>\n",
       "      <td>#FREEDOM#DEMOCRACY#FUTURE#HOPE#STAND WITH DEMO...</td>\n",
       "      <td>2</td>\n",
       "      <td>1</td>\n",
       "      <td>1591599834</td>\n",
       "    </tr>\n",
       "  </tbody>\n",
       "</table>\n",
       "</div>"
      ],
      "text/plain": [
       "   Unnamed: 0    subreddit              author  \\\n",
       "0           0  nottheonion           turtwig33   \n",
       "1           1  nottheonion     backpackHoarder   \n",
       "2           2  nottheonion          1970251510   \n",
       "3           3  nottheonion  TodayinHistoryWiki   \n",
       "4           4  nottheonion          1970251510   \n",
       "\n",
       "                              domain  \\\n",
       "0                            cnn.com   \n",
       "1                        foxnews.com   \n",
       "2                        twitter.com   \n",
       "3  technicalhistorian01.blogspot.com   \n",
       "4                        twitter.com   \n",
       "\n",
       "                                               title  num_comments  score  \\\n",
       "0  No screaming, please: Japan amusement parks is...             3      1   \n",
       "1  Man tormented by mystery pizza deliveries to h...             0      1   \n",
       "2  #FREEDOM#DEMOCRACY#FUTURE#HOPE#STAND WITH DEMO...             1      1   \n",
       "3  The volcanic eruption that lasted for 8 months...             1      1   \n",
       "4  #FREEDOM#DEMOCRACY#FUTURE#HOPE#STAND WITH DEMO...             2      1   \n",
       "\n",
       "    timestamp  \n",
       "0  1591602185  \n",
       "1  1591601037  \n",
       "2  1591600365  \n",
       "3  1591599875  \n",
       "4  1591599834  "
      ]
     },
     "execution_count": 8,
     "metadata": {},
     "output_type": "execute_result"
    }
   ],
   "source": [
    "# Show first 5 rows of df_not_onion\n",
    "print(\"Shape:\", df_not_onion.shape)\n",
    "df_not_onion.head()"
   ]
  },
  {
   "cell_type": "markdown",
   "metadata": {},
   "source": [
    "\n",
    "## Clean Data"
   ]
  },
  {
   "cell_type": "markdown",
   "metadata": {},
   "source": [
    "\n",
    "### Data Cleaning Function"
   ]
  },
  {
   "cell_type": "code",
   "execution_count": 9,
   "metadata": {},
   "outputs": [],
   "source": [
    "def clean_data(dataframe):\n",
    "\n",
    "    # Drop duplicate rows\n",
    "    dataframe.drop_duplicates(subset='title', inplace=True)\n",
    "    \n",
    "    # Remove punctation\n",
    "    dataframe['title'] = dataframe['title'].str.replace('[^\\w\\s]',' ')\n",
    "\n",
    "    # Remove numbers \n",
    "    dataframe['title'] = dataframe['title'].str.replace('[^A-Za-z]',' ')\n",
    "\n",
    "    # Make sure any double-spaces are single \n",
    "    dataframe['title'] = dataframe['title'].str.replace('  ',' ')\n",
    "    dataframe['title'] = dataframe['title'].str.replace('  ',' ')\n",
    "\n",
    "    # Transform all text to lowercase\n",
    "    dataframe['title'] = dataframe['title'].str.lower()\n",
    "    \n",
    "    print(\"New shape:\", dataframe.shape)\n",
    "    return dataframe.head()"
   ]
  },
  {
   "cell_type": "markdown",
   "metadata": {},
   "source": [
    "### Clean df_onion"
   ]
  },
  {
   "cell_type": "code",
   "execution_count": 10,
   "metadata": {},
   "outputs": [
    {
     "name": "stdout",
     "output_type": "stream",
     "text": [
      "New shape: (14013, 8)\n"
     ]
    },
    {
     "data": {
      "text/html": [
       "<div>\n",
       "<style scoped>\n",
       "    .dataframe tbody tr th:only-of-type {\n",
       "        vertical-align: middle;\n",
       "    }\n",
       "\n",
       "    .dataframe tbody tr th {\n",
       "        vertical-align: top;\n",
       "    }\n",
       "\n",
       "    .dataframe thead th {\n",
       "        text-align: right;\n",
       "    }\n",
       "</style>\n",
       "<table border=\"1\" class=\"dataframe\">\n",
       "  <thead>\n",
       "    <tr style=\"text-align: right;\">\n",
       "      <th></th>\n",
       "      <th>Unnamed: 0</th>\n",
       "      <th>subreddit</th>\n",
       "      <th>author</th>\n",
       "      <th>domain</th>\n",
       "      <th>title</th>\n",
       "      <th>num_comments</th>\n",
       "      <th>score</th>\n",
       "      <th>timestamp</th>\n",
       "    </tr>\n",
       "  </thead>\n",
       "  <tbody>\n",
       "    <tr>\n",
       "      <th>0</th>\n",
       "      <td>0</td>\n",
       "      <td>TheOnion</td>\n",
       "      <td>Askalany</td>\n",
       "      <td>local.theonion.com</td>\n",
       "      <td>family left elderly grandmother to die in nurs...</td>\n",
       "      <td>1</td>\n",
       "      <td>1</td>\n",
       "      <td>1591567259</td>\n",
       "    </tr>\n",
       "    <tr>\n",
       "      <th>1</th>\n",
       "      <td>1</td>\n",
       "      <td>TheOnion</td>\n",
       "      <td>Askalany</td>\n",
       "      <td>theonion.com</td>\n",
       "      <td>supreme court overturns right v wrong</td>\n",
       "      <td>4</td>\n",
       "      <td>1</td>\n",
       "      <td>1591566975</td>\n",
       "    </tr>\n",
       "    <tr>\n",
       "      <th>2</th>\n",
       "      <td>2</td>\n",
       "      <td>TheOnion</td>\n",
       "      <td>boomernot</td>\n",
       "      <td>theonion.com</td>\n",
       "      <td>auntie anne s breaks from pack by calling for ...</td>\n",
       "      <td>21</td>\n",
       "      <td>1</td>\n",
       "      <td>1591545442</td>\n",
       "    </tr>\n",
       "    <tr>\n",
       "      <th>3</th>\n",
       "      <td>3</td>\n",
       "      <td>TheOnion</td>\n",
       "      <td>zirayaacg</td>\n",
       "      <td>theonion.com</td>\n",
       "      <td>trump throws garbage can through mcdonald s wi...</td>\n",
       "      <td>32</td>\n",
       "      <td>1</td>\n",
       "      <td>1591480508</td>\n",
       "    </tr>\n",
       "    <tr>\n",
       "      <th>4</th>\n",
       "      <td>4</td>\n",
       "      <td>TheOnion</td>\n",
       "      <td>zirayaacg</td>\n",
       "      <td>i.redd.it</td>\n",
       "      <td>oh no not the big macs</td>\n",
       "      <td>1</td>\n",
       "      <td>1</td>\n",
       "      <td>1591478748</td>\n",
       "    </tr>\n",
       "  </tbody>\n",
       "</table>\n",
       "</div>"
      ],
      "text/plain": [
       "   Unnamed: 0 subreddit     author              domain  \\\n",
       "0           0  TheOnion   Askalany  local.theonion.com   \n",
       "1           1  TheOnion   Askalany        theonion.com   \n",
       "2           2  TheOnion  boomernot        theonion.com   \n",
       "3           3  TheOnion  zirayaacg        theonion.com   \n",
       "4           4  TheOnion  zirayaacg           i.redd.it   \n",
       "\n",
       "                                               title  num_comments  score  \\\n",
       "0  family left elderly grandmother to die in nurs...             1      1   \n",
       "1             supreme court overturns right v wrong              4      1   \n",
       "2  auntie anne s breaks from pack by calling for ...            21      1   \n",
       "3  trump throws garbage can through mcdonald s wi...            32      1   \n",
       "4                            oh no not the big macs              1      1   \n",
       "\n",
       "    timestamp  \n",
       "0  1591567259  \n",
       "1  1591566975  \n",
       "2  1591545442  \n",
       "3  1591480508  \n",
       "4  1591478748  "
      ]
     },
     "execution_count": 10,
     "metadata": {},
     "output_type": "execute_result"
    }
   ],
   "source": [
    "# Call `clean_data(dataframe)` function\n",
    "clean_data(df_onion)"
   ]
  },
  {
   "cell_type": "markdown",
   "metadata": {},
   "source": [
    "### Clean df_not_onion"
   ]
  },
  {
   "cell_type": "code",
   "execution_count": 11,
   "metadata": {},
   "outputs": [
    {
     "name": "stdout",
     "output_type": "stream",
     "text": [
      "New shape: (11802, 8)\n"
     ]
    },
    {
     "data": {
      "text/html": [
       "<div>\n",
       "<style scoped>\n",
       "    .dataframe tbody tr th:only-of-type {\n",
       "        vertical-align: middle;\n",
       "    }\n",
       "\n",
       "    .dataframe tbody tr th {\n",
       "        vertical-align: top;\n",
       "    }\n",
       "\n",
       "    .dataframe thead th {\n",
       "        text-align: right;\n",
       "    }\n",
       "</style>\n",
       "<table border=\"1\" class=\"dataframe\">\n",
       "  <thead>\n",
       "    <tr style=\"text-align: right;\">\n",
       "      <th></th>\n",
       "      <th>Unnamed: 0</th>\n",
       "      <th>subreddit</th>\n",
       "      <th>author</th>\n",
       "      <th>domain</th>\n",
       "      <th>title</th>\n",
       "      <th>num_comments</th>\n",
       "      <th>score</th>\n",
       "      <th>timestamp</th>\n",
       "    </tr>\n",
       "  </thead>\n",
       "  <tbody>\n",
       "    <tr>\n",
       "      <th>0</th>\n",
       "      <td>0</td>\n",
       "      <td>nottheonion</td>\n",
       "      <td>turtwig33</td>\n",
       "      <td>cnn.com</td>\n",
       "      <td>no screaming please japan amusement parks issu...</td>\n",
       "      <td>3</td>\n",
       "      <td>1</td>\n",
       "      <td>1591602185</td>\n",
       "    </tr>\n",
       "    <tr>\n",
       "      <th>1</th>\n",
       "      <td>1</td>\n",
       "      <td>nottheonion</td>\n",
       "      <td>backpackHoarder</td>\n",
       "      <td>foxnews.com</td>\n",
       "      <td>man tormented by mystery pizza deliveries to h...</td>\n",
       "      <td>0</td>\n",
       "      <td>1</td>\n",
       "      <td>1591601037</td>\n",
       "    </tr>\n",
       "    <tr>\n",
       "      <th>2</th>\n",
       "      <td>2</td>\n",
       "      <td>nottheonion</td>\n",
       "      <td>1970251510</td>\n",
       "      <td>twitter.com</td>\n",
       "      <td>freedom democracy future hope stand with demo...</td>\n",
       "      <td>1</td>\n",
       "      <td>1</td>\n",
       "      <td>1591600365</td>\n",
       "    </tr>\n",
       "    <tr>\n",
       "      <th>3</th>\n",
       "      <td>3</td>\n",
       "      <td>nottheonion</td>\n",
       "      <td>TodayinHistoryWiki</td>\n",
       "      <td>technicalhistorian01.blogspot.com</td>\n",
       "      <td>the volcanic eruption that lasted for months a...</td>\n",
       "      <td>1</td>\n",
       "      <td>1</td>\n",
       "      <td>1591599875</td>\n",
       "    </tr>\n",
       "    <tr>\n",
       "      <th>5</th>\n",
       "      <td>5</td>\n",
       "      <td>nottheonion</td>\n",
       "      <td>jsdavis</td>\n",
       "      <td>jsonline.com</td>\n",
       "      <td>shorewood woman filmed spitting on protester a...</td>\n",
       "      <td>1</td>\n",
       "      <td>1</td>\n",
       "      <td>1591599331</td>\n",
       "    </tr>\n",
       "  </tbody>\n",
       "</table>\n",
       "</div>"
      ],
      "text/plain": [
       "   Unnamed: 0    subreddit              author  \\\n",
       "0           0  nottheonion           turtwig33   \n",
       "1           1  nottheonion     backpackHoarder   \n",
       "2           2  nottheonion          1970251510   \n",
       "3           3  nottheonion  TodayinHistoryWiki   \n",
       "5           5  nottheonion             jsdavis   \n",
       "\n",
       "                              domain  \\\n",
       "0                            cnn.com   \n",
       "1                        foxnews.com   \n",
       "2                        twitter.com   \n",
       "3  technicalhistorian01.blogspot.com   \n",
       "5                       jsonline.com   \n",
       "\n",
       "                                               title  num_comments  score  \\\n",
       "0  no screaming please japan amusement parks issu...             3      1   \n",
       "1  man tormented by mystery pizza deliveries to h...             0      1   \n",
       "2   freedom democracy future hope stand with demo...             1      1   \n",
       "3  the volcanic eruption that lasted for months a...             1      1   \n",
       "5  shorewood woman filmed spitting on protester a...             1      1   \n",
       "\n",
       "    timestamp  \n",
       "0  1591602185  \n",
       "1  1591601037  \n",
       "2  1591600365  \n",
       "3  1591599875  \n",
       "5  1591599331  "
      ]
     },
     "execution_count": 11,
     "metadata": {},
     "output_type": "execute_result"
    }
   ],
   "source": [
    "# Call `clean_data(dataframe)` function\n",
    "clean_data(df_not_onion)"
   ]
  },
  {
   "cell_type": "markdown",
   "metadata": {},
   "source": [
    "### Check Nulls"
   ]
  },
  {
   "cell_type": "code",
   "execution_count": 12,
   "metadata": {},
   "outputs": [
    {
     "data": {
      "text/html": [
       "<div>\n",
       "<style scoped>\n",
       "    .dataframe tbody tr th:only-of-type {\n",
       "        vertical-align: middle;\n",
       "    }\n",
       "\n",
       "    .dataframe tbody tr th {\n",
       "        vertical-align: top;\n",
       "    }\n",
       "\n",
       "    .dataframe thead th {\n",
       "        text-align: right;\n",
       "    }\n",
       "</style>\n",
       "<table border=\"1\" class=\"dataframe\">\n",
       "  <thead>\n",
       "    <tr style=\"text-align: right;\">\n",
       "      <th></th>\n",
       "      <th>TheOnion</th>\n",
       "      <th>notheonion</th>\n",
       "    </tr>\n",
       "  </thead>\n",
       "  <tbody>\n",
       "    <tr>\n",
       "      <th>Unnamed: 0</th>\n",
       "      <td>0</td>\n",
       "      <td>0</td>\n",
       "    </tr>\n",
       "    <tr>\n",
       "      <th>subreddit</th>\n",
       "      <td>0</td>\n",
       "      <td>0</td>\n",
       "    </tr>\n",
       "    <tr>\n",
       "      <th>author</th>\n",
       "      <td>0</td>\n",
       "      <td>0</td>\n",
       "    </tr>\n",
       "    <tr>\n",
       "      <th>domain</th>\n",
       "      <td>0</td>\n",
       "      <td>0</td>\n",
       "    </tr>\n",
       "    <tr>\n",
       "      <th>title</th>\n",
       "      <td>0</td>\n",
       "      <td>0</td>\n",
       "    </tr>\n",
       "    <tr>\n",
       "      <th>num_comments</th>\n",
       "      <td>0</td>\n",
       "      <td>0</td>\n",
       "    </tr>\n",
       "    <tr>\n",
       "      <th>score</th>\n",
       "      <td>0</td>\n",
       "      <td>0</td>\n",
       "    </tr>\n",
       "    <tr>\n",
       "      <th>timestamp</th>\n",
       "      <td>0</td>\n",
       "      <td>0</td>\n",
       "    </tr>\n",
       "  </tbody>\n",
       "</table>\n",
       "</div>"
      ],
      "text/plain": [
       "              TheOnion  notheonion\n",
       "Unnamed: 0           0           0\n",
       "subreddit            0           0\n",
       "author               0           0\n",
       "domain               0           0\n",
       "title                0           0\n",
       "num_comments         0           0\n",
       "score                0           0\n",
       "timestamp            0           0"
      ]
     },
     "execution_count": 12,
     "metadata": {},
     "output_type": "execute_result"
    }
   ],
   "source": [
    "# Create a DataFrame to check nulls\n",
    "pd.DataFrame([df_onion.isnull().sum(),df_not_onion.isnull().sum()], index=[\"TheOnion\",\"notheonion\"]).T"
   ]
  },
  {
   "cell_type": "markdown",
   "metadata": {},
   "source": [
    "\n",
    "## Exploratory Data Analysis (EDA)"
   ]
  },
  {
   "cell_type": "markdown",
   "metadata": {},
   "source": [
    "### Date Range of Scraped Posts"
   ]
  },
  {
   "cell_type": "code",
   "execution_count": 13,
   "metadata": {},
   "outputs": [
    {
     "name": "stdout",
     "output_type": "stream",
     "text": [
      "TheOnion start date: 2016-07-21 18:28:33\n",
      "TheOnion end date: 2020-06-07 22:00:59\n",
      "nottheonion start date: 2020-03-25 03:35:08\n",
      "nottheonion end date: 2020-06-08 07:43:05\n"
     ]
    }
   ],
   "source": [
    "# Convert Unix Timestamp to Datetime\n",
    "df_onion['timestamp'] = pd.to_datetime(df_onion['timestamp'], unit='s')\n",
    "df_not_onion['timestamp'] = pd.to_datetime(df_not_onion['timestamp'], unit='s')\n",
    "\n",
    "# Show date-range of posts scraped from r/TheOnion and r/nottheonion\n",
    "print(\"TheOnion start date:\", df_onion['timestamp'].min())\n",
    "print(\"TheOnion end date:\", df_onion['timestamp'].max())\n",
    "print(\"nottheonion start date:\", df_not_onion['timestamp'].min())\n",
    "print(\"nottheonion end date:\", df_not_onion['timestamp'].max())"
   ]
  },
  {
   "cell_type": "markdown",
   "metadata": {},
   "source": [
    "### Bar Plot Function"
   ]
  },
  {
   "cell_type": "code",
   "execution_count": 14,
   "metadata": {},
   "outputs": [],
   "source": [
    "def bar_plot(x, y, title, color):    \n",
    "    \n",
    "    # Set up barplot \n",
    "    plt.figure(figsize=(9,5))\n",
    "    g=sns.barplot(x, y, color = color)    \n",
    "    ax=g\n",
    "\n",
    "    # Label the graph\n",
    "    plt.title(title, fontsize = 15)\n",
    "    plt.xticks(fontsize = 10)\n",
    "\n",
    "    # Enable bar values\n",
    "    # Code modified from http://robertmitchellv.com/blog-bar-chart-annotations-pandas-mpl.html\n",
    "    # create a list to collect the plt.patches data\n",
    "    totals = []\n",
    "\n",
    "    # find the values and append to list\n",
    "    for p in ax.patches:\n",
    "        totals.append(p.get_width())\n",
    "\n",
    "    # set individual bar lables using above list\n",
    "    total = sum(totals)\n",
    "\n",
    "    # set individual bar lables using above list\n",
    "    for p in ax.patches:\n",
    "        # get_width pulls left or right; get_y pushes up or down\n",
    "        ax.text(p.get_width()+.3, p.get_y()+.38, \\\n",
    "                int(p.get_width()), fontsize=10)"
   ]
  },
  {
   "cell_type": "markdown",
   "metadata": {},
   "source": [
    "\n",
    "### r/TheOnion: Most Active Authors"
   ]
  },
  {
   "cell_type": "code",
   "execution_count": 15,
   "metadata": {},
   "outputs": [
    {
     "data": {
      "image/png": "[encoded data removed]",
      "text/plain": [
       "<Figure size 648x360 with 1 Axes>"
      ]
     },
     "metadata": {
      "image/png": {
       "height": 320,
       "width": 630
      },
      "needs_background": "light"
     },
     "output_type": "display_data"
    }
   ],
   "source": [
    "# Set x values: # of posts \n",
    "df_onion_authors = df_onion['author'].value_counts() \n",
    "df_onion_authors = df_onion_authors[df_onion_authors > 100].sort_values(ascending=False)\n",
    "\n",
    "# Set y values: Authors \n",
    "df_onion_authors_index = list(df_onion_authors.index)\n",
    "\n",
    "# Call function\n",
    "bar_plot(df_onion_authors.values, df_onion_authors_index, 'Most Active Authors: r/TheOnion', 'r')\n",
    "\n"
   ]
  },
  {
   "cell_type": "markdown",
   "metadata": {},
   "source": [
    "### r/nottheonion: Most Active Authors"
   ]
  },
  {
   "cell_type": "code",
   "execution_count": 16,
   "metadata": {},
   "outputs": [
    {
     "data": {
      "image/png": "[encoded data removed]",
      "text/plain": [
       "<Figure size 648x360 with 1 Axes>"
      ]
     },
     "metadata": {
      "image/png": {
       "height": 320,
       "width": 612
      },
      "needs_background": "light"
     },
     "output_type": "display_data"
    }
   ],
   "source": [
    "# Set x values: # of posts\n",
    "df_not_onion_authors = df_not_onion['author'].value_counts() \n",
    "df_not_onion_authors = df_not_onion_authors[df_not_onion_authors > 100].sort_values(ascending=False)\n",
    "\n",
    "# Set y values: Authors\n",
    "df_not_onion_authors_index = list(df_not_onion_authors.index)\n",
    "\n",
    "# Call function\n",
    "bar_plot(df_not_onion_authors.values, df_not_onion_authors_index, 'Most Active Authors: r/nottheonion','b')"
   ]
  },
  {
   "cell_type": "markdown",
   "metadata": {},
   "source": [
    "\n",
    "### r/TheOnion: Most Referenced Domains"
   ]
  },
  {
   "cell_type": "code",
   "execution_count": 17,
   "metadata": {},
   "outputs": [
    {
     "data": {
      "image/png": "[encoded data removed]",
      "text/plain": [
       "<Figure size 648x360 with 1 Axes>"
      ]
     },
     "metadata": {
      "image/png": {
       "height": 320,
       "width": 632
      },
      "needs_background": "light"
     },
     "output_type": "display_data"
    }
   ],
   "source": [
    "# Set x values: # of posts\n",
    "df_onion_domain = df_onion['domain'].value_counts() \n",
    "df_onion_domain = df_onion_domain.sort_values(ascending=False).head(5)\n",
    "\n",
    "# Set y values: Domains \n",
    "df_onion_domain_index = list(df_onion_domain.index)\n",
    "\n",
    "# Call function\n",
    "bar_plot(df_onion_domain.values, df_onion_domain_index, 'Most Referenced Domains: r/TheOnion','r')"
   ]
  },
  {
   "cell_type": "markdown",
   "metadata": {},
   "source": [
    "\n",
    "### r/nottheonion: Most Referenced Domains"
   ]
  },
  {
   "cell_type": "code",
   "execution_count": 18,
   "metadata": {},
   "outputs": [
    {
     "data": {
      "image/png": "[encoded data removed]",
      "text/plain": [
       "<Figure size 648x360 with 1 Axes>"
      ]
     },
     "metadata": {
      "image/png": {
       "height": 320,
       "width": 609
      },
      "needs_background": "light"
     },
     "output_type": "display_data"
    }
   ],
   "source": [
    "# Set x values: # of posts greater than 100\n",
    "df_nonion_domain = df_not_onion['domain'].value_counts() \n",
    "df_nonion_domain = df_nonion_domain.sort_values(ascending=False).head(5)\n",
    "\n",
    "# Set y values: Names of authors \n",
    "df_nonion_domain_index = list(df_nonion_domain.index)\n",
    "\n",
    "# Call function\n",
    "bar_plot(df_nonion_domain.values, df_nonion_domain_index, 'Most Referenced Domains: r/nottheonion','b')"
   ]
  },
  {
   "cell_type": "markdown",
   "metadata": {},
   "source": [
    "## Natural Language Processing (NLP)"
   ]
  },
  {
   "cell_type": "markdown",
   "metadata": {},
   "source": [
    "### Concatenate DataFrames"
   ]
  },
  {
   "cell_type": "code",
   "execution_count": 19,
   "metadata": {},
   "outputs": [
    {
     "data": {
      "text/html": [
       "<div>\n",
       "<style scoped>\n",
       "    .dataframe tbody tr th:only-of-type {\n",
       "        vertical-align: middle;\n",
       "    }\n",
       "\n",
       "    .dataframe tbody tr th {\n",
       "        vertical-align: top;\n",
       "    }\n",
       "\n",
       "    .dataframe thead th {\n",
       "        text-align: right;\n",
       "    }\n",
       "</style>\n",
       "<table border=\"1\" class=\"dataframe\">\n",
       "  <thead>\n",
       "    <tr style=\"text-align: right;\">\n",
       "      <th></th>\n",
       "      <th>subreddit</th>\n",
       "      <th>title</th>\n",
       "    </tr>\n",
       "  </thead>\n",
       "  <tbody>\n",
       "    <tr>\n",
       "      <th>0</th>\n",
       "      <td>TheOnion</td>\n",
       "      <td>family left elderly grandmother to die in nurs...</td>\n",
       "    </tr>\n",
       "    <tr>\n",
       "      <th>1</th>\n",
       "      <td>TheOnion</td>\n",
       "      <td>supreme court overturns right v wrong</td>\n",
       "    </tr>\n",
       "  </tbody>\n",
       "</table>\n",
       "</div>"
      ],
      "text/plain": [
       "  subreddit                                              title\n",
       "0  TheOnion  family left elderly grandmother to die in nurs...\n",
       "1  TheOnion             supreme court overturns right v wrong "
      ]
     },
     "execution_count": 19,
     "metadata": {},
     "output_type": "execute_result"
    }
   ],
   "source": [
    "# Combine df_onion & df_not_onion with only 'subreddit' (target) and 'title' (predictor) columns\n",
    "df = pd.concat([df_onion[['subreddit', 'title']], df_not_onion[['subreddit', 'title']]], axis=0)\n",
    "\n",
    "#Reset the index\n",
    "df = df.reset_index(drop=True)\n",
    "\n",
    "# Preview head of df to show 'TheOnion' titles appear\n",
    "df.head(2)"
   ]
  },
  {
   "cell_type": "code",
   "execution_count": 20,
   "metadata": {},
   "outputs": [
    {
     "data": {
      "text/html": [
       "<div>\n",
       "<style scoped>\n",
       "    .dataframe tbody tr th:only-of-type {\n",
       "        vertical-align: middle;\n",
       "    }\n",
       "\n",
       "    .dataframe tbody tr th {\n",
       "        vertical-align: top;\n",
       "    }\n",
       "\n",
       "    .dataframe thead th {\n",
       "        text-align: right;\n",
       "    }\n",
       "</style>\n",
       "<table border=\"1\" class=\"dataframe\">\n",
       "  <thead>\n",
       "    <tr style=\"text-align: right;\">\n",
       "      <th></th>\n",
       "      <th>subreddit</th>\n",
       "      <th>title</th>\n",
       "    </tr>\n",
       "  </thead>\n",
       "  <tbody>\n",
       "    <tr>\n",
       "      <th>25813</th>\n",
       "      <td>nottheonion</td>\n",
       "      <td>alleged home invader leaves poop on victim s f...</td>\n",
       "    </tr>\n",
       "    <tr>\n",
       "      <th>25814</th>\n",
       "      <td>nottheonion</td>\n",
       "      <td>kentucky patient gets coronavirus after attend...</td>\n",
       "    </tr>\n",
       "  </tbody>\n",
       "</table>\n",
       "</div>"
      ],
      "text/plain": [
       "         subreddit                                              title\n",
       "25813  nottheonion  alleged home invader leaves poop on victim s f...\n",
       "25814  nottheonion  kentucky patient gets coronavirus after attend..."
      ]
     },
     "execution_count": 20,
     "metadata": {},
     "output_type": "execute_result"
    }
   ],
   "source": [
    "# Preview head of df to show 'nottheonion' titles appear\n",
    "df.tail(2)"
   ]
  },
  {
   "cell_type": "markdown",
   "metadata": {},
   "source": [
    "### Binarize Target subreddit"
   ]
  },
  {
   "cell_type": "code",
   "execution_count": 21,
   "metadata": {},
   "outputs": [
    {
     "name": "stdout",
     "output_type": "stream",
     "text": [
      "(25815, 2)\n"
     ]
    },
    {
     "data": {
      "text/html": [
       "<div>\n",
       "<style scoped>\n",
       "    .dataframe tbody tr th:only-of-type {\n",
       "        vertical-align: middle;\n",
       "    }\n",
       "\n",
       "    .dataframe tbody tr th {\n",
       "        vertical-align: top;\n",
       "    }\n",
       "\n",
       "    .dataframe thead th {\n",
       "        text-align: right;\n",
       "    }\n",
       "</style>\n",
       "<table border=\"1\" class=\"dataframe\">\n",
       "  <thead>\n",
       "    <tr style=\"text-align: right;\">\n",
       "      <th></th>\n",
       "      <th>subreddit</th>\n",
       "      <th>title</th>\n",
       "    </tr>\n",
       "  </thead>\n",
       "  <tbody>\n",
       "    <tr>\n",
       "      <th>0</th>\n",
       "      <td>1</td>\n",
       "      <td>family left elderly grandmother to die in nurs...</td>\n",
       "    </tr>\n",
       "    <tr>\n",
       "      <th>1</th>\n",
       "      <td>1</td>\n",
       "      <td>supreme court overturns right v wrong</td>\n",
       "    </tr>\n",
       "  </tbody>\n",
       "</table>\n",
       "</div>"
      ],
      "text/plain": [
       "   subreddit                                              title\n",
       "0          1  family left elderly grandmother to die in nurs...\n",
       "1          1             supreme court overturns right v wrong "
      ]
     },
     "execution_count": 21,
     "metadata": {},
     "output_type": "execute_result"
    }
   ],
   "source": [
    "# Replace `TheOnion` with 1, `nottheonion` with 0\n",
    "df[\"subreddit\"] = df[\"subreddit\"].map({\"nottheonion\": 0, \"TheOnion\": 1})\n",
    "\n",
    "# Print shape of df\n",
    "print(df.shape)\n",
    "\n",
    "# Preview head of df to show 1s\n",
    "df.head(2)"
   ]
  },
  {
   "cell_type": "code",
   "execution_count": 22,
   "metadata": {},
   "outputs": [
    {
     "data": {
      "text/html": [
       "<div>\n",
       "<style scoped>\n",
       "    .dataframe tbody tr th:only-of-type {\n",
       "        vertical-align: middle;\n",
       "    }\n",
       "\n",
       "    .dataframe tbody tr th {\n",
       "        vertical-align: top;\n",
       "    }\n",
       "\n",
       "    .dataframe thead th {\n",
       "        text-align: right;\n",
       "    }\n",
       "</style>\n",
       "<table border=\"1\" class=\"dataframe\">\n",
       "  <thead>\n",
       "    <tr style=\"text-align: right;\">\n",
       "      <th></th>\n",
       "      <th>subreddit</th>\n",
       "      <th>title</th>\n",
       "    </tr>\n",
       "  </thead>\n",
       "  <tbody>\n",
       "    <tr>\n",
       "      <th>25813</th>\n",
       "      <td>0</td>\n",
       "      <td>alleged home invader leaves poop on victim s f...</td>\n",
       "    </tr>\n",
       "    <tr>\n",
       "      <th>25814</th>\n",
       "      <td>0</td>\n",
       "      <td>kentucky patient gets coronavirus after attend...</td>\n",
       "    </tr>\n",
       "  </tbody>\n",
       "</table>\n",
       "</div>"
      ],
      "text/plain": [
       "       subreddit                                              title\n",
       "25813          0  alleged home invader leaves poop on victim s f...\n",
       "25814          0  kentucky patient gets coronavirus after attend..."
      ]
     },
     "execution_count": 22,
     "metadata": {},
     "output_type": "execute_result"
    }
   ],
   "source": [
    "# Preview tail of df to show 0s\n",
    "df.tail(2)"
   ]
  },
  {
   "cell_type": "markdown",
   "metadata": {},
   "source": [
    "\n",
    "## Apply CountVectorizer()\n",
    "### Count Vectorize df where subreddit is 1"
   ]
  },
  {
   "cell_type": "code",
   "execution_count": 23,
   "metadata": {},
   "outputs": [
    {
     "name": "stdout",
     "output_type": "stream",
     "text": [
      "(14013, 15065)\n"
     ]
    }
   ],
   "source": [
    "# Set variables to show TheOnion Titles\n",
    "mask_on = df['subreddit'] == 1\n",
    "df_onion_titles = df[mask_on]['title']\n",
    "\n",
    "# Instantiate a CountVectorizer\n",
    "cv1 = CountVectorizer(stop_words = 'english')\n",
    "\n",
    "# Fit and transform the vectorizer on our corpus\n",
    "onion_cvec = cv1.fit_transform(df_onion_titles)\n",
    "\n",
    "# Convert onion_cvec into a DataFrame\n",
    "onion_cvec_df = pd.DataFrame(onion_cvec.toarray(),\n",
    "                   columns=cv1.get_feature_names())\n",
    "\n",
    "# Inspect head of Onion Titles cvec\n",
    "print(onion_cvec_df.shape)"
   ]
  },
  {
   "cell_type": "markdown",
   "metadata": {},
   "source": [
    "### Count Vectorize df where subreddit is 0"
   ]
  },
  {
   "cell_type": "code",
   "execution_count": 24,
   "metadata": {},
   "outputs": [
    {
     "name": "stdout",
     "output_type": "stream",
     "text": [
      "(11802, 14154)\n"
     ]
    }
   ],
   "source": [
    "# Set variables to show NotTheOnion Titles\n",
    "mask_no = df['subreddit'] == 0\n",
    "df_not_onion_titles = df[mask_no]['title']\n",
    "\n",
    "# Instantiate a CountVectorizer\n",
    "cv2 = CountVectorizer(stop_words = 'english')\n",
    "\n",
    "# Fit and transform the vectorizer on our corpus\n",
    "not_onion_cvec = cv2.fit_transform(df_not_onion_titles)\n",
    "\n",
    "# Convert onion_cvec into a DataFrame\n",
    "not_onion_cvec_df = pd.DataFrame(not_onion_cvec.toarray(),\n",
    "                   columns=cv2.get_feature_names())\n",
    "\n",
    "# Inspect head of Not Onion Titles cvec\n",
    "print(not_onion_cvec_df.shape)"
   ]
  },
  {
   "cell_type": "markdown",
   "metadata": {},
   "source": [
    "### r/TheOnion: Top 5 Unigrams"
   ]
  },
  {
   "cell_type": "code",
   "execution_count": 25,
   "metadata": {},
   "outputs": [
    {
     "data": {
      "image/png": "[encoded data removed]",
      "text/plain": [
       "<Figure size 648x360 with 1 Axes>"
      ]
     },
     "metadata": {
      "image/png": {
       "height": 320,
       "width": 554
      },
      "needs_background": "light"
     },
     "output_type": "display_data"
    }
   ],
   "source": [
    "# Set up variables to contain top 5 most used words in Onion\n",
    "onion_wc = onion_cvec_df.sum(axis = 0)\n",
    "onion_top_5 = onion_wc.sort_values(ascending=False).head(5)\n",
    "\n",
    "# Call function\n",
    "bar_plot(onion_top_5.values, onion_top_5.index, 'Top 5 unigrams on r/TheOnion','r')"
   ]
  },
  {
   "cell_type": "markdown",
   "metadata": {},
   "source": [
    "### r/nottheonion: Top 5 Unigrams"
   ]
  },
  {
   "cell_type": "code",
   "execution_count": 26,
   "metadata": {},
   "outputs": [
    {
     "data": {
      "image/png": "[encoded data removed]",
      "text/plain": [
       "<Figure size 648x360 with 1 Axes>"
      ]
     },
     "metadata": {
      "image/png": {
       "height": 320,
       "width": 583
      },
      "needs_background": "light"
     },
     "output_type": "display_data"
    }
   ],
   "source": [
    "# Set up variables to contain top 5 most used words in Onion\n",
    "nonion_wc = not_onion_cvec_df.sum(axis = 0)\n",
    "nonion_top_5 = nonion_wc.sort_values(ascending=False).head(5)\n",
    "\n",
    "# Call function\n",
    "bar_plot(nonion_top_5.values, nonion_top_5.index, 'Top 5 unigrams on r/nottheonion','b')\n",
    "\n"
   ]
  },
  {
   "cell_type": "markdown",
   "metadata": {},
   "source": [
    "### Common Unigrams between Top 5 in r/TheOnion & r/nottheonion"
   ]
  },
  {
   "cell_type": "code",
   "execution_count": 27,
   "metadata": {},
   "outputs": [
    {
     "data": {
      "text/plain": [
       "{'man', 'trump'}"
      ]
     },
     "execution_count": 27,
     "metadata": {},
     "output_type": "execute_result"
    }
   ],
   "source": [
    "# Create list of unique words in top five\n",
    "not_onion_5_set = set(nonion_top_5.index)\n",
    "onion_5_set = set(onion_top_5.index)\n",
    "\n",
    "# Return common words\n",
    "common_unigrams = onion_5_set.intersection(not_onion_5_set)\n",
    "common_unigrams"
   ]
  },
  {
   "cell_type": "markdown",
   "metadata": {},
   "source": [
    "### Count Vectorize df where subreddit is 1"
   ]
  },
  {
   "cell_type": "code",
   "execution_count": 28,
   "metadata": {},
   "outputs": [
    {
     "name": "stdout",
     "output_type": "stream",
     "text": [
      "(14013, 53286)\n"
     ]
    }
   ],
   "source": [
    "# Set variables to show TheOnion Titles\n",
    "mask = df['subreddit'] == 1\n",
    "df_onion_titles = df[mask]['title']\n",
    "\n",
    "# Instantiate a CountVectorizer\n",
    "cv = CountVectorizer(stop_words = 'english', ngram_range=(2,2))\n",
    "\n",
    "# Fit and transform the vectorizer on our corpus\n",
    "onion_cvec = cv.fit_transform(df_onion_titles)\n",
    "\n",
    "# Convert onion_cvec into a DataFrame\n",
    "onion_cvec_df = pd.DataFrame(onion_cvec.toarray(),\n",
    "                   columns=cv.get_feature_names())\n",
    "\n",
    "# Inspect head of Onion Titles cvec\n",
    "print(onion_cvec_df.shape)"
   ]
  },
  {
   "cell_type": "markdown",
   "metadata": {},
   "source": [
    "### Count Vectorize df where subreddit is 0"
   ]
  },
  {
   "cell_type": "code",
   "execution_count": 29,
   "metadata": {},
   "outputs": [
    {
     "name": "stdout",
     "output_type": "stream",
     "text": [
      "(11802, 59415)\n"
     ]
    }
   ],
   "source": [
    "# Set variables to show NotTheOnion Titles\n",
    "mask = df['subreddit'] == 0\n",
    "df_not_onion_titles = df[mask]['title']\n",
    "\n",
    "# Instantiate a CountVectorizer\n",
    "cv = CountVectorizer(stop_words = 'english', ngram_range=(2,2))\n",
    "\n",
    "# Fit and transform the vectorizer on our corpus\n",
    "not_onion_cvec = cv.fit_transform(df_not_onion_titles)\n",
    "\n",
    "# Convert onion_cvec into a DataFrame\n",
    "not_onion_cvec_df = pd.DataFrame(not_onion_cvec.toarray(),\n",
    "                   columns=cv.get_feature_names())\n",
    "\n",
    "# Inspect head of Not Onion Titles cvec\n",
    "print(not_onion_cvec_df.shape)"
   ]
  },
  {
   "cell_type": "markdown",
   "metadata": {},
   "source": [
    "### r/TheOnion: Top 5 Bigrams"
   ]
  },
  {
   "cell_type": "code",
   "execution_count": 30,
   "metadata": {},
   "outputs": [
    {
     "data": {
      "image/png": "[encoded data removed]",
      "text/plain": [
       "<Figure size 648x360 with 1 Axes>"
      ]
     },
     "metadata": {
      "image/png": {
       "height": 320,
       "width": 593
      },
      "needs_background": "light"
     },
     "output_type": "display_data"
    }
   ],
   "source": [
    "# Set up variables to contain top 5 most used bigrams in r/TheOnion\n",
    "onion_wc = onion_cvec_df.sum(axis = 0)\n",
    "onion_top_5 = onion_wc.sort_values(ascending=False).head(5)\n",
    "\n",
    "# Call function\n",
    "bar_plot(onion_top_5.values, onion_top_5.index, 'Top 5 bigrams on r/TheOnion','r')"
   ]
  },
  {
   "cell_type": "markdown",
   "metadata": {},
   "source": [
    "### r/nottheonion: Top 5 Bigrams"
   ]
  },
  {
   "cell_type": "code",
   "execution_count": 31,
   "metadata": {},
   "outputs": [
    {
     "data": {
      "image/png": "[encoded data removed]",
      "text/plain": [
       "<Figure size 648x360 with 1 Axes>"
      ]
     },
     "metadata": {
      "image/png": {
       "height": 320,
       "width": 635
      },
      "needs_background": "light"
     },
     "output_type": "display_data"
    }
   ],
   "source": [
    "# Set up variables to contain top 5 most used bigrams in r/nottheonion\n",
    "nonion_wc = not_onion_cvec_df.sum(axis = 0)\n",
    "nonion_top_5 = nonion_wc.sort_values(ascending=False).head(5)\n",
    "\n",
    "# Call function\n",
    "bar_plot(nonion_top_5.values, nonion_top_5.index, 'Top 5 bigrams on r/nottheonion','b')"
   ]
  },
  {
   "cell_type": "markdown",
   "metadata": {},
   "source": [
    "\n",
    "### Common Bigrams between Top 5 in r/TheOnion & r/nottheonion"
   ]
  },
  {
   "cell_type": "code",
   "execution_count": 32,
   "metadata": {},
   "outputs": [
    {
     "data": {
      "text/plain": [
       "{'year old'}"
      ]
     },
     "execution_count": 32,
     "metadata": {},
     "output_type": "execute_result"
    }
   ],
   "source": [
    "not_onion_5_list = set(nonion_top_5.index)\n",
    "onion_5_list = set(onion_top_5.index)\n",
    "\n",
    "# Return common words\n",
    "common_bigrams = onion_5_list.intersection(not_onion_5_list)\n",
    "common_bigrams"
   ]
  },
  {
   "cell_type": "markdown",
   "metadata": {},
   "source": [
    "### Create custom stop_words to include common frequent words"
   ]
  },
  {
   "cell_type": "code",
   "execution_count": 33,
   "metadata": {},
   "outputs": [],
   "source": [
    "# Create lists \n",
    "custom = stop_words.ENGLISH_STOP_WORDS\n",
    "custom = list(custom)\n",
    "common_unigrams = list(common_unigrams)\n",
    "common_bigrams = list(common_bigrams)\n",
    "\n",
    "# Append unigrams to list \n",
    "for i in common_unigrams:\n",
    "    custom.append(i)\n",
    "\n",
    "    \n",
    "# Append bigrams to list \n",
    "for i in common_bigrams:\n",
    "    split_words = i.split(\" \")\n",
    "    for word in split_words:\n",
    "        custom.append(word)"
   ]
  },
  {
   "cell_type": "markdown",
   "metadata": {},
   "source": [
    "## Modeling"
   ]
  },
  {
   "cell_type": "markdown",
   "metadata": {},
   "source": [
    "### Baseline Score"
   ]
  },
  {
   "cell_type": "code",
   "execution_count": 34,
   "metadata": {},
   "outputs": [
    {
     "data": {
      "text/plain": [
       "1    0.542824\n",
       "0    0.457176\n",
       "Name: subreddit, dtype: float64"
      ]
     },
     "execution_count": 34,
     "metadata": {},
     "output_type": "execute_result"
    }
   ],
   "source": [
    "# Baseline score\n",
    "df['subreddit'].value_counts(normalize=True)"
   ]
  },
  {
   "cell_type": "markdown",
   "metadata": {},
   "source": [
    "### Set X (predictor) and y (target) variables"
   ]
  },
  {
   "cell_type": "code",
   "execution_count": 35,
   "metadata": {},
   "outputs": [],
   "source": [
    "X = df['title']\n",
    "y = df['subreddit']"
   ]
  },
  {
   "cell_type": "markdown",
   "metadata": {},
   "source": [
    "\n",
    "### Train/Test Split"
   ]
  },
  {
   "cell_type": "code",
   "execution_count": 36,
   "metadata": {},
   "outputs": [],
   "source": [
    "X_train, X_test, y_train, y_test = train_test_split(X,\n",
    "                                                    y,\n",
    "                                                    random_state=42,\n",
    "                                                    stratify=y)"
   ]
  },
  {
   "cell_type": "markdown",
   "metadata": {},
   "source": [
    "### Model 1: CountVectorizer & Logistic Regression (Best Coefficient Interpretability)"
   ]
  },
  {
   "cell_type": "code",
   "execution_count": 37,
   "metadata": {},
   "outputs": [
    {
     "name": "stdout",
     "output_type": "stream",
     "text": [
      "Best score: 0.8525387571576046\n",
      "Train score 0.9605392283456433\n",
      "Test score 0.8611713665943601\n"
     ]
    },
    {
     "data": {
      "text/plain": [
       "{'cvec__ngram_range': (1, 1), 'cvec__stop_words': None, 'lr__C': 1}"
      ]
     },
     "execution_count": 37,
     "metadata": {},
     "output_type": "execute_result"
    }
   ],
   "source": [
    "pipe = Pipeline([('cvec', CountVectorizer()),    \n",
    "                 ('lr', LogisticRegression(solver='liblinear'))])\n",
    "\n",
    "# Tune GridSearchCV\n",
    "pipe_params = {'cvec__stop_words': [None, 'english', custom],\n",
    "               'cvec__ngram_range': [(1,1), (2,2), (1,3)],\n",
    "               'lr__C': [0.01, 1]}\n",
    "\n",
    "gs = GridSearchCV(pipe, param_grid=pipe_params, cv=3)\n",
    "gs.fit(X_train, y_train);\n",
    "print(\"Best score:\", gs.best_score_)\n",
    "print(\"Train score\", gs.score(X_train, y_train))\n",
    "print(\"Test score\", gs.score(X_test, y_test))\n",
    "\n",
    "gs.best_params_"
   ]
  },
  {
   "cell_type": "markdown",
   "metadata": {},
   "source": [
    "### Model 2: TfidfVectorize & Logistic Regression"
   ]
  },
  {
   "cell_type": "code",
   "execution_count": 38,
   "metadata": {},
   "outputs": [
    {
     "name": "stdout",
     "output_type": "stream",
     "text": [
      "Best score: 0.8494397756749626\n",
      "Train score 0.9176695418625072\n",
      "Test score 0.858072513170127\n"
     ]
    },
    {
     "data": {
      "text/plain": [
       "{'lr__C': 1,\n",
       " 'tvect__max_df': 0.75,\n",
       " 'tvect__min_df': 3,\n",
       " 'tvect__ngram_range': (1, 3)}"
      ]
     },
     "execution_count": 38,
     "metadata": {},
     "output_type": "execute_result"
    }
   ],
   "source": [
    "pipe = Pipeline([('tvect', TfidfVectorizer()),    \n",
    "                 ('lr', LogisticRegression(solver='liblinear'))])\n",
    "\n",
    "# Tune GridSearchCV\n",
    "pipe_params = {'tvect__max_df': [.75, .98, 1.0],\n",
    "               'tvect__min_df': [2, 3, 5],\n",
    "               'tvect__ngram_range': [(1,1), (1,2), (1,3)],\n",
    "               'lr__C': [1]}\n",
    "\n",
    "gs = GridSearchCV(pipe, param_grid=pipe_params, cv=3)\n",
    "gs.fit(X_train, y_train);\n",
    "print(\"Best score:\", gs.best_score_)\n",
    "print(\"Train score\", gs.score(X_train, y_train))\n",
    "print(\"Test score\", gs.score(X_test, y_test))\n",
    "\n",
    "gs.best_params_"
   ]
  },
  {
   "cell_type": "markdown",
   "metadata": {},
   "source": [
    "\n",
    "### Model 3: CountVectorizer & MultinomialNB (Best Accuracy Score)"
   ]
  },
  {
   "cell_type": "code",
   "execution_count": 39,
   "metadata": {},
   "outputs": [
    {
     "name": "stdout",
     "output_type": "stream",
     "text": [
      "Best score: 0.8782087055290964\n",
      "Train score 0.9948349775321522\n",
      "Test score 0.8875116207003408\n"
     ]
    },
    {
     "data": {
      "text/plain": [
       "{'cvec__ngram_range': (1, 3), 'nb__alpha': 0.6}"
      ]
     },
     "execution_count": 39,
     "metadata": {},
     "output_type": "execute_result"
    }
   ],
   "source": [
    "pipe = Pipeline([('cvec', CountVectorizer()),    \n",
    "                 ('nb', MultinomialNB())])\n",
    "\n",
    "# Tune GridSearchCV\n",
    "pipe_params = {'cvec__ngram_range': [(1,1),(1,3)],\n",
    "               'nb__alpha': [.36, .6]}\n",
    "\n",
    "gs = GridSearchCV(pipe, param_grid=pipe_params, cv=3)\n",
    "gs.fit(X_train, y_train);\n",
    "print(\"Best score:\", gs.best_score_)\n",
    "print(\"Train score\", gs.score(X_train, y_train))\n",
    "print(\"Test score\", gs.score(X_test, y_test))\n",
    "\n",
    "gs.best_params_"
   ]
  },
  {
   "cell_type": "markdown",
   "metadata": {},
   "source": [
    "\n",
    "### Model 4: TfidfVectorizer & MultinomialNB"
   ]
  },
  {
   "cell_type": "code",
   "execution_count": 40,
   "metadata": {},
   "outputs": [
    {
     "name": "stdout",
     "output_type": "stream",
     "text": [
      "Best score: 0.8616808888831985\n",
      "Train score 0.919064097928826\n",
      "Test score 0.8605515959095135\n"
     ]
    },
    {
     "data": {
      "text/plain": [
       "{'nb__alpha': 0.1,\n",
       " 'tvect__max_df': 0.75,\n",
       " 'tvect__min_df': 4,\n",
       " 'tvect__ngram_range': (1, 2)}"
      ]
     },
     "execution_count": 40,
     "metadata": {},
     "output_type": "execute_result"
    }
   ],
   "source": [
    "pipe = Pipeline([('tvect', TfidfVectorizer()),    \n",
    "                 ('nb', MultinomialNB())])\n",
    "\n",
    "# Tune GridSearchCV\n",
    "pipe_params = {'tvect__max_df': [.75, .98],\n",
    "               'tvect__min_df': [4, 5],\n",
    "               'tvect__ngram_range': [(1,2), (1,3)],\n",
    "               'nb__alpha': [0.1, 1]}\n",
    "\n",
    "gs = GridSearchCV(pipe, param_grid=pipe_params, cv=5)\n",
    "gs.fit(X_train, y_train);\n",
    "print(\"Best score:\", gs.best_score_)\n",
    "print(\"Train score\", gs.score(X_train, y_train))\n",
    "print(\"Test score\", gs.score(X_test, y_test))\n",
    "\n",
    "gs.best_params_"
   ]
  },
  {
   "cell_type": "markdown",
   "metadata": {},
   "source": [
    "## Best Models"
   ]
  },
  {
   "cell_type": "markdown",
   "metadata": {},
   "source": [
    "### CountVectorizer & MultinomialNB: Best Score"
   ]
  },
  {
   "cell_type": "code",
   "execution_count": 41,
   "metadata": {},
   "outputs": [
    {
     "name": "stdout",
     "output_type": "stream",
     "text": [
      "0.8873566780291292\n"
     ]
    }
   ],
   "source": [
    "#Instantiate the classifier and vectorizer\n",
    "nb = MultinomialNB(alpha = 0.36)\n",
    "cvec = CountVectorizer(ngram_range= (1, 3))\n",
    "\n",
    "# Fit and transform the vectorizor\n",
    "cvec.fit(X_train)\n",
    "\n",
    "Xcvec_train = cvec.transform(X_train)\n",
    "Xcvec_test = cvec.transform(X_test)\n",
    "\n",
    "# Fit the classifier\n",
    "nb.fit(Xcvec_train,y_train)\n",
    "\n",
    "# Create the predictions for Y training data\n",
    "preds = nb.predict(Xcvec_test)\n",
    "\n",
    "print(nb.score(Xcvec_test, y_test))"
   ]
  },
  {
   "cell_type": "markdown",
   "metadata": {},
   "source": [
    "### Confusion Matrix"
   ]
  },
  {
   "cell_type": "code",
   "execution_count": 42,
   "metadata": {},
   "outputs": [
    {
     "data": {
      "text/plain": [
       "array([[2580,  371],\n",
       "       [ 356, 3147]], dtype=int64)"
      ]
     },
     "execution_count": 42,
     "metadata": {},
     "output_type": "execute_result"
    }
   ],
   "source": [
    "# Create a confusion matrix\n",
    "cnf_matrix = metrics.confusion_matrix(y_test, preds)\n",
    "cnf_matrix"
   ]
  },
  {
   "cell_type": "code",
   "execution_count": 43,
   "metadata": {},
   "outputs": [
    {
     "data": {
      "text/plain": [
       "Text(0.5, 257.44, 'Predicted label')"
      ]
     },
     "execution_count": 43,
     "metadata": {},
     "output_type": "execute_result"
    },
    {
     "data": {
      "image/png": "[encoded data removed]",
      "text/plain": [
       "<Figure size 432x288 with 2 Axes>"
      ]
     },
     "metadata": {
      "image/png": {
       "height": 307,
       "width": 423
      },
      "needs_background": "light"
     },
     "output_type": "display_data"
    }
   ],
   "source": [
    "# Code from https://www.datacamp.com/community/tutorials/understanding-logistic-regression-python\n",
    "\n",
    "# name  of classes\n",
    "class_names=[0,1] \n",
    "\n",
    "# Set fig and axes \n",
    "fig, ax = plt.subplots()\n",
    "tick_marks = np.arange(len(class_names))\n",
    "plt.xticks(tick_marks, class_names)\n",
    "plt.yticks(tick_marks, class_names)\n",
    "\n",
    "# Create heatmap\n",
    "sns.heatmap(pd.DataFrame(cnf_matrix), annot=True, cmap=\"YlGnBu\" ,fmt='g')\n",
    "ax.xaxis.set_label_position(\"top\")\n",
    "plt.tight_layout()\n",
    "plt.title('Confusion matrix', y=1.1)\n",
    "plt.ylabel('Actual label')\n",
    "plt.xlabel('Predicted label')"
   ]
  },
  {
   "cell_type": "code",
   "execution_count": 44,
   "metadata": {},
   "outputs": [],
   "source": [
    "# Assign True Neg, False Pos, False Neg, True Pos variables\n",
    "cnf_matrix = np.array(cnf_matrix).tolist()\n",
    "\n",
    "tn_fp, fn_tp = cnf_matrix\n",
    "\n",
    "tn, fp = tn_fp\n",
    "fn, tp = fn_tp"
   ]
  },
  {
   "cell_type": "code",
   "execution_count": 45,
   "metadata": {},
   "outputs": [
    {
     "name": "stdout",
     "output_type": "stream",
     "text": [
      "Accuracy: 88.74 %\n",
      "Precision: 89.45 %\n",
      "Recall: 89.84 %\n",
      "Specificity: 87.43 %\n",
      "Misclassification Rate: 12.35 %\n"
     ]
    }
   ],
   "source": [
    "# Print Scores \n",
    "\n",
    "print(\"Accuracy:\",round(metrics.accuracy_score(y_test, preds)*100, 2),'%')\n",
    "print(\"Precision:\",round(metrics.precision_score(y_test, preds)*100, 2), '%')\n",
    "print(\"Recall:\",round(metrics.recall_score(y_test, preds)*100, 2), '%')\n",
    "print(\"Specificity:\", round((tn/(tn+fp))*100, 2), '%')\n",
    "print(\"Misclassification Rate:\", round((fp+fn)/(tn+fp+fn+tn)*100, 2), '%')"
   ]
  },
  {
   "cell_type": "markdown",
   "metadata": {},
   "source": [
    "### CountVectorizer & Logistic Regression: Best Coefficient Interpretability"
   ]
  },
  {
   "cell_type": "code",
   "execution_count": 46,
   "metadata": {},
   "outputs": [],
   "source": [
    "# Customize stop_words to include `onion` so that it doesn't appear\n",
    "# in coefficients \n",
    "\n",
    "stop_words_onion = stop_words.ENGLISH_STOP_WORDS\n",
    "stop_words_onion = list(stop_words_onion)\n",
    "stop_words_onion.append('onion')"
   ]
  },
  {
   "cell_type": "code",
   "execution_count": 47,
   "metadata": {},
   "outputs": [
    {
     "name": "stdout",
     "output_type": "stream",
     "text": [
      "0.8591571118686087\n"
     ]
    }
   ],
   "source": [
    "#Instantiate the classifier and vectorizer\n",
    "lr = LogisticRegression(C = 1.0, solver='liblinear')\n",
    "cvec2 = CountVectorizer(stop_words = stop_words_onion)\n",
    "\n",
    "# Fit and transform the vectorizor\n",
    "cvec2.fit(X_train)\n",
    "\n",
    "Xcvec2_train = cvec2.transform(X_train)\n",
    "Xcvec2_test = cvec2.transform(X_test)\n",
    "\n",
    "# Fit the classifier\n",
    "lr.fit(Xcvec2_train,y_train)\n",
    "\n",
    "# Create the predictions for Y training data\n",
    "lr_preds = lr.predict(Xcvec2_test)\n",
    "\n",
    "print(lr.score(Xcvec2_test, y_test))"
   ]
  },
  {
   "cell_type": "markdown",
   "metadata": {},
   "source": [
    "### Coefficient Analysis"
   ]
  },
  {
   "cell_type": "code",
   "execution_count": 48,
   "metadata": {},
   "outputs": [
    {
     "data": {
      "image/png": "[encoded data removed]",
      "text/plain": [
       "<Figure size 576x432 with 1 Axes>"
      ]
     },
     "metadata": {
      "image/png": {
       "height": 406,
       "width": 530
      },
      "needs_background": "light"
     },
     "output_type": "display_data"
    }
   ],
   "source": [
    "# Create list of logistic regression coefficients \n",
    "lr_coef = np.array(lr.coef_).tolist()\n",
    "lr_coef = lr_coef[0]\n",
    "\n",
    "# create dataframe from lasso coef\n",
    "lr_coef = pd.DataFrame(np.round_(lr_coef, decimals=3), \n",
    "cvec2.get_feature_names(), columns = [\"penalized_regression_coefficients\"])\n",
    "\n",
    "# sort the values from high to low\n",
    "lr_coef = lr_coef.sort_values(by = 'penalized_regression_coefficients', \n",
    "ascending = False)\n",
    "\n",
    "# Jasmine changing things up here on out! Top half not mine. \n",
    "# create best and worst performing lasso coef dataframes\n",
    "df_head = lr_coef.head(10)\n",
    "df_tail = lr_coef.tail(10)\n",
    "\n",
    "# merge back together\n",
    "df_merged = pd.concat([df_head, df_tail], axis=0)\n",
    "\n",
    "# plot the sorted dataframe\n",
    "fig, ax = plt.subplots()\n",
    "fig.set_size_inches(8, 6)\n",
    "fig.suptitle('Coefficients!', size=14)\n",
    "ax = sns.barplot(x = 'penalized_regression_coefficients', y= df_merged.index, \n",
    "data=df_merged)\n",
    "ax.set(xlabel='Penalized Regression Coefficients')\n",
    "plt.tight_layout(pad=3, w_pad=0, h_pad=0);"
   ]
  },
  {
   "cell_type": "code",
   "execution_count": 49,
   "metadata": {},
   "outputs": [
    {
     "name": "stdout",
     "output_type": "stream",
     "text": [
      "The word that contributes the most positively to being from r/TheOnion is heartbreaking followed by mueller and ftw .\n",
      "-----------------------------------\n",
      "The word that contributes the most positively to being from r/nottheonion is covid followed by coronavirus and pandemic .\n"
     ]
    }
   ],
   "source": [
    "print(\"The word that contributes the most positively to being from r/TheOnion is\", \n",
    "      df_merged.index[0], \"followed by\", \n",
    "      df_merged.index[1], \"and\",\n",
    "      df_merged.index[2],\".\")\n",
    "\n",
    "print(\"-----------------------------------\")\n",
    "\n",
    "print(\"The word that contributes the most positively to being from r/nottheonion is\", \n",
    "      df_merged.index[-1], \"followed by\", \n",
    "      df_merged.index[-2], \"and\",\n",
    "      df_merged.index[-3],\".\")"
   ]
  },
  {
   "cell_type": "code",
   "execution_count": 50,
   "metadata": {},
   "outputs": [
    {
     "data": {
      "text/html": [
       "<div>\n",
       "<style scoped>\n",
       "    .dataframe tbody tr th:only-of-type {\n",
       "        vertical-align: middle;\n",
       "    }\n",
       "\n",
       "    .dataframe tbody tr th {\n",
       "        vertical-align: top;\n",
       "    }\n",
       "\n",
       "    .dataframe thead th {\n",
       "        text-align: right;\n",
       "    }\n",
       "</style>\n",
       "<table border=\"1\" class=\"dataframe\">\n",
       "  <thead>\n",
       "    <tr style=\"text-align: right;\">\n",
       "      <th></th>\n",
       "      <th>penalized_regression_coefficients</th>\n",
       "      <th>exp</th>\n",
       "    </tr>\n",
       "  </thead>\n",
       "  <tbody>\n",
       "    <tr>\n",
       "      <th>heartbreaking</th>\n",
       "      <td>2.106</td>\n",
       "      <td>8.215314</td>\n",
       "    </tr>\n",
       "    <tr>\n",
       "      <th>mueller</th>\n",
       "      <td>2.027</td>\n",
       "      <td>7.591278</td>\n",
       "    </tr>\n",
       "    <tr>\n",
       "      <th>ftw</th>\n",
       "      <td>1.968</td>\n",
       "      <td>7.156349</td>\n",
       "    </tr>\n",
       "    <tr>\n",
       "      <th>incredible</th>\n",
       "      <td>1.956</td>\n",
       "      <td>7.070986</td>\n",
       "    </tr>\n",
       "    <tr>\n",
       "      <th>kavanaugh</th>\n",
       "      <td>1.852</td>\n",
       "      <td>6.372552</td>\n",
       "    </tr>\n",
       "    <tr>\n",
       "      <th>announced</th>\n",
       "      <td>1.838</td>\n",
       "      <td>6.283958</td>\n",
       "    </tr>\n",
       "    <tr>\n",
       "      <th>clickhole</th>\n",
       "      <td>1.552</td>\n",
       "      <td>4.720903</td>\n",
       "    </tr>\n",
       "    <tr>\n",
       "      <th>introduces</th>\n",
       "      <td>1.512</td>\n",
       "      <td>4.535793</td>\n",
       "    </tr>\n",
       "    <tr>\n",
       "      <th>halloween</th>\n",
       "      <td>1.497</td>\n",
       "      <td>4.468264</td>\n",
       "    </tr>\n",
       "    <tr>\n",
       "      <th>cup</th>\n",
       "      <td>1.440</td>\n",
       "      <td>4.220696</td>\n",
       "    </tr>\n",
       "  </tbody>\n",
       "</table>\n",
       "</div>"
      ],
      "text/plain": [
       "               penalized_regression_coefficients       exp\n",
       "heartbreaking                              2.106  8.215314\n",
       "mueller                                    2.027  7.591278\n",
       "ftw                                        1.968  7.156349\n",
       "incredible                                 1.956  7.070986\n",
       "kavanaugh                                  1.852  6.372552\n",
       "announced                                  1.838  6.283958\n",
       "clickhole                                  1.552  4.720903\n",
       "introduces                                 1.512  4.535793\n",
       "halloween                                  1.497  4.468264\n",
       "cup                                        1.440  4.220696"
      ]
     },
     "execution_count": 50,
     "metadata": {},
     "output_type": "execute_result"
    }
   ],
   "source": [
    "# Show coefficients that affect r/TheOnion\n",
    "df_merged_head = df_merged.head(10)\n",
    "exp = df_merged_head['penalized_regression_coefficients'].apply(lambda x: np.exp(x))\n",
    "df_merged_head.insert(1, 'exp', exp)\n",
    "df_merged_head.sort_values('exp', ascending=False)"
   ]
  },
  {
   "cell_type": "code",
   "execution_count": 51,
   "metadata": {},
   "outputs": [
    {
     "name": "stdout",
     "output_type": "stream",
     "text": [
      "As occurences of heartbreaking increase by 1 in a title, that title is 8.22 times as likely to be classified as r/TheOnion.\n"
     ]
    }
   ],
   "source": [
    "print(\"As occurences of\", df_merged_head.index[0], \"increase by 1 in a title, that title is\", \n",
    "      round(df_merged_head['exp'][0],2), \"times as likely to be classified as r/TheOnion.\")"
   ]
  },
  {
   "cell_type": "code",
   "execution_count": 52,
   "metadata": {},
   "outputs": [
    {
     "data": {
      "text/html": [
       "<div>\n",
       "<style scoped>\n",
       "    .dataframe tbody tr th:only-of-type {\n",
       "        vertical-align: middle;\n",
       "    }\n",
       "\n",
       "    .dataframe tbody tr th {\n",
       "        vertical-align: top;\n",
       "    }\n",
       "\n",
       "    .dataframe thead th {\n",
       "        text-align: right;\n",
       "    }\n",
       "</style>\n",
       "<table border=\"1\" class=\"dataframe\">\n",
       "  <thead>\n",
       "    <tr style=\"text-align: right;\">\n",
       "      <th></th>\n",
       "      <th>penalized_regression_coefficients</th>\n",
       "      <th>exp</th>\n",
       "    </tr>\n",
       "  </thead>\n",
       "  <tbody>\n",
       "    <tr>\n",
       "      <th>covid</th>\n",
       "      <td>-4.008</td>\n",
       "      <td>55.036687</td>\n",
       "    </tr>\n",
       "    <tr>\n",
       "      <th>coronavirus</th>\n",
       "      <td>-3.520</td>\n",
       "      <td>33.784428</td>\n",
       "    </tr>\n",
       "    <tr>\n",
       "      <th>pandemic</th>\n",
       "      <td>-3.487</td>\n",
       "      <td>32.687737</td>\n",
       "    </tr>\n",
       "    <tr>\n",
       "      <th>lockdown</th>\n",
       "      <td>-3.433</td>\n",
       "      <td>30.969412</td>\n",
       "    </tr>\n",
       "    <tr>\n",
       "      <th>masks</th>\n",
       "      <td>-3.151</td>\n",
       "      <td>23.359412</td>\n",
       "    </tr>\n",
       "    <tr>\n",
       "      <th>distancing</th>\n",
       "      <td>-2.691</td>\n",
       "      <td>14.746415</td>\n",
       "    </tr>\n",
       "    <tr>\n",
       "      <th>police</th>\n",
       "      <td>-2.600</td>\n",
       "      <td>13.463738</td>\n",
       "    </tr>\n",
       "    <tr>\n",
       "      <th>corona</th>\n",
       "      <td>-2.544</td>\n",
       "      <td>12.730491</td>\n",
       "    </tr>\n",
       "    <tr>\n",
       "      <th>floyd</th>\n",
       "      <td>-2.462</td>\n",
       "      <td>11.728245</td>\n",
       "    </tr>\n",
       "    <tr>\n",
       "      <th>quarantine</th>\n",
       "      <td>-2.458</td>\n",
       "      <td>11.681425</td>\n",
       "    </tr>\n",
       "  </tbody>\n",
       "</table>\n",
       "</div>"
      ],
      "text/plain": [
       "             penalized_regression_coefficients        exp\n",
       "covid                                   -4.008  55.036687\n",
       "coronavirus                             -3.520  33.784428\n",
       "pandemic                                -3.487  32.687737\n",
       "lockdown                                -3.433  30.969412\n",
       "masks                                   -3.151  23.359412\n",
       "distancing                              -2.691  14.746415\n",
       "police                                  -2.600  13.463738\n",
       "corona                                  -2.544  12.730491\n",
       "floyd                                   -2.462  11.728245\n",
       "quarantine                              -2.458  11.681425"
      ]
     },
     "execution_count": 52,
     "metadata": {},
     "output_type": "execute_result"
    }
   ],
   "source": [
    "# Show coefficients that affect r/nottheonion\n",
    "df_merged_tail = df_merged.tail(10)\n",
    "exp = df_merged_tail['penalized_regression_coefficients'].apply(lambda x: np.exp(x * -1))\n",
    "df_merged_tail.insert(1, 'exp', exp)\n",
    "df_merged_tail.sort_values('exp', ascending=False)"
   ]
  },
  {
   "cell_type": "code",
   "execution_count": 53,
   "metadata": {},
   "outputs": [
    {
     "name": "stdout",
     "output_type": "stream",
     "text": [
      "As occurences of covid increase by 1 in a title, that title is 55.04 times as likely to be classified as r/nottheonion.\n"
     ]
    }
   ],
   "source": [
    "print(\"As occurences of\", df_merged_tail.index[-1], \"increase by 1 in a title, that title is\", \n",
    "      round(df_merged_tail['exp'][-1],2), \"times as likely to be classified as r/nottheonion.\")"
   ]
  },
  {
   "cell_type": "code",
   "execution_count": null,
   "metadata": {},
   "outputs": [],
   "source": []
  }
 ],
 "metadata": {
  "kernelspec": {
   "display_name": "Python 3",
   "language": "python",
   "name": "python3"
  },
  "language_info": {
   "codemirror_mode": {
    "name": "ipython",
    "version": 3
   },
   "file_extension": ".py",
   "mimetype": "text/x-python",
   "name": "python",
   "nbconvert_exporter": "python",
   "pygments_lexer": "ipython3",
   "version": "3.7.7"
  }
 },
 "nbformat": 4,
 "nbformat_minor": 4
}
