{
 "cells": [
  {
   "cell_type": "markdown",
   "metadata": {},
   "source": [
    "# Root mean square Error and Mean Absolute Error\n"
   ]
  },
  {
   "cell_type": "code",
   "execution_count": 10,
   "metadata": {},
   "outputs": [
    {
     "name": "stdout",
     "output_type": "stream",
     "text": [
      "0.21606\n",
      "0.4648225467853297\n"
     ]
    }
   ],
   "source": [
    "import math\n",
    "import numpy as np\n",
    "\n",
    "# Given values\n",
    "Y_true = [1, 1, 2, 2, 4]  # Y_true = Y (original values)\n",
    "\n",
    "# Calculated values\n",
    "Y_pred = [0.6, 1.29, 1.99, 2.69, 3.4]  # Y_pred = Y'\n",
    "\n",
    "# Mean Squared Error\n",
    "mse = np.square(np.subtract(Y_true, Y_pred)).mean()\n",
    "rmse = math.sqrt(mse)\n",
    "print(mse)\n",
    "print(rmse)"
   ]
  },
  {
   "cell_type": "code",
   "execution_count": 11,
   "metadata": {},
   "outputs": [
    {
     "data": {
      "text/plain": [
       "0.21606"
      ]
     },
     "execution_count": 11,
     "metadata": {},
     "output_type": "execute_result"
    }
   ],
   "source": [
    "from sklearn.metrics import mean_squared_error\n",
    "\n",
    "# Given values\n",
    "Y_true = [1, 1, 2, 2, 4]  # Y_true = Y (original values)\n",
    "\n",
    "# calculated values\n",
    "Y_pred = [0.6, 1.29, 1.99, 2.69, 3.4]  # Y_pred = Y'\n",
    "\n",
    "# Calculation of Mean Squared Error (MSE)\n",
    "mean_squared_error(Y_true, Y_pred)"
   ]
  },
  {
   "cell_type": "markdown",
   "metadata": {},
   "source": [
    "# Forecast Error (or Residual Forecast Error)"
   ]
  },
  {
   "cell_type": "markdown",
   "metadata": {},
   "source": [
    "forecast_error = expected_value - predicted_value"
   ]
  },
  {
   "cell_type": "code",
   "execution_count": 12,
   "metadata": {},
   "outputs": [
    {
     "name": "stdout",
     "output_type": "stream",
     "text": [
      "Forecast Errors: [-0.2, 0.09999999999999998, -0.1, -0.09999999999999998, -0.2]\n"
     ]
    }
   ],
   "source": [
    "expected = [0.0, 0.5, 0.0, 0.5, 0.0]\n",
    "predictions = [0.2, 0.4, 0.1, 0.6, 0.2]\n",
    "forecast_errors = [expected[i] - predictions[i] for i in range(len(expected))]\n",
    "print(\"Forecast Errors: %s\" % forecast_errors)"
   ]
  },
  {
   "cell_type": "markdown",
   "metadata": {},
   "source": [
    "# Mean Forecast Error (or Forecast Bias)"
   ]
  },
  {
   "cell_type": "markdown",
   "metadata": {},
   "source": [
    "mean_forecast_error = mean(forecast_error)"
   ]
  },
  {
   "cell_type": "code",
   "execution_count": 13,
   "metadata": {},
   "outputs": [
    {
     "name": "stdout",
     "output_type": "stream",
     "text": [
      "Bias: -0.100000\n"
     ]
    }
   ],
   "source": [
    "expected = [0.0, 0.5, 0.0, 0.5, 0.0]\n",
    "predictions = [0.2, 0.4, 0.1, 0.6, 0.2]\n",
    "forecast_errors = [expected[i] - predictions[i] for i in range(len(expected))]\n",
    "bias = sum(forecast_errors) * 1.0 / len(expected)\n",
    "print(\"Bias: %f\" % bias)"
   ]
  },
  {
   "cell_type": "markdown",
   "metadata": {},
   "source": [
    "# Mean Absolute Error"
   ]
  },
  {
   "cell_type": "markdown",
   "metadata": {},
   "source": [
    "mean_absolute_error = mean( abs(forecast_error) )"
   ]
  },
  {
   "cell_type": "code",
   "execution_count": 14,
   "metadata": {},
   "outputs": [
    {
     "name": "stdout",
     "output_type": "stream",
     "text": [
      "MAE: 0.140000\n"
     ]
    }
   ],
   "source": [
    "from sklearn.metrics import mean_absolute_error\n",
    "\n",
    "expected = [0.0, 0.5, 0.0, 0.5, 0.0]\n",
    "predictions = [0.2, 0.4, 0.1, 0.6, 0.2]\n",
    "mae = mean_absolute_error(expected, predictions)\n",
    "print(\"MAE: %f\" % mae)"
   ]
  },
  {
   "cell_type": "markdown",
   "metadata": {},
   "source": [
    "# Mean Squared Error"
   ]
  },
  {
   "cell_type": "markdown",
   "metadata": {},
   "source": [
    "mean_squared_error = mean(forecast_error^2)"
   ]
  },
  {
   "cell_type": "code",
   "execution_count": 15,
   "metadata": {},
   "outputs": [
    {
     "name": "stdout",
     "output_type": "stream",
     "text": [
      "MSE: 0.022000\n"
     ]
    }
   ],
   "source": [
    "from sklearn.metrics import mean_squared_error\n",
    "\n",
    "expected = [0.0, 0.5, 0.0, 0.5, 0.0]\n",
    "predictions = [0.2, 0.4, 0.1, 0.6, 0.2]\n",
    "mse = mean_squared_error(expected, predictions)\n",
    "print(\"MSE: %f\" % mse)"
   ]
  },
  {
   "cell_type": "markdown",
   "metadata": {},
   "source": [
    "# Root Mean Squared Error"
   ]
  },
  {
   "cell_type": "markdown",
   "metadata": {},
   "source": [
    "rmse = sqrt(mean_squared_error)"
   ]
  },
  {
   "cell_type": "code",
   "execution_count": 16,
   "metadata": {},
   "outputs": [
    {
     "name": "stdout",
     "output_type": "stream",
     "text": [
      "RMSE: 0.148324\n"
     ]
    }
   ],
   "source": [
    "from sklearn.metrics import mean_squared_error\n",
    "from math import sqrt\n",
    "\n",
    "expected = [0.0, 0.5, 0.0, 0.5, 0.0]\n",
    "predictions = [0.2, 0.4, 0.1, 0.6, 0.2]\n",
    "mse = mean_squared_error(expected, predictions)\n",
    "rmse = sqrt(mse)\n",
    "print(\"RMSE: %f\" % rmse)"
   ]
  },
  {
   "cell_type": "markdown",
   "metadata": {},
   "source": [
    "# Regression Accuracy Check in Python (MAE, MSE, RMSE, R-Squared) "
   ]
  },
  {
   "cell_type": "code",
   "execution_count": 17,
   "metadata": {},
   "outputs": [],
   "source": [
    "import numpy as np\n",
    "import sklearn.metrics as metrics\n",
    "import matplotlib.pyplot as plt"
   ]
  },
  {
   "cell_type": "code",
   "execution_count": 19,
   "metadata": {},
   "outputs": [],
   "source": [
    "y = np.array([-3, -1, -2, 1, -1, 1, 2, 1, 3, 4, 3, 5])\n",
    "yhat = np.array([-2, 1, -1, 0, -1, 1, 2, 2, 3, 3, 3, 5])\n",
    "x = list(range(len(y)))"
   ]
  },
  {
   "cell_type": "code",
   "execution_count": 20,
   "metadata": {},
   "outputs": [
    {
     "data": {
      "image/png": "[encoded data removed]",
      "text/plain": [
       "<Figure size 432x288 with 1 Axes>"
      ]
     },
     "metadata": {
      "needs_background": "light"
     },
     "output_type": "display_data"
    }
   ],
   "source": [
    "plt.scatter(x, y, color=\"blue\", label=\"original\")\n",
    "plt.plot(x, yhat, color=\"red\", label=\"predicted\")\n",
    "plt.legend()\n",
    "plt.show()"
   ]
  },
  {
   "cell_type": "code",
   "execution_count": 21,
   "metadata": {},
   "outputs": [
    {
     "name": "stdout",
     "output_type": "stream",
     "text": [
      "Results by manual calculation:\n",
      "MAE: 0.5833333333333334\n",
      "MSE: 0.75\n",
      "RMSE: 0.8660254037844386\n",
      "R-Squared: 0.8655043586550436\n"
     ]
    }
   ],
   "source": [
    "# calculate manually\n",
    "d = y - yhat\n",
    "mse_f = np.mean(d**2)\n",
    "mae_f = np.mean(abs(d))\n",
    "rmse_f = np.sqrt(mse_f)\n",
    "r2_f = 1 - (sum(d**2) / sum((y - np.mean(y)) ** 2))\n",
    "\n",
    "print(\"Results by manual calculation:\")\n",
    "print(\"MAE:\", mae_f)\n",
    "print(\"MSE:\", mse_f)\n",
    "print(\"RMSE:\", rmse_f)\n",
    "print(\"R-Squared:\", r2_f)"
   ]
  },
  {
   "cell_type": "code",
   "execution_count": 22,
   "metadata": {},
   "outputs": [
    {
     "name": "stdout",
     "output_type": "stream",
     "text": [
      "Results of sklearn.metrics:\n",
      "MAE: 0.5833333333333334\n",
      "MSE: 0.75\n",
      "RMSE: 0.8660254037844386\n",
      "R-Squared: 0.8655043586550436\n"
     ]
    }
   ],
   "source": [
    "mae = metrics.mean_absolute_error(y, yhat)\n",
    "mse = metrics.mean_squared_error(y, yhat)\n",
    "rmse = np.sqrt(mse)  # mse**(0.5)\n",
    "r2 = metrics.r2_score(y, yhat)\n",
    "\n",
    "print(\"Results of sklearn.metrics:\")\n",
    "print(\"MAE:\", mae)\n",
    "print(\"MSE:\", mse)\n",
    "print(\"RMSE:\", rmse)\n",
    "print(\"R-Squared:\", r2)"
   ]
  },
  {
   "cell_type": "code",
   "execution_count": null,
   "metadata": {},
   "outputs": [],
   "source": []
  }
 ],
 "metadata": {
  "kernelspec": {
   "display_name": "Python 3",
   "language": "python",
   "name": "python3"
  },
  "language_info": {
   "codemirror_mode": {
    "name": "ipython",
    "version": 3
   },
   "file_extension": ".py",
   "mimetype": "text/x-python",
   "name": "python",
   "nbconvert_exporter": "python",
   "pygments_lexer": "ipython3",
   "version": "3.7.7"
  }
 },
 "nbformat": 4,
 "nbformat_minor": 4
}
