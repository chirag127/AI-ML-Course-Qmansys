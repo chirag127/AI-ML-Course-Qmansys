{
 "cells": [
  {
   "cell_type": "markdown",
   "metadata": {},
   "source": [
    "# Hypothesis Formulation - Null and Alternate Hypothesis\n"
   ]
  },
  {
   "cell_type": "markdown",
   "metadata": {},
   "source": [
    "These four situations appear in a large fraction of statistical analyses,\n",
    "\n",
    "    One Population Proportion\n",
    "    A difference in Population Proportions\n",
    "    One Population Mean\n",
    "    A difference in Population Means"
   ]
  },
  {
   "cell_type": "markdown",
   "metadata": {},
   "source": [
    "# One Population Proportion"
   ]
  },
  {
   "cell_type": "markdown",
   "metadata": {},
   "source": [
    "In previous years, 52% of parents believed that electronics and social media was the cause of their teenager’s lack of sleep. Do more parents today believe that their teenager’s lack of sleep is caused due to electronics and social media?\n",
    "\n",
    "Population: Parents with a teenager (age 13–18)\n",
    "Parameter of Interest: p (proportion)\n",
    "\n",
    "Null Hypothesis: p = 0.52\n",
    "Alternative Hypothesis: p > 0.52 (note that this is a one-sided test)\n",
    "\n",
    "Data: 1018 people were surveyed. 56% of those who were surveyed believe that their teenager’s lack of sleep is caused due to electronics and social media.\n",
    "\n",
    "Approach: Single group proportion uses z-statistic test. We use theproportions_ztest() function from the Statsmodels package. Note the argument alternative=\"larger\" indicating a one-sided test. The function returns two values - the z-statistic and the corresponding p-value."
   ]
  },
  {
   "cell_type": "code",
   "execution_count": 3,
   "metadata": {},
   "outputs": [
    {
     "data": {
      "text/plain": [
       "(2.571067795759113, 0.005069273865860533)"
      ]
     },
     "execution_count": 3,
     "metadata": {},
     "output_type": "execute_result"
    }
   ],
   "source": [
    "import statsmodels.api as sm\n",
    "import numpy as np\n",
    "import matplotlib.pyplot as plt\n",
    "\n",
    "n = 1018\n",
    "pnull = 0.52\n",
    "phat = 0.56\n",
    "sm.stats.proportions_ztest(phat * n, n, pnull, alternative=\"larger\")"
   ]
  },
  {
   "cell_type": "markdown",
   "metadata": {},
   "source": [
    "Conclusion: Since the calculated p-value (~0.005) of the z-test is pretty small, we can reject the Null hypothesis that the percentage of parents, who believe that their teenager’s lack of sleep is caused due to electronics and social media, is as same as previous years’ estimate i.e. 52%. Although we do not accept the alternative hypothesis, this informally means that there is a good chance of this proportion being more than 52%."
   ]
  },
  {
   "cell_type": "markdown",
   "metadata": {},
   "source": [
    "# A difference in Population Proportions"
   ]
  },
  {
   "cell_type": "markdown",
   "metadata": {},
   "source": [
    "Is there a significant difference between the population proportions of parents of black children and parents of Hispanic children who report that their child has had some swimming lessons?\n",
    "\n",
    "Populations: All parents of black children age 6–18 and all parents of Hispanic children age 6–18\n",
    "Parameter of Interest: p1 — p2, where p1 = black and p2 = Hispanic\n",
    "\n",
    "Null Hypothesis: p1 — p2 = 0\n",
    "Alternative Hypothesis: p1 — p2 ≠ 0\n",
    "\n",
    "Data: 247 Parents of Black Children. 36.8% of parents report that their child has had some swimming lessons. 308 Parents of Hispanic Children. 38.9% of parents report that their child has had some swimming lessons.\n",
    "\n",
    "Approach: The difference in population proportion needs t-test. Also, the population follows a binomial distribution here. We can just pass on the two population quantities with the appropriate binomial distribution parameters to the t-test function.\n",
    "\n",
    "We can use thettest_ind() function from Statsmodels. The function returns three values: (a) test statistic, (b) p-value of the t-test, and (c) degrees of freedom used in the t-test."
   ]
  },
  {
   "cell_type": "code",
   "execution_count": 6,
   "metadata": {},
   "outputs": [
    {
     "data": {
      "text/plain": [
       "(-0.5509753903525183, 0.5818730678288508, 553.0)"
      ]
     },
     "execution_count": 6,
     "metadata": {},
     "output_type": "execute_result"
    }
   ],
   "source": [
    "n1 = 247\n",
    "p1 = 0.37\n",
    "\n",
    "n2 = 308\n",
    "p2 = 0.39\n",
    "\n",
    "population1 = np.random.binomial(1, p1, n1)\n",
    "population2 = np.random.binomial(1, p2, n2)\n",
    "\n",
    "sm.stats.ttest_ind(population1, population2)"
   ]
  },
  {
   "cell_type": "markdown",
   "metadata": {},
   "source": [
    "Conclusion: Since the p-value (~0.5818) is quite high, we cannot reject the Null hypothesis that the difference in the population proportions is zero."
   ]
  },
  {
   "cell_type": "markdown",
   "metadata": {},
   "source": [
    "# One Population Mean"
   ]
  },
  {
   "cell_type": "markdown",
   "metadata": {},
   "source": [
    "Let’s say a cartwheeling competition was organized for some adults. The data looks like following,\n",
    "\n",
    "(80.57, 98.96, 85.28, 83.83, 69.94, 89.59, 91.09, 66.25, 91.21, 82.7 , 73.54, 81.99, 54.01, 82.89, 75.88, 98.32, 107.2 , 85.53, 79.08, 84.3 , 89.32, 86.35, 78.98, 92.26, 87.01)\n",
    "\n",
    "Is the average cartwheel distance (in inches) for adults more than 80 inches?\n",
    "\n",
    "Population: All adults\n",
    "Parameter of Interest: μ, the population mean cartwheel distance.\n",
    "\n",
    "Null Hypothesis: μ = 80\n",
    "Alternative Hypothesis: μ > 80\n",
    "\n",
    "Data:\n",
    "25 adult participants.\n",
    "μ=83.84\n",
    "σ=10.72\n",
    "\n",
    "Approach: We use the z-test from Statsmodels package with alternate='larger' as an argument to denote the one-tailed test."
   ]
  },
  {
   "cell_type": "code",
   "execution_count": 9,
   "metadata": {},
   "outputs": [],
   "source": [
    "cwdata = np.array(\n",
    "    [\n",
    "        80.57,\n",
    "        98.96,\n",
    "        85.28,\n",
    "        83.83,\n",
    "        69.94,\n",
    "        89.59,\n",
    "        91.09,\n",
    "        66.25,\n",
    "        91.21,\n",
    "        82.7,\n",
    "        73.54,\n",
    "        81.99,\n",
    "        54.01,\n",
    "        82.89,\n",
    "        75.88,\n",
    "        98.32,\n",
    "        107.2,\n",
    "        85.53,\n",
    "        79.08,\n",
    "        84.3,\n",
    "        89.32,\n",
    "        86.35,\n",
    "        78.98,\n",
    "        92.26,\n",
    "        87.01,\n",
    "    ]\n",
    ")"
   ]
  },
  {
   "cell_type": "code",
   "execution_count": 10,
   "metadata": {},
   "outputs": [
    {
     "data": {
      "text/plain": [
       "(25, 83.84320000000001, 10.716018932420752)"
      ]
     },
     "execution_count": 10,
     "metadata": {},
     "output_type": "execute_result"
    }
   ],
   "source": [
    "n = len(cwdata)\n",
    "mean = cwdata.mean()\n",
    "sd = cwdata.std()\n",
    "(n, mean, sd)"
   ]
  },
  {
   "cell_type": "code",
   "execution_count": 11,
   "metadata": {},
   "outputs": [
    {
     "data": {
      "text/plain": [
       "(1.756973189172546, 0.039461189601168366)"
      ]
     },
     "execution_count": 11,
     "metadata": {},
     "output_type": "execute_result"
    }
   ],
   "source": [
    "sm.stats.ztest(cwdata, value=80, alternative=\"larger\")"
   ]
  },
  {
   "cell_type": "code",
   "execution_count": 12,
   "metadata": {},
   "outputs": [
    {
     "data": {
      "image/png": "[encoded data removed]",
      "text/plain": [
       "<Figure size 432x288 with 1 Axes>"
      ]
     },
     "metadata": {
      "needs_background": "light"
     },
     "output_type": "display_data"
    }
   ],
   "source": [
    "plt.hist(cwdata, bins=5, edgecolor=\"k\")\n",
    "plt.show()"
   ]
  },
  {
   "cell_type": "markdown",
   "metadata": {},
   "source": [
    "Conclusion: Since the p-value (0.0394) is lower than the standard confidence level 0.05, we can reject the Null hypothesis that the mean cartwheel distance for adults (a population quantity) is equal to 80 inches. There is strong evidence in support for the alternative hypothesis that the mean cartwheel distance is, in fact, higher than 80 inches."
   ]
  },
  {
   "cell_type": "markdown",
   "metadata": {},
   "source": [
    "Considering adults in the NHANES data, do males have a significantly higher mean Body Mass Index than females?\n",
    "\n",
    "Perspective: The National Health and Nutrition Examination Survey (NHANES) is a program of studies designed to assess the health and nutritional status of adults and children in the United States. The survey is unique in that it combines interviews and physical examinations.\n",
    "\n",
    "Population: Adults in the NHANES data.\n",
    "Parameter of Interest: μ1−μ2μ1−μ2, Body Mass Index.\n",
    "\n",
    "Null Hypothesis: μ1=μ2\n",
    "Alternative Hypothesis: μ1≠μ2\n",
    "\n",
    "Data:\n",
    "\n",
    "2976 Females, μ1=29.94, σ1=7.75\n",
    "2759 Male Adults, μ2=28.78, σ2=6.25\n",
    "\n",
    "μ1−μ2=1.16\n",
    "\n",
    "Approach: We can again use the z-statistic for this hypothesis testing. But here the test has to be “two-sided” as an inequality appears in the alternative hypothesis i.e. the BMI can be either higher or lower for males than females. Both side probabilities have to be added for p-value calculation."
   ]
  },
  {
   "cell_type": "code",
   "execution_count": 15,
   "metadata": {},
   "outputs": [
    {
     "data": {
      "text/plain": [
       "(6.1755933531383205, 6.591544431126401e-10)"
      ]
     },
     "execution_count": 15,
     "metadata": {},
     "output_type": "execute_result"
    }
   ],
   "source": [
    "import pandas as pd\n",
    "\n",
    "url = \"https://raw.githubusercontent.com/kshedden/statswpy/master/NHANES/merged/nhanes_2015_2016.csv\"\n",
    "da = pd.read_csv(url)\n",
    "females = da[da[\"RIAGENDR\"] == 2]\n",
    "male = da[da[\"RIAGENDR\"] == 1]\n",
    "sm.stats.ztest(\n",
    "    females[\"BMXBMI\"].dropna(), male[\"BMXBMI\"].dropna(), alternative=\"two-sided\"\n",
    ")"
   ]
  },
  {
   "cell_type": "markdown",
   "metadata": {},
   "source": [
    "Conclusion: Since the p-value (6.59e-10) is extremely small, we can reject the Null hypothesis that the mean BMI of males is the same as that of females."
   ]
  },
  {
   "cell_type": "code",
   "execution_count": null,
   "metadata": {},
   "outputs": [],
   "source": []
  }
 ],
 "metadata": {
  "kernelspec": {
   "display_name": "Python 3",
   "language": "python",
   "name": "python3"
  },
  "language_info": {
   "codemirror_mode": {
    "name": "ipython",
    "version": 3
   },
   "file_extension": ".py",
   "mimetype": "text/x-python",
   "name": "python",
   "nbconvert_exporter": "python",
   "pygments_lexer": "ipython3",
   "version": "3.6.8"
  }
 },
 "nbformat": 4,
 "nbformat_minor": 2
}
