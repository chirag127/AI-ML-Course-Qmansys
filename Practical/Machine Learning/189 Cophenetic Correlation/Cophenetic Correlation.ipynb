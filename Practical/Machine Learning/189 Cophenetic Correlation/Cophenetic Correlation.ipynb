{
  "cells": [
    {
      "cell_type": "markdown",
      "metadata": {},
      "source": [
        "# Cophenetic Correlation\n"
      ]
    },
    {
      "cell_type": "code",
      "execution_count": 2,
      "metadata": {},
      "outputs": [],
      "source": [
        "from scipy.cluster.hierarchy import single, cophenet\n",
        "\n",
        "from scipy.spatial.distance import pdist, squareform"
      ]
    },
    {
      "cell_type": "code",
      "execution_count": 3,
      "metadata": {},
      "outputs": [],
      "source": [
        "X = [\n",
        "    [0, 0],\n",
        "    [0, 1],\n",
        "    [1, 0],\n",
        "    [0, 4],\n",
        "    [0, 3],\n",
        "    [1, 4],\n",
        "    [4, 0],\n",
        "    [3, 0],\n",
        "    [4, 1],\n",
        "    [4, 4],\n",
        "    [3, 4],\n",
        "    [4, 3],\n",
        "]"
      ]
    },
    {
      "cell_type": "code",
      "execution_count": 4,
      "metadata": {},
      "outputs": [],
      "source": [
        "Z = single(pdist(X))"
      ]
    },
    {
      "cell_type": "code",
      "execution_count": 5,
      "metadata": {},
      "outputs": [
        {
          "data": {
            "text/plain": [
              "array([[ 0.,  1.,  1.,  2.],\n",
              "       [ 2., 12.,  1.,  3.],\n",
              "       [ 3.,  4.,  1.,  2.],\n",
              "       [ 5., 14.,  1.,  3.],\n",
              "       [ 6.,  7.,  1.,  2.],\n",
              "       [ 8., 16.,  1.,  3.],\n",
              "       [ 9., 10.,  1.,  2.],\n",
              "       [11., 18.,  1.,  3.],\n",
              "       [13., 15.,  2.,  6.],\n",
              "       [17., 20.,  2.,  9.],\n",
              "       [19., 21.,  2., 12.]])"
            ]
          },
          "execution_count": 5,
          "metadata": {},
          "output_type": "execute_result"
        }
      ],
      "source": [
        "Z"
      ]
    },
    {
      "cell_type": "code",
      "execution_count": 6,
      "metadata": {},
      "outputs": [
        {
          "data": {
            "text/plain": [
              "array([1., 1., 2., 2., 2., 2., 2., 2., 2., 2., 2., 1., 2., 2., 2., 2., 2.,\n",
              "       2., 2., 2., 2., 2., 2., 2., 2., 2., 2., 2., 2., 2., 1., 1., 2., 2.,\n",
              "       2., 2., 2., 2., 1., 2., 2., 2., 2., 2., 2., 2., 2., 2., 2., 2., 2.,\n",
              "       1., 1., 2., 2., 2., 1., 2., 2., 2., 2., 2., 2., 1., 1., 1.])"
            ]
          },
          "execution_count": 6,
          "metadata": {},
          "output_type": "execute_result"
        }
      ],
      "source": [
        "cophenet(Z)"
      ]
    },
    {
      "cell_type": "code",
      "execution_count": 7,
      "metadata": {},
      "outputs": [
        {
          "data": {
            "text/plain": [
              "array([[0., 1., 1., 2., 2., 2., 2., 2., 2., 2., 2., 2.],\n",
              "       [1., 0., 1., 2., 2., 2., 2., 2., 2., 2., 2., 2.],\n",
              "       [1., 1., 0., 2., 2., 2., 2., 2., 2., 2., 2., 2.],\n",
              "       [2., 2., 2., 0., 1., 1., 2., 2., 2., 2., 2., 2.],\n",
              "       [2., 2., 2., 1., 0., 1., 2., 2., 2., 2., 2., 2.],\n",
              "       [2., 2., 2., 1., 1., 0., 2., 2., 2., 2., 2., 2.],\n",
              "       [2., 2., 2., 2., 2., 2., 0., 1., 1., 2., 2., 2.],\n",
              "       [2., 2., 2., 2., 2., 2., 1., 0., 1., 2., 2., 2.],\n",
              "       [2., 2., 2., 2., 2., 2., 1., 1., 0., 2., 2., 2.],\n",
              "       [2., 2., 2., 2., 2., 2., 2., 2., 2., 0., 1., 1.],\n",
              "       [2., 2., 2., 2., 2., 2., 2., 2., 2., 1., 0., 1.],\n",
              "       [2., 2., 2., 2., 2., 2., 2., 2., 2., 1., 1., 0.]])"
            ]
          },
          "execution_count": 7,
          "metadata": {},
          "output_type": "execute_result"
        }
      ],
      "source": [
        "squareform(cophenet(Z))"
      ]
    },
    {
      "cell_type": "code",
      "execution_count": null,
      "metadata": {},
      "outputs": [],
      "source": []
    }
  ],
  "metadata": {
    "kernelspec": {
      "display_name": "Python 3",
      "language": "python",
      "name": "python3"
    },
    "language_info": {
      "codemirror_mode": {
        "name": "ipython",
        "version": 3
      },
      "file_extension": ".py",
      "mimetype": "text/x-python",
      "name": "python",
      "nbconvert_exporter": "python",
      "pygments_lexer": "ipython3",
      "version": "3.7.7"
    }
  },
  "nbformat": 4,
  "nbformat_minor": 4
}
