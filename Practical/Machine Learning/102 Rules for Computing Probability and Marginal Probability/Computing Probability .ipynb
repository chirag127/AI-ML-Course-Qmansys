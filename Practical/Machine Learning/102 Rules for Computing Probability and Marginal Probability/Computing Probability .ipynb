{
 "cells": [
  {
   "cell_type": "markdown",
   "metadata": {},
   "source": [
    "# Computing Probability "
   ]
  },
  {
   "cell_type": "markdown",
   "metadata": {},
   "source": [
    "# Flip a coin"
   ]
  },
  {
   "cell_type": "code",
   "execution_count": 7,
   "metadata": {},
   "outputs": [],
   "source": [
    "import random\n",
    "\n",
    "\n",
    "def coin_trial():\n",
    "    heads = 0\n",
    "    for i in range(100):\n",
    "        if random.random() <= 0.5:\n",
    "            heads += 1\n",
    "        return heads\n",
    "\n",
    "\n",
    "def simulate(n):\n",
    "    trials = []\n",
    "    for i in range(n):\n",
    "        trials.append(coin_trial())\n",
    "    return sum(trials) / n"
   ]
  },
  {
   "cell_type": "code",
   "execution_count": 8,
   "metadata": {},
   "outputs": [
    {
     "data": {
      "text/plain": [
       "0.5"
      ]
     },
     "execution_count": 8,
     "metadata": {},
     "output_type": "execute_result"
    }
   ],
   "source": [
    "simulate(10)"
   ]
  },
  {
   "cell_type": "code",
   "execution_count": 9,
   "metadata": {},
   "outputs": [
    {
     "data": {
      "text/plain": [
       "0.52"
      ]
     },
     "execution_count": 9,
     "metadata": {},
     "output_type": "execute_result"
    }
   ],
   "source": [
    "simulate(100)"
   ]
  },
  {
   "cell_type": "markdown",
   "metadata": {},
   "source": [
    "# Example"
   ]
  },
  {
   "cell_type": "code",
   "execution_count": 2,
   "metadata": {},
   "outputs": [
    {
     "name": "stdout",
     "output_type": "stream",
     "text": [
      "Flips: TTHTHHTTHHHHHHHHTHHTTHTHT\n",
      "Number of Heads: 15\n",
      "P(H) = 0.6 (Number of Heads/Total Flips)\n"
     ]
    }
   ],
   "source": [
    "import numpy as np\n",
    "\n",
    "# probability of flipping heads\n",
    "ph = 0.5\n",
    "# Number of coin flips to simulate\n",
    "num_flips = 25\n",
    "# Simulate coin flips\n",
    "def flip_coin(N, p=0.5):\n",
    "    prob = [p, (1 - p)]\n",
    "    return np.random.choice([\"H\", \"T\"], size=N, p=prob)\n",
    "\n",
    "\n",
    "# Accumulate flips\n",
    "flips = flip_coin(num_flips, ph)\n",
    "# count heads\n",
    "num_heads = np.sum(flips == \"H\")\n",
    "# display results\n",
    "print(\"Flips:\", \"\".join(flips))\n",
    "print(f\"Number of Heads: {num_heads}\")\n",
    "print(f\"P(H) = {num_heads/num_flips} (Number of Heads/Total Flips)\")"
   ]
  },
  {
   "cell_type": "markdown",
   "metadata": {},
   "source": [
    "# Rolling Dice"
   ]
  },
  {
   "cell_type": "code",
   "execution_count": 3,
   "metadata": {},
   "outputs": [
    {
     "name": "stdout",
     "output_type": "stream",
     "text": [
      "Rolls: 6464125416332252516365642\n",
      "Number of Ones: 3\n",
      "P(1) = 0.12 (Number of Ones/Total Rolls)\n"
     ]
    }
   ],
   "source": [
    "prob_die = 6 * [(1 / 6)]\n",
    "num_rolls = 25\n",
    "\n",
    "\n",
    "def roll_die(N, prob=prob_die):\n",
    "    return np.random.choice(\n",
    "        [\n",
    "            \"1\",\n",
    "            \"2\",\n",
    "            \"3\",\n",
    "            \"4\",\n",
    "            \"5\",\n",
    "            \"6\",\n",
    "        ],\n",
    "        size=N,\n",
    "        p=prob,\n",
    "    )\n",
    "\n",
    "\n",
    "rolls = roll_die(num_rolls)\n",
    "num_ones = np.sum(rolls == \"1\")\n",
    "print(\"Rolls:\", \"\".join(rolls))\n",
    "print(f\"Number of Ones: {num_ones}\")\n",
    "print(f\"P(1) = {num_ones/num_rolls} (Number of Ones/Total Rolls)\")"
   ]
  },
  {
   "cell_type": "code",
   "execution_count": null,
   "metadata": {},
   "outputs": [],
   "source": []
  }
 ],
 "metadata": {
  "kernelspec": {
   "display_name": "Python 3",
   "language": "python",
   "name": "python3"
  },
  "language_info": {
   "codemirror_mode": {
    "name": "ipython",
    "version": 3
   },
   "file_extension": ".py",
   "mimetype": "text/x-python",
   "name": "python",
   "nbconvert_exporter": "python",
   "pygments_lexer": "ipython3",
   "version": "3.6.8"
  }
 },
 "nbformat": 4,
 "nbformat_minor": 2
}
