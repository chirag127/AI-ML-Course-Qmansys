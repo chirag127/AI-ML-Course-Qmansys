{
  "cells": [
    {
      "cell_type": "markdown",
      "metadata": {},
      "source": [
        "# Five Number Summary and plots"
      ]
    },
    {
      "cell_type": "code",
      "execution_count": 1,
      "metadata": {},
      "outputs": [],
      "source": [
        "import numpy\n",
        "import matplotlib.pyplot as plt\n",
        "\n",
        "x = [1, 2, 15, 3, 6, 17, 8, 16, 8, 3, 10, 12, 16, 12, 9]"
      ]
    },
    {
      "cell_type": "code",
      "execution_count": 2,
      "metadata": {},
      "outputs": [
        {
          "name": "stdout",
          "output_type": "stream",
          "text": [
            "1\n",
            "17\n",
            "5.243408560596183\n",
            "9.2\n",
            "9.0\n"
          ]
        }
      ],
      "source": [
        "print(numpy.min(x))\n",
        "print(numpy.max(x))\n",
        "print(numpy.std(x))\n",
        "print(numpy.mean(x))\n",
        "print(numpy.median(x))"
      ]
    },
    {
      "cell_type": "code",
      "execution_count": 3,
      "metadata": {},
      "outputs": [
        {
          "data": {
            "image/png": "[encoded data removed]",
            "text/plain": [
              "<Figure size 432x288 with 1 Axes>"
            ]
          },
          "metadata": {
            "needs_background": "light"
          },
          "output_type": "display_data"
        }
      ],
      "source": [
        "plt.boxplot(x)\n",
        "plt.show()"
      ]
    },
    {
      "cell_type": "markdown",
      "metadata": {},
      "source": [
        "# Five Number Summary & Plot Taking five random number"
      ]
    },
    {
      "cell_type": "code",
      "execution_count": 4,
      "metadata": {},
      "outputs": [],
      "source": [
        "# calculate a 5 number summary\n",
        "import numpy\n",
        "from numpy import percentile\n",
        "from numpy.random import rand"
      ]
    },
    {
      "cell_type": "code",
      "execution_count": 5,
      "metadata": {},
      "outputs": [],
      "source": [
        "# generate random data sample of a thousand numbers\n",
        "data = rand(1000)"
      ]
    },
    {
      "cell_type": "code",
      "execution_count": 6,
      "metadata": {},
      "outputs": [],
      "source": [
        "# calculate quartiles\n",
        "quartiles = percentile(data, [25, 50, 75])"
      ]
    },
    {
      "cell_type": "code",
      "execution_count": 7,
      "metadata": {},
      "outputs": [],
      "source": [
        "# calculate min/max\n",
        "data_min, data_max = data.min(), data.max()"
      ]
    },
    {
      "cell_type": "code",
      "execution_count": 8,
      "metadata": {},
      "outputs": [
        {
          "name": "stdout",
          "output_type": "stream",
          "text": [
            "Min: 0.001814\n",
            "Q1: 0.253716\n",
            "Median: 0.499581\n",
            "Q3: 0.767037\n",
            "Min: 0.994024\n"
          ]
        }
      ],
      "source": [
        "# print summary\n",
        "print(\"Min: %3f\" % data_min)\n",
        "print(\"Q1: %3f\" % quartiles[0])\n",
        "print(\"Median: %3f\" % quartiles[1])\n",
        "print(\"Q3: %3f\" % quartiles[2])\n",
        "print(\"Min: %3f\" % data_max)"
      ]
    },
    {
      "cell_type": "code",
      "execution_count": 9,
      "metadata": {},
      "outputs": [],
      "source": [
        "import matplotlib.pyplot as plt\n",
        "\n",
        "x = [data_min, quartiles[0], quartiles[1], quartiles[2], data_max]"
      ]
    },
    {
      "cell_type": "code",
      "execution_count": 10,
      "metadata": {},
      "outputs": [
        {
          "data": {
            "image/png": "[encoded data removed]",
            "text/plain": [
              "<Figure size 432x288 with 1 Axes>"
            ]
          },
          "metadata": {
            "needs_background": "light"
          },
          "output_type": "display_data"
        }
      ],
      "source": [
        "plt.boxplot(x)\n",
        "plt.show()"
      ]
    },
    {
      "cell_type": "code",
      "execution_count": null,
      "metadata": {},
      "outputs": [],
      "source": []
    }
  ],
  "metadata": {
    "interpreter": {
      "hash": "ba37d69516b96b2df66115ef342e83722e1a1518f5d2e0ee41eb08141fa2fe2a"
    },
    "kernelspec": {
      "display_name": "Python 3.10.4 64-bit (windows store)",
      "language": "python",
      "name": "python3"
    },
    "language_info": {
      "codemirror_mode": {
        "name": "ipython",
        "version": 3
      },
      "file_extension": ".py",
      "mimetype": "text/x-python",
      "name": "python",
      "nbconvert_exporter": "python",
      "pygments_lexer": "ipython3",
      "version": "3.10.4"
    }
  },
  "nbformat": 4,
  "nbformat_minor": 2
}
