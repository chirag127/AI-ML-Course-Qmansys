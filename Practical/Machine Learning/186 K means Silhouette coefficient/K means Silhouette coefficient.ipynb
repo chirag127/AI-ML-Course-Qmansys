{
 "cells": [
  {
   "cell_type": "markdown",
   "metadata": {},
   "source": [
    "# K means Silhouette coefficient\n"
   ]
  },
  {
   "cell_type": "code",
   "execution_count": 24,
   "metadata": {},
   "outputs": [
    {
     "name": "stdout",
     "output_type": "stream",
     "text": [
      "     Object   X_value   Y_value\n",
      "0  Object 1  1.005079  4.594642\n",
      "1  Object 2  1.128478  4.328122\n",
      "2  Object 3  2.117881  0.726845\n",
      "3  Object 4  0.955626  4.385907\n",
      "4  Object 5 -1.354017  2.769449\n"
     ]
    }
   ],
   "source": [
    "# Imports\n",
    "from sklearn.datasets.samples_generator import make_blobs\n",
    "import numpy as np\n",
    "import matplotlib.pyplot as plt\n",
    "\n",
    "# Generate 2D data points\n",
    "X, _ = make_blobs(\n",
    "    n_samples=10, centers=3, n_features=2, cluster_std=0.2, random_state=0\n",
    ")\n",
    "\n",
    "# Convert the data points into a pandas DataFrame\n",
    "import pandas as pd\n",
    "\n",
    "# Generate indicators for the data points\n",
    "obj_names = []\n",
    "for i in range(1, 11):\n",
    "    obj = \"Object \" + str(i)\n",
    "    obj_names.append(obj)\n",
    "\n",
    "# Create a pandas DataFrame with the names and (x, y) coordinates\n",
    "data = pd.DataFrame({\"Object\": obj_names, \"X_value\": X[:, 0], \"Y_value\": X[:, -1]})\n",
    "\n",
    "# Preview the data\n",
    "print(data.head())"
   ]
  },
  {
   "cell_type": "code",
   "execution_count": 25,
   "metadata": {},
   "outputs": [],
   "source": [
    "# Initialize the centroids\n",
    "c1 = (-1, 4)\n",
    "c2 = (-0.2, 1.5)\n",
    "c3 = (2, 2.5)"
   ]
  },
  {
   "cell_type": "code",
   "execution_count": 26,
   "metadata": {},
   "outputs": [],
   "source": [
    "# A helper function to calculate the Euclidean diatance between the data\n",
    "# points and the centroids\n",
    "\n",
    "\n",
    "def calculate_distance(centroid, X, Y):\n",
    "    distances = []\n",
    "\n",
    "    # Unpack the x and y coordinates of the centroid\n",
    "    c_x, c_y = centroid\n",
    "\n",
    "    # Iterate over the data points and calculate the distance using the           # given formula\n",
    "    for x, y in list(zip(X, Y)):\n",
    "        root_diff_x = (x - c_x) ** 2\n",
    "        root_diff_y = (y - c_y) ** 2\n",
    "        distance = np.sqrt(root_diff_x + root_diff_y)\n",
    "        distances.append(distance)\n",
    "\n",
    "    return distances"
   ]
  },
  {
   "cell_type": "code",
   "execution_count": 27,
   "metadata": {},
   "outputs": [
    {
     "name": "stdout",
     "output_type": "stream",
     "text": [
      "     Object   X_value   Y_value  C1_Distance  C2_Distance  C3_Distance\n",
      "0  Object 1  1.005079  4.594642     2.091397     3.320997     2.318921\n",
      "1  Object 2  1.128478  4.328122     2.153620     3.124601     2.025236\n",
      "2  Object 3  2.117881  0.726845     4.520479     2.443428     1.777070\n",
      "3  Object 4  0.955626  4.385907     1.993339     3.108686     2.155774\n",
      "4  Object 5 -1.354017  2.769449     1.280462     1.715592     3.364823\n"
     ]
    }
   ],
   "source": [
    "# Calculate the distance and assign them to the DataFrame accordingly\n",
    "data[\"C1_Distance\"] = calculate_distance(c1, data.X_value, data.Y_value)\n",
    "data[\"C2_Distance\"] = calculate_distance(c2, data.X_value, data.Y_value)\n",
    "data[\"C3_Distance\"] = calculate_distance(c3, data.X_value, data.Y_value)\n",
    "\n",
    "# Preview the data\n",
    "print(data.head())"
   ]
  },
  {
   "cell_type": "code",
   "execution_count": 28,
   "metadata": {},
   "outputs": [
    {
     "name": "stdout",
     "output_type": "stream",
     "text": [
      "      Object   X_value   Y_value  C1_Distance  C2_Distance  C3_Distance  \\\n",
      "0   Object 1  1.005079  4.594642     2.091397     3.320997     2.318921   \n",
      "1   Object 2  1.128478  4.328122     2.153620     3.124601     2.025236   \n",
      "2   Object 3  2.117881  0.726845     4.520479     2.443428     1.777070   \n",
      "3   Object 4  0.955626  4.385907     1.993339     3.108686     2.155774   \n",
      "4   Object 5 -1.354017  2.769449     1.280462     1.715592     3.364823   \n",
      "5   Object 6 -1.072953  2.627009     1.374928     1.425551     3.075577   \n",
      "6   Object 7 -2.037502  3.048606     1.407679     2.403038     4.074603   \n",
      "7   Object 8  2.354083  0.856632     4.596807     2.633869     1.681081   \n",
      "8   Object 9  2.144040  0.964399     4.370339     2.404453     1.542342   \n",
      "9  Object 10  1.166288  4.273516     2.183487     3.091785     1.959703   \n",
      "\n",
      "  Cluster  \n",
      "0     NaN  \n",
      "1     NaN  \n",
      "2     NaN  \n",
      "3     NaN  \n",
      "4     NaN  \n",
      "5     NaN  \n",
      "6     NaN  \n",
      "7     NaN  \n",
      "8     NaN  \n",
      "9     NaN  \n"
     ]
    }
   ],
   "source": [
    "# Get the minimum distance centroids\n",
    "data[\"Cluster\"] = data[[\"C1_Distance\", \"C2_Distance\", \"C3_Distance\"]].apply(\n",
    "    np.argmin, axis=1\n",
    ")\n",
    "\n",
    "# Map the centroids accordingly and rename them\n",
    "data[\"Cluster\"] = data[\"Cluster\"].map(\n",
    "    {\"C1_Distance\": \"C1\", \"C2_Distance\": \"C2\", \"C3_Distance\": \"C3\"}\n",
    ")\n",
    "\n",
    "# Get a preview of the data\n",
    "print(data.head(10))"
   ]
  },
  {
   "cell_type": "code",
   "execution_count": 29,
   "metadata": {},
   "outputs": [
    {
     "name": "stdout",
     "output_type": "stream",
     "text": [
      "Centroid 1 (nan, nan)\n",
      "Centroid 2 (nan, nan)\n"
     ]
    }
   ],
   "source": [
    "# Calculate the coordinates of the new centroid from cluster 1\n",
    "x_new_centroid1 = data[data[\"Cluster\"] == \"C1\"][\"X_value\"].mean()\n",
    "y_new_centroid1 = data[data[\"Cluster\"] == \"C1\"][\"Y_value\"].mean()\n",
    "\n",
    "# Calculate the coordinates of the new centroid from cluster 2\n",
    "x_new_centroid2 = data[data[\"Cluster\"] == \"C3\"][\"X_value\"].mean()\n",
    "y_new_centroid2 = data[data[\"Cluster\"] == \"C3\"][\"Y_value\"].mean()\n",
    "\n",
    "# Print the coordinates of the new centroids\n",
    "print(\"Centroid 1 ({}, {})\".format(x_new_centroid1, y_new_centroid1))\n",
    "print(\"Centroid 2 ({}, {})\".format(x_new_centroid2, y_new_centroid2))"
   ]
  },
  {
   "cell_type": "code",
   "execution_count": 30,
   "metadata": {},
   "outputs": [],
   "source": [
    "# Using scikit-learn to perform K-Means clustering\n",
    "from sklearn.cluster import KMeans\n",
    "\n",
    "# Specify the number of clusters (3) and fit the data X\n",
    "kmeans = KMeans(n_clusters=3, random_state=0).fit(X)"
   ]
  },
  {
   "cell_type": "code",
   "execution_count": 31,
   "metadata": {},
   "outputs": [
    {
     "name": "stdout",
     "output_type": "stream",
     "text": [
      "[[ 1.06386762  4.39554682]\n",
      " [ 2.20533486  0.84929168]\n",
      " [-1.48815728  2.81502145]]\n",
      "[0 0 1 0 2 2 2 1 1 0]\n"
     ]
    }
   ],
   "source": [
    "# Get the cluster centroids\n",
    "print(kmeans.cluster_centers_)\n",
    "\n",
    "# Get the cluster labels\n",
    "print(kmeans.labels_)"
   ]
  },
  {
   "cell_type": "code",
   "execution_count": 32,
   "metadata": {},
   "outputs": [
    {
     "data": {
      "image/png": "[encoded data removed]",
      "text/plain": [
       "<Figure size 432x288 with 1 Axes>"
      ]
     },
     "metadata": {
      "needs_background": "light"
     },
     "output_type": "display_data"
    }
   ],
   "source": [
    "# Plotting the cluster centers and the data points on a 2D plane\n",
    "plt.scatter(X[:, 0], X[:, -1])\n",
    "\n",
    "plt.scatter(\n",
    "    kmeans.cluster_centers_[:, 0], kmeans.cluster_centers_[:, 1], c=\"red\", marker=\"x\"\n",
    ")\n",
    "\n",
    "plt.title(\"Data points and cluster centroids\")\n",
    "plt.show()"
   ]
  },
  {
   "cell_type": "code",
   "execution_count": 33,
   "metadata": {},
   "outputs": [
    {
     "name": "stdout",
     "output_type": "stream",
     "text": [
      "0.8810668519873337\n"
     ]
    }
   ],
   "source": [
    "# Calculate silhouette_score\n",
    "from sklearn.metrics import silhouette_score\n",
    "\n",
    "print(silhouette_score(X, kmeans.labels_))"
   ]
  },
  {
   "cell_type": "code",
   "execution_count": 35,
   "metadata": {},
   "outputs": [
    {
     "name": "stderr",
     "output_type": "stream",
     "text": [
      "C:\\ProgramData\\Anaconda3\\lib\\site-packages\\sklearn\\utils\\deprecation.py:143: FutureWarning: The sklearn.metrics.classification module is  deprecated in version 0.22 and will be removed in version 0.24. The corresponding classes / functions should instead be imported from sklearn.metrics. Anything that cannot be imported from sklearn.metrics is now part of the private API.\n",
      "  warnings.warn(message, FutureWarning)\n"
     ]
    },
    {
     "data": {
      "image/png": "[encoded data removed]",
      "text/plain": [
       "<Figure size 576x396 with 1 Axes>"
      ]
     },
     "metadata": {},
     "output_type": "display_data"
    },
    {
     "data": {
      "text/plain": [
       "<matplotlib.axes._subplots.AxesSubplot at 0x1af3f6159c8>"
      ]
     },
     "execution_count": 35,
     "metadata": {},
     "output_type": "execute_result"
    }
   ],
   "source": [
    "# Import the KElbowVisualizer method\n",
    "from yellowbrick.cluster import KElbowVisualizer\n",
    "\n",
    "# Instantiate a scikit-learn K-Means model\n",
    "model = KMeans(random_state=0)\n",
    "\n",
    "# Instantiate the KElbowVisualizer with the number of clusters and the metric\n",
    "visualizer = KElbowVisualizer(model, k=(2, 6), metric=\"silhouette\", timings=False)\n",
    "\n",
    "# Fit the data and visualize\n",
    "visualizer.fit(X)\n",
    "visualizer.poof()"
   ]
  },
  {
   "cell_type": "markdown",
   "metadata": {},
   "source": [
    "# Example 2"
   ]
  },
  {
   "cell_type": "code",
   "execution_count": 46,
   "metadata": {},
   "outputs": [
    {
     "name": "stdout",
     "output_type": "stream",
     "text": [
      "Number Of Clusters:\n",
      "2\n",
      "Silhouette score value\n",
      "0.8373975924849033\n",
      "Number Of Clusters:\n",
      "3\n",
      "Silhouette score value\n",
      "0.9281994052933474\n",
      "Number Of Clusters:\n",
      "4\n",
      "Silhouette score value\n",
      "0.6140560142213259\n",
      "Number Of Clusters:\n",
      "5\n",
      "Silhouette score value\n",
      "0.41937210420325716\n",
      "Number Of Clusters:\n",
      "6\n",
      "Silhouette score value\n",
      "0.425525328923951\n",
      "Number Of Clusters:\n",
      "7\n",
      "Silhouette score value\n",
      "0.4298993710522299\n",
      "Number Of Clusters:\n",
      "8\n",
      "Silhouette score value\n",
      "0.32804932651423757\n",
      "Number Of Clusters:\n",
      "9\n",
      "Silhouette score value\n",
      "0.3203820986163679\n",
      "Number Of Clusters:\n",
      "10\n",
      "Silhouette score value\n",
      "0.32515977140196883\n",
      "Number Of Clusters:\n",
      "11\n",
      "Silhouette score value\n",
      "0.32460700273153736\n",
      "Number Of Clusters:\n",
      "12\n",
      "Silhouette score value\n",
      "0.3317473101393006\n",
      "Number Of Clusters:\n",
      "13\n",
      "Silhouette score value\n",
      "0.33539876583366124\n",
      "Number Of Clusters:\n",
      "14\n",
      "Silhouette score value\n",
      "0.33774521189744006\n",
      "Number Of Clusters:\n",
      "15\n",
      "Silhouette score value\n",
      "0.3459097100278329\n",
      "Number Of Clusters:\n",
      "16\n",
      "Silhouette score value\n",
      "0.33537215496338985\n",
      "Number Of Clusters:\n",
      "17\n",
      "Silhouette score value\n",
      "0.340782295333745\n",
      "Number Of Clusters:\n",
      "18\n",
      "Silhouette score value\n",
      "0.3436380110485006\n",
      "Number Of Clusters:\n",
      "19\n",
      "Silhouette score value\n",
      "0.34793594658344434\n",
      "Number Of Clusters:\n",
      "20\n",
      "Silhouette score value\n",
      "0.35247526107795407\n",
      "Number Of Clusters:\n",
      "21\n",
      "Silhouette score value\n",
      "0.3428867221394765\n",
      "Number Of Clusters:\n",
      "22\n",
      "Silhouette score value\n",
      "0.3527500764215176\n",
      "Number Of Clusters:\n",
      "23\n",
      "Silhouette score value\n",
      "0.3516721938063734\n",
      "Number Of Clusters:\n",
      "24\n",
      "Silhouette score value\n",
      "0.3524480485136387\n",
      "Number Of Clusters:\n",
      "25\n",
      "Silhouette score value\n",
      "0.35694806036436433\n",
      "Number Of Clusters:\n",
      "26\n",
      "Silhouette score value\n",
      "0.3486250277246717\n",
      "Number Of Clusters:\n",
      "27\n",
      "Silhouette score value\n",
      "0.3388368883254548\n",
      "Number Of Clusters:\n",
      "28\n",
      "Silhouette score value\n",
      "0.3510393496440196\n",
      "Number Of Clusters:\n",
      "29\n",
      "Silhouette score value\n",
      "0.3337656234946379\n"
     ]
    },
    {
     "data": {
      "image/png": "[encoded data removed]",
      "text/plain": [
       "<Figure size 576x396 with 1 Axes>"
      ]
     },
     "metadata": {},
     "output_type": "display_data"
    },
    {
     "name": "stdout",
     "output_type": "stream",
     "text": [
      "Optimal number of components is:\n",
      "3\n"
     ]
    }
   ],
   "source": [
    "from sklearn import cluster\n",
    "import numpy as numpy\n",
    "import sklearn\n",
    "import matplotlib.pyplot as plt\n",
    "\n",
    "\n",
    "obs = numpy.concatenate(\n",
    "    (\n",
    "        numpy.random.randn(100, 2),\n",
    "        20 + numpy.random.randn(300, 2),\n",
    "        -15 + numpy.random.randn(200, 2),\n",
    "    )\n",
    ")\n",
    "silhouette_score_values = list()\n",
    "\n",
    "NumberOfClusters = range(2, 30)\n",
    "\n",
    "for i in NumberOfClusters:\n",
    "\n",
    "    classifier = cluster.KMeans(\n",
    "        i,\n",
    "        init=\"k-means++\",\n",
    "        n_init=10,\n",
    "        max_iter=300,\n",
    "        tol=0.0001,\n",
    "        verbose=0,\n",
    "        random_state=None,\n",
    "        copy_x=True,\n",
    "    )\n",
    "    classifier.fit(obs)\n",
    "    labels = classifier.predict(obs)\n",
    "    print(\"Number Of Clusters:\")\n",
    "    print(i)\n",
    "    print(\"Silhouette score value\")\n",
    "    print(\n",
    "        sklearn.metrics.silhouette_score(\n",
    "            obs, labels, metric=\"euclidean\", sample_size=None, random_state=None\n",
    "        )\n",
    "    )\n",
    "    silhouette_score_values.append(\n",
    "        sklearn.metrics.silhouette_score(\n",
    "            obs, labels, metric=\"euclidean\", sample_size=None, random_state=None\n",
    "        )\n",
    "    )\n",
    "\n",
    "plt.plot(NumberOfClusters, silhouette_score_values)\n",
    "plt.title(\"Silhouette score values vs Numbers of Clusters \")\n",
    "plt.show()\n",
    "\n",
    "Optimal_NumberOf_Components = NumberOfClusters[\n",
    "    silhouette_score_values.index(max(silhouette_score_values))\n",
    "]\n",
    "print(\"Optimal number of components is:\")\n",
    "print(Optimal_NumberOf_Components)"
   ]
  },
  {
   "cell_type": "code",
   "execution_count": null,
   "metadata": {},
   "outputs": [],
   "source": []
  },
  {
   "cell_type": "code",
   "execution_count": null,
   "metadata": {},
   "outputs": [],
   "source": []
  },
  {
   "cell_type": "code",
   "execution_count": null,
   "metadata": {},
   "outputs": [],
   "source": []
  }
 ],
 "metadata": {
  "kernelspec": {
   "display_name": "Python 3",
   "language": "python",
   "name": "python3"
  },
  "language_info": {
   "codemirror_mode": {
    "name": "ipython",
    "version": 3
   },
   "file_extension": ".py",
   "mimetype": "text/x-python",
   "name": "python",
   "nbconvert_exporter": "python",
   "pygments_lexer": "ipython3",
   "version": "3.7.7"
  }
 },
 "nbformat": 4,
 "nbformat_minor": 4
}
