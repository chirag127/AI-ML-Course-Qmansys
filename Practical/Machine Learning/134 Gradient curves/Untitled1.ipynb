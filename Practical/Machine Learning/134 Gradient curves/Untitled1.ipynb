{
 "cells": [
  {
   "cell_type": "code",
   "execution_count": 6,
   "id": "bed7f59d",
   "metadata": {},
   "outputs": [
    {
     "ename": "SyntaxError",
     "evalue": "invalid syntax (Temp/ipykernel_24092/3528148641.py, line 7)",
     "output_type": "error",
     "traceback": [
      "\u001b[1;36m  File \u001b[1;32m\"C:\\Users\\AMIT~1.SAR\\AppData\\Local\\Temp/ipykernel_24092/3528148641.py\"\u001b[1;36m, line \u001b[1;32m7\u001b[0m\n\u001b[1;33m    x=np.linspace(0,360,37)\u001b[0m\n\u001b[1;37m    ^\u001b[0m\n\u001b[1;31mSyntaxError\u001b[0m\u001b[1;31m:\u001b[0m invalid syntax\n"
     ]
    }
   ],
   "source": [
    "import numpy as np\n",
    "import matplotlib.pyplot as plot\n",
    "def getsin():\n",
    "    for i in range(0,361,10):\n",
    "        y=math.sin(math.radians(i))\n",
    "        sinvalue.append(round(y,3)\n",
    "        x=np.linspace(0,360,37)\n",
    "        plot.plot(x,sinvalue)\n",
    "plot.xlabel(\"x, degrees\")\n",
    "plot.ylabel(\"sin(x)\")\n",
    "plot.show()"
   ]
  },
  {
   "cell_type": "code",
   "execution_count": null,
   "id": "3b4ef3dc",
   "metadata": {},
   "outputs": [],
   "source": []
  }
 ],
 "metadata": {
  "kernelspec": {
   "display_name": "Python 3 (ipykernel)",
   "language": "python",
   "name": "python3"
  },
  "language_info": {
   "codemirror_mode": {
    "name": "ipython",
    "version": 3
   },
   "file_extension": ".py",
   "mimetype": "text/x-python",
   "name": "python",
   "nbconvert_exporter": "python",
   "pygments_lexer": "ipython3",
   "version": "3.9.7"
  }
 },
 "nbformat": 4,
 "nbformat_minor": 5
}
