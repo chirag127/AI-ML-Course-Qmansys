{
  "cells": [
    {
      "cell_type": "markdown",
      "metadata": {},
      "source": [
        "# Multivariate Linear Regression"
      ]
    },
    {
      "cell_type": "markdown",
      "metadata": {},
      "source": [
        "# step 1 :\n",
        "\n",
        "Importing the Dataset "
      ]
    },
    {
      "cell_type": "code",
      "execution_count": 21,
      "metadata": {
        "scrolled": true
      },
      "outputs": [
        {
          "name": "stdout",
          "output_type": "stream",
          "text": [
            "      AT      V       AP     RH      PE\n",
            "0  14.96  41.76  1024.07  73.17  463.26\n",
            "1  25.18  62.96  1020.04  59.08  444.37\n",
            "2   5.11  39.40  1012.16  92.14  488.56\n",
            "3  20.86  57.32  1010.24  76.64  446.48\n",
            "4  10.82  37.50  1009.23  96.62  473.90\n"
          ]
        }
      ],
      "source": [
        "import numpy as np\n",
        "from matplotlib import pyplot as plt\n",
        "import pandas as pd\n",
        "\n",
        "%matplotlib inline\n",
        "my_data = pd.read_excel(\"energy_data.xlsx\")\n",
        "print(my_data.head(5))"
      ]
    },
    {
      "cell_type": "markdown",
      "metadata": {},
      "source": [
        "AT = Temp\n",
        "V = Vaccum\n",
        "P = Pressure\n",
        "RH = Humidity\n",
        "PE = Energy Input"
      ]
    },
    {
      "cell_type": "markdown",
      "metadata": {},
      "source": [
        "# Step 2. Normalize the data:"
      ]
    },
    {
      "cell_type": "code",
      "execution_count": 22,
      "metadata": {},
      "outputs": [
        {
          "data": {
            "text/html": [
              "<div>\n",
              "<style scoped>\n",
              "    .dataframe tbody tr th:only-of-type {\n",
              "        vertical-align: middle;\n",
              "    }\n",
              "\n",
              "    .dataframe tbody tr th {\n",
              "        vertical-align: top;\n",
              "    }\n",
              "\n",
              "    .dataframe thead th {\n",
              "        text-align: right;\n",
              "    }\n",
              "</style>\n",
              "<table border=\"1\" class=\"dataframe\">\n",
              "  <thead>\n",
              "    <tr style=\"text-align: right;\">\n",
              "      <th></th>\n",
              "      <th>AT</th>\n",
              "      <th>V</th>\n",
              "      <th>AP</th>\n",
              "      <th>RH</th>\n",
              "      <th>PE</th>\n",
              "    </tr>\n",
              "  </thead>\n",
              "  <tbody>\n",
              "    <tr>\n",
              "      <th>0</th>\n",
              "      <td>-0.629486</td>\n",
              "      <td>-0.987245</td>\n",
              "      <td>1.820393</td>\n",
              "      <td>-0.009519</td>\n",
              "      <td>0.521181</td>\n",
              "    </tr>\n",
              "    <tr>\n",
              "      <th>1</th>\n",
              "      <td>0.741870</td>\n",
              "      <td>0.681010</td>\n",
              "      <td>1.141803</td>\n",
              "      <td>-0.974570</td>\n",
              "      <td>-0.585634</td>\n",
              "    </tr>\n",
              "    <tr>\n",
              "      <th>2</th>\n",
              "      <td>-1.951195</td>\n",
              "      <td>-1.172956</td>\n",
              "      <td>-0.185068</td>\n",
              "      <td>1.289772</td>\n",
              "      <td>2.003574</td>\n",
              "    </tr>\n",
              "    <tr>\n",
              "      <th>3</th>\n",
              "      <td>0.162197</td>\n",
              "      <td>0.237191</td>\n",
              "      <td>-0.508366</td>\n",
              "      <td>0.228148</td>\n",
              "      <td>-0.462003</td>\n",
              "    </tr>\n",
              "    <tr>\n",
              "      <th>4</th>\n",
              "      <td>-1.185007</td>\n",
              "      <td>-1.322470</td>\n",
              "      <td>-0.678435</td>\n",
              "      <td>1.596616</td>\n",
              "      <td>1.144606</td>\n",
              "    </tr>\n",
              "  </tbody>\n",
              "</table>\n",
              "</div>"
            ],
            "text/plain": [
              "         AT         V        AP        RH        PE\n",
              "0 -0.629486 -0.987245  1.820393 -0.009519  0.521181\n",
              "1  0.741870  0.681010  1.141803 -0.974570 -0.585634\n",
              "2 -1.951195 -1.172956 -0.185068  1.289772  2.003574\n",
              "3  0.162197  0.237191 -0.508366  0.228148 -0.462003\n",
              "4 -1.185007 -1.322470 -0.678435  1.596616  1.144606"
            ]
          },
          "execution_count": 22,
          "metadata": {},
          "output_type": "execute_result"
        }
      ],
      "source": [
        "# we need to normalize the features using mean normalization\n",
        "my_data = (my_data - my_data.mean()) / my_data.std()\n",
        "my_data.head()"
      ]
    },
    {
      "cell_type": "markdown",
      "metadata": {},
      "source": [
        "# Step 3. Create matrices and set hyperparameters:"
      ]
    },
    {
      "cell_type": "code",
      "execution_count": 23,
      "metadata": {},
      "outputs": [],
      "source": [
        "# setting the matrixes\n",
        "X = my_data.iloc[:, 0:2]\n",
        "ones = np.ones([X.shape[0], 1])\n",
        "X = np.concatenate((ones, X), axis=1)\n",
        "\n",
        "y = my_data.iloc[\n",
        "    :, 2:3\n",
        "].values  # .values converts it from pandas.core.frame.DataFrame to numpy.ndarray\n",
        "theta = np.zeros([1, 3])\n",
        "\n",
        "# set hyper parameters\n",
        "alpha = 0.01\n",
        "iters = 1000"
      ]
    },
    {
      "cell_type": "markdown",
      "metadata": {},
      "source": [
        "This should be pretty routine by now. We assign the first two columns as a matrix to X. Then we concatenate an array of ones to X. We assign the third column to y.\n",
        "\n",
        "Finally, we set up the hyperparameters and initialize theta as an array of zeros."
      ]
    },
    {
      "cell_type": "markdown",
      "metadata": {},
      "source": [
        "# Step 4. Create the cost function:"
      ]
    },
    {
      "cell_type": "code",
      "execution_count": 24,
      "metadata": {},
      "outputs": [],
      "source": [
        "# computecost\n",
        "def computeCost(X, y, theta):\n",
        "    tobesummed = np.power(((X @ theta.T) - y), 2)\n",
        "    return np.sum(tobesummed) / (2 * len(X))"
      ]
    },
    {
      "cell_type": "markdown",
      "metadata": {},
      "source": [
        "# Step 5. Create the Gradient Descent function:"
      ]
    },
    {
      "cell_type": "code",
      "execution_count": 25,
      "metadata": {},
      "outputs": [
        {
          "name": "stdout",
          "output_type": "stream",
          "text": [
            "[[-4.76757476e-13 -4.87981740e-01 -1.14749741e-02]]\n",
            "0.3713970113203531\n"
          ]
        }
      ],
      "source": [
        "# gradient descent\n",
        "def gradientDescent(X, y, theta, iters, alpha):\n",
        "    cost = np.zeros(iters)\n",
        "    for i in range(iters):\n",
        "        theta = theta - (alpha / len(X)) * np.sum(X * (X @ theta.T - y), axis=0)\n",
        "        cost[i] = computeCost(X, y, theta)\n",
        "\n",
        "    return theta, cost\n",
        "\n",
        "\n",
        "# running the gd and cost function\n",
        "g, cost = gradientDescent(X, y, theta, iters, alpha)\n",
        "print(g)\n",
        "\n",
        "finalCost = computeCost(X, y, g)\n",
        "print(finalCost)"
      ]
    },
    {
      "cell_type": "code",
      "execution_count": 26,
      "metadata": {},
      "outputs": [
        {
          "name": "stdout",
          "output_type": "stream",
          "text": [
            "[[-4.76757476e-13 -4.87981740e-01 -1.14749741e-02]]\n",
            "0.3713970113203531\n"
          ]
        }
      ],
      "source": [
        "g, cost = gradientDescent(X, y, theta, iters, alpha)\n",
        "print(\n",
        "    g\n",
        ")  # [[ -1.03191687e-16   8.78503652e-01  -4.69166570e-02]]finalCost = computeCost(X,y,g)\n",
        "print(finalCost)  # 0.13070336960771892"
      ]
    },
    {
      "cell_type": "markdown",
      "metadata": {},
      "source": [
        "# Step 6. The cost plot:"
      ]
    },
    {
      "cell_type": "code",
      "execution_count": 27,
      "metadata": {},
      "outputs": [
        {
          "data": {
            "text/plain": [
              "Text(0.5, 1.0, 'Error vs. Training Epoch')"
            ]
          },
          "execution_count": 27,
          "metadata": {},
          "output_type": "execute_result"
        },
        {
          "data": {
            "image/png": "[encoded data removed]",
            "text/plain": [
              "<Figure size 432x288 with 1 Axes>"
            ]
          },
          "metadata": {
            "needs_background": "light"
          },
          "output_type": "display_data"
        }
      ],
      "source": [
        "# plot the cost\n",
        "fig, ax = plt.subplots()\n",
        "ax.plot(np.arange(iters), cost, \"r\")\n",
        "ax.set_xlabel(\"Iterations\")\n",
        "ax.set_ylabel(\"Cost\")\n",
        "ax.set_title(\"Error vs. Training Epoch\")"
      ]
    },
    {
      "cell_type": "code",
      "execution_count": null,
      "metadata": {},
      "outputs": [],
      "source": []
    },
    {
      "cell_type": "code",
      "execution_count": null,
      "metadata": {},
      "outputs": [],
      "source": []
    }
  ],
  "metadata": {
    "kernelspec": {
      "display_name": "Python 3",
      "language": "python",
      "name": "python3"
    },
    "language_info": {
      "codemirror_mode": {
        "name": "ipython",
        "version": 3
      },
      "file_extension": ".py",
      "mimetype": "text/x-python",
      "name": "python",
      "nbconvert_exporter": "python",
      "pygments_lexer": "ipython3",
      "version": "3.7.7"
    }
  },
  "nbformat": 4,
  "nbformat_minor": 4
}
