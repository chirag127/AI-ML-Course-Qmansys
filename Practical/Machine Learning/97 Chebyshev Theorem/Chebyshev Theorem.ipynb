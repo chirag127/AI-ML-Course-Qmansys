{
 "cells": [
  {
   "cell_type": "markdown",
   "metadata": {},
   "source": [
    "# Chebyshev Theorem\n"
   ]
  },
  {
   "cell_type": "code",
   "execution_count": 3,
   "metadata": {},
   "outputs": [
    {
     "name": "stderr",
     "output_type": "stream",
     "text": [
      "UsageError: Line magic function `%` not found.\n"
     ]
    }
   ],
   "source": [
    "import numpy as np\n",
    "import random\n",
    "import matplotlib.pyplot as plt\n",
    "\n",
    "\n",
    "\n",
    "# Step 1\n",
    "# create a population with a gamma distribution\n",
    "shape, scale = 2.0, 2.0  # mean=4, std=2*sqrt(2)\n",
    "mu = shape * scale  # mean and standard deviation\n",
    "sigma = scale * np.sqrt(shape)\n",
    "s = np.random.gamma(shape, scale, 1000000)\n",
    "\n",
    "# Step 2\n",
    "# sample 10,000 sample\n",
    "rs = random.choices(s, k=10000)\n",
    "\n",
    "# Step 3\n",
    "# set k\n",
    "ks = [0.1, 0.5, 1.0, 1.5, 2.0, 2.5, 3.0]\n",
    "# prob list\n",
    "probs = []\n",
    "# for each k\n",
    "for k in ks:\n",
    "    # start count\n",
    "    c = sum(abs(i - mu) > k * sigma for i in rs)\n",
    "    # probability of sample has a distance from an expected value larger than k standrad deviation\n",
    "    probs.append(c / 10000)\n",
    "\n",
    "# Step 4\n",
    "# set figure size\n",
    "plot = plt.figure(figsize=(20, 10))\n",
    "# plot each probability\n",
    "plt.plot(ks, probs, marker=\"o\")\n",
    "# show plot\n",
    "plot.show()\n",
    "# print each probability\n",
    "print(\"Probability of a sample far from mean more than k standard deviation:\")\n",
    "for i, prob in enumerate(probs):\n",
    "    print(f\"k:{str(ks[i])}, probability: {str(prob)[:5]} | in theory, probability should less than: {str(1 / ks[i] ** 2)[:5]}\")\n"
   ]
  }
 ],
 "metadata": {
  "interpreter": {
   "hash": "ba37d69516b96b2df66115ef342e83722e1a1518f5d2e0ee41eb08141fa2fe2a"
  },
  "kernelspec": {
   "display_name": "Python 3.10.4 64-bit (windows store)",
   "language": "python",
   "name": "python3"
  },
  "language_info": {
   "codemirror_mode": {
    "name": "ipython",
    "version": 3
   },
   "file_extension": ".py",
   "mimetype": "text/x-python",
   "name": "python",
   "nbconvert_exporter": "python",
   "pygments_lexer": "ipython3",
   "version": "3.10.4"
  }
 },
 "nbformat": 4,
 "nbformat_minor": 2
}
