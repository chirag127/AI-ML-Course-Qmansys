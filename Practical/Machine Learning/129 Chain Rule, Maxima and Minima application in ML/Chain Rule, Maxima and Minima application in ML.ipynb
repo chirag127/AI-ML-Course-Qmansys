{
 "cells": [
  {
   "cell_type": "markdown",
   "metadata": {},
   "source": [
    "# Chain Rule, Maxima and Minima application in ML\n"
   ]
  },
  {
   "cell_type": "markdown",
   "metadata": {},
   "source": [
    "# The Chain Rule of Differentiation"
   ]
  },
  {
   "cell_type": "markdown",
   "metadata": {},
   "source": [
    "\n",
    "The chain rule is a powerful and useful derivation technique that allows the derivation of functions that would not be straightforward or possible with the only the previously discussed rules at our disposal. The rule takes advantage of the \"compositeness\" of a function. For example, consider the function:\n",
    "f(x)=sin4x\n",
    "\n",
    "This function can be broken into a composite function f∘g\n",
    "\n",
    "by observing that:\n",
    "y=f(u)=sinu and u=g(x)=4x\n",
    "\n",
    "Therefore we can reinterpret the original function as:\n",
    "F(x)=f(g(x)), or F=f∘g\n",
    "\n",
    "The chain rule gives us the ability the find the derivatives of f\n",
    "and g\n",
    "\n",
    "using the tools we previously discussed. We can state the chain rule more precisely as:\n",
    "\n",
    "Assuming g\n",
    "is differentiable at x and the derivative of f(g(x)) exists, then we can state the composite function F=f∘g as F(x)=f(g(x)) and F′\n",
    "\n",
    "is given by:\n",
    "F′(x)=f′(g(x))∘g′(x)"
   ]
  },
  {
   "cell_type": "markdown",
   "metadata": {},
   "source": [
    "In Leibniz notation, assuming y=f(u) and u=g(x)\n",
    "\n",
    "have derivatives, the chain rule can be expressed as:\n",
    "dydx=dydu dudx\n",
    "\n",
    "With the chain rule, we can now find the derivative of the function f(x)=sin4x\n",
    "\n",
    ".\n",
    "u=4x,y=sinu\n",
    "du/dx=4,dy/du=cosu\n",
    "dy/dx=4cos4x"
   ]
  },
  {
   "cell_type": "code",
   "execution_count": 2,
   "metadata": {},
   "outputs": [],
   "source": [
    "from sympy import symbols, diff, sin, cos, sqrt, simplify, init_printing"
   ]
  },
  {
   "cell_type": "code",
   "execution_count": 3,
   "metadata": {},
   "outputs": [],
   "source": [
    "init_printing()\n",
    "x = symbols('x')"
   ]
  },
  {
   "cell_type": "code",
   "execution_count": 4,
   "metadata": {},
   "outputs": [
    {
     "data": {
      "image/png": "[encoded data removed]",
      "text/latex": [
       "$\\displaystyle 4 \\cos{\\left(4 x \\right)}$"
      ],
      "text/plain": [
       "4⋅cos(4⋅x)"
      ]
     },
     "execution_count": 4,
     "metadata": {},
     "output_type": "execute_result"
    }
   ],
   "source": [
    "diff(sin(4 * x))"
   ]
  },
  {
   "cell_type": "markdown",
   "metadata": {},
   "source": [
    "# Examples"
   ]
  },
  {
   "cell_type": "markdown",
   "metadata": {},
   "source": [
    "\n",
    "\n",
    "These and the previous example are taken from James Stewart's Calculus Early Transcendentals (Section 3.4, pp. 203)\n",
    "\n",
    "Example 1: Find the derivative of f(x)=(1−x2)10\n",
    "\n",
    "u=1−x2,y=u10\n",
    "dy/du=10u9,du/dx=−2x\n",
    "dy/dx=10(1−x2)9∗−2x=−20x(1−x2)9"
   ]
  },
  {
   "cell_type": "code",
   "execution_count": 6,
   "metadata": {},
   "outputs": [
    {
     "data": {
      "image/png": "[encoded data removed]",
      "text/latex": [
       "$\\displaystyle - 20 x \\left(1 - x^{2}\\right)^{9}$"
      ],
      "text/plain": [
       "              9\n",
       "      ⎛     2⎞ \n",
       "-20⋅x⋅⎝1 - x ⎠ "
      ]
     },
     "execution_count": 6,
     "metadata": {},
     "output_type": "execute_result"
    }
   ],
   "source": [
    "diff((1 - x ** 2) ** 10)"
   ]
  },
  {
   "cell_type": "markdown",
   "metadata": {},
   "source": [
    "Example 2: Find the derivative of f(x)=ex√\n"
   ]
  },
  {
   "cell_type": "code",
   "execution_count": 7,
   "metadata": {},
   "outputs": [],
   "source": [
    "from mpmath import e"
   ]
  },
  {
   "cell_type": "code",
   "execution_count": 8,
   "metadata": {},
   "outputs": [
    {
     "data": {
      "image/png": "[encoded data removed]",
      "text/latex": [
       "$\\displaystyle \\frac{0.5 \\cdot 2.71828182845905^{\\sqrt{x}}}{\\sqrt{x}}$"
      ],
      "text/plain": [
       "                    √x\n",
       "0.5⋅2.71828182845905  \n",
       "──────────────────────\n",
       "          √x          "
      ]
     },
     "execution_count": 8,
     "metadata": {},
     "output_type": "execute_result"
    }
   ],
   "source": [
    "diff(e ** sqrt(x))"
   ]
  },
  {
   "cell_type": "markdown",
   "metadata": {},
   "source": [
    "Example 3: Find the derivative of f(x)=1+2x+x3−−−−−−−−−√4"
   ]
  },
  {
   "cell_type": "code",
   "execution_count": 9,
   "metadata": {},
   "outputs": [
    {
     "data": {
      "image/png": "[encoded data removed]",
      "text/latex": [
       "$\\displaystyle \\frac{0.75 x^{2} + 0.5}{\\left(x^{3} + 2 x + 1\\right)^{0.75}}$"
      ],
      "text/plain": [
       "                              -0.75\n",
       "⎛      2      ⎞ ⎛ 3          ⎞     \n",
       "⎝0.75⋅x  + 0.5⎠⋅⎝x  + 2⋅x + 1⎠     "
      ]
     },
     "execution_count": 9,
     "metadata": {},
     "output_type": "execute_result"
    }
   ],
   "source": [
    "diff((1 + 2 * x + x ** 3) ** (1/4))"
   ]
  },
  {
   "cell_type": "markdown",
   "metadata": {},
   "source": [
    "# Maxima and Minima application in ML\n"
   ]
  },
  {
   "cell_type": "markdown",
   "metadata": {},
   "source": [
    "# Algorithm\n",
    "\n",
    "maxminposition(A, n)\n",
    "/* A is a user input list and n is the size of the list.*/\n",
    "Step 1: use inbuilt function for finding the position of minimum element.\n",
    "            A.index(min(A))\n",
    "Step 2: use inbuilt function for finding the position of a maximum element.\n",
    "            A.index(max(A))\n"
   ]
  },
  {
   "cell_type": "markdown",
   "metadata": {},
   "source": [
    "# Example Code"
   ]
  },
  {
   "cell_type": "code",
   "execution_count": 10,
   "metadata": {},
   "outputs": [
    {
     "name": "stdout",
     "output_type": "stream",
     "text": [
      "Enter the size of the List ::4\n",
      "Enter the Element ::\n",
      "1\n",
      "2\n",
      "3\n",
      "4\n",
      "The maximum is at position:: 4\n",
      "The minimum is at position:: 1\n"
     ]
    }
   ],
   "source": [
    "# Function to find minimum and maximum position in list\n",
    "def maxminposition(A, n):\n",
    "   # inbuilt function to find the position of minimum \n",
    "   minposition = A.index(min(A))\n",
    "   # inbuilt function to find the position of maximum \n",
    "   maxposition = A.index(max(A)) \n",
    "   print (\"The maximum is at position::\", maxposition + 1) \n",
    "   print (\"The minimum is at position::\", minposition + 1)\n",
    "# Driver code\n",
    "A=list()\n",
    "n=int(input(\"Enter the size of the List ::\"))\n",
    "print(\"Enter the Element ::\")\n",
    "for i in range(int(n)):\n",
    "   k=int(input(\"\"))\n",
    "   A.append(k)\n",
    "maxminposition(A,n)"
   ]
  },
  {
   "cell_type": "code",
   "execution_count": 11,
   "metadata": {},
   "outputs": [
    {
     "name": "stdout",
     "output_type": "stream",
     "text": [
      "20\n",
      "2\n"
     ]
    }
   ],
   "source": [
    "#Create a set\n",
    "seta = set([5, 10, 3, 15, 2, 20])\n",
    "#Find maximum value\n",
    "print(max(seta))\n",
    "#Find minimum value\n",
    "print(min(seta))\n"
   ]
  },
  {
   "cell_type": "code",
   "execution_count": null,
   "metadata": {},
   "outputs": [],
   "source": []
  }
 ],
 "metadata": {
  "kernelspec": {
   "display_name": "Python 3",
   "language": "python",
   "name": "python3"
  },
  "language_info": {
   "codemirror_mode": {
    "name": "ipython",
    "version": 3
   },
   "file_extension": ".py",
   "mimetype": "text/x-python",
   "name": "python",
   "nbconvert_exporter": "python",
   "pygments_lexer": "ipython3",
   "version": "3.7.7"
  }
 },
 "nbformat": 4,
 "nbformat_minor": 4
}
