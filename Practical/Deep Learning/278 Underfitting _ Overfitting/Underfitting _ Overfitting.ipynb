{
 "cells": [
  {
   "cell_type": "markdown",
   "metadata": {},
   "source": [
    "# Underfitting & Overfitting\n"
   ]
  },
  {
   "cell_type": "code",
   "execution_count": 1,
   "metadata": {},
   "outputs": [
    {
     "name": "stderr",
     "output_type": "stream",
     "text": [
      "Using TensorFlow backend.\n"
     ]
    },
    {
     "data": {
      "text/plain": [
       "'2.2.4'"
      ]
     },
     "execution_count": 1,
     "metadata": {},
     "output_type": "execute_result"
    }
   ],
   "source": [
    "import keras\n",
    "keras.__version__"
   ]
  },
  {
   "cell_type": "code",
   "execution_count": 2,
   "metadata": {},
   "outputs": [],
   "source": [
    "from keras.datasets import imdb\n",
    "import numpy as np\n",
    "\n",
    "# save np.load\n",
    "np_load_old = np.load\n",
    "\n",
    "# modify the default parameters of np.load\n",
    "np.load = lambda *a,**k: np_load_old(*a, allow_pickle=True, **k)\n",
    "\n",
    "# call load_data with allow_pickle implicitly set to true\n",
    "(train_data, train_labels), (test_data, test_labels) = imdb.load_data(num_words=10000)\n",
    "\n",
    "# restore np.load for future normal usage\n",
    "np.load = np_load_old\n",
    "\n",
    "def vectorize_sequences(sequences, dimension=10000):\n",
    "    # Create an all-zero matrix of shape (len(sequences), dimension)\n",
    "    results = np.zeros((len(sequences), dimension))\n",
    "    for i, sequence in enumerate(sequences):\n",
    "        results[i, sequence] = 1.  # set specific indices of results[i] to 1s\n",
    "    return results\n",
    "\n",
    "# Our vectorized training data\n",
    "x_train = vectorize_sequences(train_data)\n",
    "# Our vectorized test data\n",
    "x_test = vectorize_sequences(test_data)\n",
    "# Our vectorized labels\n",
    "y_train = np.asarray(train_labels).astype('float32')\n",
    "y_test = np.asarray(test_labels).astype('float32')"
   ]
  },
  {
   "cell_type": "markdown",
   "metadata": {},
   "source": [
    "# Fighting overfitting\n",
    "Reducing the network's size"
   ]
  },
  {
   "cell_type": "code",
   "execution_count": 3,
   "metadata": {},
   "outputs": [
    {
     "name": "stdout",
     "output_type": "stream",
     "text": [
      "WARNING:tensorflow:From C:\\ProgramData\\Anaconda3\\lib\\site-packages\\keras\\backend\\tensorflow_backend.py:74: The name tf.get_default_graph is deprecated. Please use tf.compat.v1.get_default_graph instead.\n",
      "\n",
      "WARNING:tensorflow:From C:\\ProgramData\\Anaconda3\\lib\\site-packages\\keras\\backend\\tensorflow_backend.py:517: The name tf.placeholder is deprecated. Please use tf.compat.v1.placeholder instead.\n",
      "\n",
      "WARNING:tensorflow:From C:\\ProgramData\\Anaconda3\\lib\\site-packages\\keras\\backend\\tensorflow_backend.py:4138: The name tf.random_uniform is deprecated. Please use tf.random.uniform instead.\n",
      "\n",
      "WARNING:tensorflow:From C:\\ProgramData\\Anaconda3\\lib\\site-packages\\keras\\optimizers.py:790: The name tf.train.Optimizer is deprecated. Please use tf.compat.v1.train.Optimizer instead.\n",
      "\n",
      "WARNING:tensorflow:From C:\\ProgramData\\Anaconda3\\lib\\site-packages\\keras\\backend\\tensorflow_backend.py:3376: The name tf.log is deprecated. Please use tf.math.log instead.\n",
      "\n",
      "WARNING:tensorflow:From C:\\ProgramData\\Anaconda3\\lib\\site-packages\\tensorflow_core\\python\\ops\\nn_impl.py:183: where (from tensorflow.python.ops.array_ops) is deprecated and will be removed in a future version.\n",
      "Instructions for updating:\n",
      "Use tf.where in 2.0, which has the same broadcast rule as np.where\n"
     ]
    }
   ],
   "source": [
    "from keras import models\n",
    "from keras import layers\n",
    "\n",
    "original_model = models.Sequential()\n",
    "original_model.add(layers.Dense(16, activation='relu', input_shape=(10000,)))\n",
    "original_model.add(layers.Dense(16, activation='relu'))\n",
    "original_model.add(layers.Dense(1, activation='sigmoid'))\n",
    "\n",
    "original_model.compile(optimizer='rmsprop',\n",
    "                       loss='binary_crossentropy',\n",
    "                       metrics=['acc'])"
   ]
  },
  {
   "cell_type": "code",
   "execution_count": 4,
   "metadata": {},
   "outputs": [],
   "source": [
    "smaller_model = models.Sequential()\n",
    "smaller_model.add(layers.Dense(4, activation='relu', input_shape=(10000,)))\n",
    "smaller_model.add(layers.Dense(4, activation='relu'))\n",
    "smaller_model.add(layers.Dense(1, activation='sigmoid'))\n",
    "\n",
    "smaller_model.compile(optimizer='rmsprop',\n",
    "                      loss='binary_crossentropy',\n",
    "                      metrics=['acc'])"
   ]
  },
  {
   "cell_type": "code",
   "execution_count": 5,
   "metadata": {},
   "outputs": [
    {
     "name": "stdout",
     "output_type": "stream",
     "text": [
      "WARNING:tensorflow:From C:\\ProgramData\\Anaconda3\\lib\\site-packages\\keras\\backend\\tensorflow_backend.py:986: The name tf.assign_add is deprecated. Please use tf.compat.v1.assign_add instead.\n",
      "\n",
      "WARNING:tensorflow:From C:\\ProgramData\\Anaconda3\\lib\\site-packages\\keras\\backend\\tensorflow_backend.py:973: The name tf.assign is deprecated. Please use tf.compat.v1.assign instead.\n",
      "\n",
      "WARNING:tensorflow:From C:\\ProgramData\\Anaconda3\\lib\\site-packages\\keras\\backend\\tensorflow_backend.py:2741: The name tf.Session is deprecated. Please use tf.compat.v1.Session instead.\n",
      "\n",
      "Train on 25000 samples, validate on 25000 samples\n",
      "Epoch 1/20\n",
      "WARNING:tensorflow:From C:\\ProgramData\\Anaconda3\\lib\\site-packages\\keras\\backend\\tensorflow_backend.py:174: The name tf.get_default_session is deprecated. Please use tf.compat.v1.get_default_session instead.\n",
      "\n",
      "WARNING:tensorflow:From C:\\ProgramData\\Anaconda3\\lib\\site-packages\\keras\\backend\\tensorflow_backend.py:181: The name tf.ConfigProto is deprecated. Please use tf.compat.v1.ConfigProto instead.\n",
      "\n",
      "WARNING:tensorflow:From C:\\ProgramData\\Anaconda3\\lib\\site-packages\\keras\\backend\\tensorflow_backend.py:190: The name tf.global_variables is deprecated. Please use tf.compat.v1.global_variables instead.\n",
      "\n",
      "WARNING:tensorflow:From C:\\ProgramData\\Anaconda3\\lib\\site-packages\\keras\\backend\\tensorflow_backend.py:199: The name tf.is_variable_initialized is deprecated. Please use tf.compat.v1.is_variable_initialized instead.\n",
      "\n",
      "WARNING:tensorflow:From C:\\ProgramData\\Anaconda3\\lib\\site-packages\\keras\\backend\\tensorflow_backend.py:206: The name tf.variables_initializer is deprecated. Please use tf.compat.v1.variables_initializer instead.\n",
      "\n",
      "25000/25000 [==============================] - 11s 430us/step - loss: 0.4440 - acc: 0.8244 - val_loss: 0.3288 - val_acc: 0.8846\n",
      "Epoch 2/20\n",
      "25000/25000 [==============================] - 9s 345us/step - loss: 0.2575 - acc: 0.9079 - val_loss: 0.2855 - val_acc: 0.8891\n",
      "Epoch 3/20\n",
      "25000/25000 [==============================] - 6s 249us/step - loss: 0.1992 - acc: 0.9290 - val_loss: 0.2822 - val_acc: 0.8886\n",
      "Epoch 4/20\n",
      "25000/25000 [==============================] - 6s 247us/step - loss: 0.1663 - acc: 0.9414 - val_loss: 0.2943 - val_acc: 0.8842\n",
      "Epoch 5/20\n",
      "25000/25000 [==============================] - 6s 249us/step - loss: 0.1425 - acc: 0.9504 - val_loss: 0.3121 - val_acc: 0.8806\n",
      "Epoch 6/20\n",
      "25000/25000 [==============================] - 7s 280us/step - loss: 0.1245 - acc: 0.9567 - val_loss: 0.3524 - val_acc: 0.8712\n",
      "Epoch 7/20\n",
      "25000/25000 [==============================] - 7s 291us/step - loss: 0.1095 - acc: 0.9628 - val_loss: 0.3592 - val_acc: 0.8727\n",
      "Epoch 8/20\n",
      "25000/25000 [==============================] - 7s 281us/step - loss: 0.0959 - acc: 0.9677 - val_loss: 0.3991 - val_acc: 0.8659\n",
      "Epoch 9/20\n",
      "25000/25000 [==============================] - 7s 269us/step - loss: 0.0827 - acc: 0.9728 - val_loss: 0.4323 - val_acc: 0.8615\n",
      "Epoch 10/20\n",
      "25000/25000 [==============================] - 7s 264us/step - loss: 0.0723 - acc: 0.9774 - val_loss: 0.5151 - val_acc: 0.8512\n",
      "Epoch 11/20\n",
      "25000/25000 [==============================] - 7s 274us/step - loss: 0.0662 - acc: 0.9787 - val_loss: 0.4862 - val_acc: 0.8606\n",
      "Epoch 12/20\n",
      "25000/25000 [==============================] - 7s 299us/step - loss: 0.0534 - acc: 0.9840 - val_loss: 0.5278 - val_acc: 0.8568\n",
      "Epoch 13/20\n",
      "25000/25000 [==============================] - 6s 253us/step - loss: 0.0482 - acc: 0.9858 - val_loss: 0.5365 - val_acc: 0.8585\n",
      "Epoch 14/20\n",
      "25000/25000 [==============================] - 6s 258us/step - loss: 0.0391 - acc: 0.9891 - val_loss: 0.6328 - val_acc: 0.8480\n",
      "Epoch 15/20\n",
      "25000/25000 [==============================] - 6s 256us/step - loss: 0.0360 - acc: 0.9894 - val_loss: 0.6121 - val_acc: 0.8556\n",
      "Epoch 16/20\n",
      "25000/25000 [==============================] - 7s 268us/step - loss: 0.0270 - acc: 0.9933 - val_loss: 0.6612 - val_acc: 0.8513\n",
      "Epoch 17/20\n",
      "25000/25000 [==============================] - 6s 258us/step - loss: 0.0259 - acc: 0.9928 - val_loss: 0.6830 - val_acc: 0.8530\n",
      "Epoch 18/20\n",
      "25000/25000 [==============================] - 7s 265us/step - loss: 0.0164 - acc: 0.9967 - val_loss: 0.7217 - val_acc: 0.8525\n",
      "Epoch 19/20\n",
      "25000/25000 [==============================] - 7s 264us/step - loss: 0.0194 - acc: 0.9946 - val_loss: 0.7570 - val_acc: 0.8511\n",
      "Epoch 20/20\n",
      "25000/25000 [==============================] - 6s 259us/step - loss: 0.0121 - acc: 0.9976 - val_loss: 0.9413 - val_acc: 0.8357\n"
     ]
    }
   ],
   "source": [
    "original_hist = original_model.fit(x_train, y_train,\n",
    "                                   epochs=20,\n",
    "                                   batch_size=512,\n",
    "                                   validation_data=(x_test, y_test))"
   ]
  },
  {
   "cell_type": "code",
   "execution_count": 6,
   "metadata": {},
   "outputs": [
    {
     "name": "stdout",
     "output_type": "stream",
     "text": [
      "Train on 25000 samples, validate on 25000 samples\n",
      "Epoch 1/20\n",
      "25000/25000 [==============================] - 8s 336us/step - loss: 0.5804 - acc: 0.7030 - val_loss: 0.5307 - val_acc: 0.7566\n",
      "Epoch 2/20\n",
      "25000/25000 [==============================] - 6s 244us/step - loss: 0.4842 - acc: 0.8452 - val_loss: 0.4870 - val_acc: 0.8305\n",
      "Epoch 3/20\n",
      "25000/25000 [==============================] - 6s 256us/step - loss: 0.4388 - acc: 0.8927 - val_loss: 0.4660 - val_acc: 0.8507\n",
      "Epoch 4/20\n",
      "25000/25000 [==============================] - 6s 254us/step - loss: 0.4077 - acc: 0.9156 - val_loss: 0.4537 - val_acc: 0.8631\n",
      "Epoch 5/20\n",
      "25000/25000 [==============================] - 7s 261us/step - loss: 0.3832 - acc: 0.9306 - val_loss: 0.4541 - val_acc: 0.8586\n",
      "Epoch 6/20\n",
      "25000/25000 [==============================] - 7s 267us/step - loss: 0.3620 - acc: 0.9413 - val_loss: 0.4439 - val_acc: 0.8710\n",
      "Epoch 7/20\n",
      "25000/25000 [==============================] - 7s 289us/step - loss: 0.3427 - acc: 0.9510 - val_loss: 0.4508 - val_acc: 0.8666\n",
      "Epoch 8/20\n",
      "25000/25000 [==============================] - 8s 310us/step - loss: 0.3263 - acc: 0.9565 - val_loss: 0.4556 - val_acc: 0.8661\n",
      "Epoch 9/20\n",
      "25000/25000 [==============================] - 7s 272us/step - loss: 0.3100 - acc: 0.9616 - val_loss: 0.4682 - val_acc: 0.8624\n",
      "Epoch 10/20\n",
      "25000/25000 [==============================] - 7s 280us/step - loss: 0.2960 - acc: 0.9658 - val_loss: 0.4862 - val_acc: 0.8582 - acc: 0.\n",
      "Epoch 11/20\n",
      "25000/25000 [==============================] - 7s 277us/step - loss: 0.2816 - acc: 0.9687 - val_loss: 0.4800 - val_acc: 0.8619\n",
      "Epoch 12/20\n",
      "25000/25000 [==============================] - 7s 280us/step - loss: 0.2685 - acc: 0.9724 - val_loss: 0.4759 - val_acc: 0.8636\n",
      "Epoch 13/20\n",
      "25000/25000 [==============================] - 7s 293us/step - loss: 0.2565 - acc: 0.9747 - val_loss: 0.5079 - val_acc: 0.8596\n",
      "Epoch 14/20\n",
      "25000/25000 [==============================] - 7s 289us/step - loss: 0.2457 - acc: 0.9761 - val_loss: 0.5538 - val_acc: 0.8533\n",
      "Epoch 15/20\n",
      "25000/25000 [==============================] - 7s 293us/step - loss: 0.2341 - acc: 0.9781 - val_loss: 0.5147 - val_acc: 0.8597\n",
      "Epoch 16/20\n",
      "25000/25000 [==============================] - 8s 302us/step - loss: 0.2238 - acc: 0.9801 - val_loss: 0.5715 - val_acc: 0.8551\n",
      "Epoch 17/20\n",
      "25000/25000 [==============================] - 7s 284us/step - loss: 0.2146 - acc: 0.9813 - val_loss: 0.5716 - val_acc: 0.8561\n",
      "Epoch 18/20\n",
      "25000/25000 [==============================] - 7s 277us/step - loss: 0.2053 - acc: 0.9823 - val_loss: 0.5695 - val_acc: 0.8561\n",
      "Epoch 19/20\n",
      "25000/25000 [==============================] - 7s 277us/step - loss: 0.1964 - acc: 0.9834 - val_loss: 0.5890 - val_acc: 0.8529\n",
      "Epoch 20/20\n",
      "25000/25000 [==============================] - 7s 293us/step - loss: 0.1892 - acc: 0.9834 - val_loss: 0.6798 - val_acc: 0.8483\n"
     ]
    }
   ],
   "source": [
    "smaller_model_hist = smaller_model.fit(x_train, y_train,\n",
    "                                       epochs=20,\n",
    "                                       batch_size=512,\n",
    "                                       validation_data=(x_test, y_test))"
   ]
  },
  {
   "cell_type": "code",
   "execution_count": 7,
   "metadata": {},
   "outputs": [],
   "source": [
    "epochs = range(1, 21)\n",
    "original_val_loss = original_hist.history['val_loss']\n",
    "smaller_model_val_loss = smaller_model_hist.history['val_loss']"
   ]
  },
  {
   "cell_type": "code",
   "execution_count": 8,
   "metadata": {},
   "outputs": [
    {
     "data": {
      "image/png": "[encoded data removed]",
      "text/plain": [
       "<Figure size 432x288 with 1 Axes>"
      ]
     },
     "metadata": {
      "needs_background": "light"
     },
     "output_type": "display_data"
    }
   ],
   "source": [
    "import matplotlib.pyplot as plt\n",
    "\n",
    "# b+ is for \"blue cross\"\n",
    "plt.plot(epochs, original_val_loss, 'b+', label='Original model')\n",
    "# \"bo\" is for \"blue dot\"\n",
    "plt.plot(epochs, smaller_model_val_loss, 'bo', label='Smaller model')\n",
    "plt.xlabel('Epochs')\n",
    "plt.ylabel('Validation loss')\n",
    "plt.legend()\n",
    "\n",
    "plt.show()"
   ]
  },
  {
   "cell_type": "code",
   "execution_count": 9,
   "metadata": {},
   "outputs": [],
   "source": [
    "bigger_model = models.Sequential()\n",
    "bigger_model.add(layers.Dense(512, activation='relu', input_shape=(10000,)))\n",
    "bigger_model.add(layers.Dense(512, activation='relu'))\n",
    "bigger_model.add(layers.Dense(1, activation='sigmoid'))\n",
    "\n",
    "bigger_model.compile(optimizer='rmsprop',\n",
    "                     loss='binary_crossentropy',\n",
    "                     metrics=['acc'])"
   ]
  },
  {
   "cell_type": "code",
   "execution_count": 10,
   "metadata": {},
   "outputs": [
    {
     "name": "stdout",
     "output_type": "stream",
     "text": [
      "Train on 25000 samples, validate on 25000 samples\n",
      "Epoch 1/20\n",
      "25000/25000 [==============================] - 20s 817us/step - loss: 0.4675 - acc: 0.7956 - val_loss: 0.2825 - val_acc: 0.8879\n",
      "Epoch 2/20\n",
      "25000/25000 [==============================] - 19s 775us/step - loss: 0.2241 - acc: 0.9119 - val_loss: 0.2990 - val_acc: 0.8761\n",
      "Epoch 3/20\n",
      "25000/25000 [==============================] - 20s 785us/step - loss: 0.1350 - acc: 0.9493 - val_loss: 0.3734 - val_acc: 0.8516\n",
      "Epoch 4/20\n",
      "25000/25000 [==============================] - 20s 815us/step - loss: 0.0605 - acc: 0.9814 - val_loss: 0.4022 - val_acc: 0.8830\n",
      "Epoch 5/20\n",
      "25000/25000 [==============================] - 21s 822us/step - loss: 0.0974 - acc: 0.9842 - val_loss: 0.4536 - val_acc: 0.8796\n",
      "Epoch 6/20\n",
      "25000/25000 [==============================] - 21s 838us/step - loss: 0.0020 - acc: 0.9999 - val_loss: 0.6161 - val_acc: 0.8805\n",
      "Epoch 7/20\n",
      "25000/25000 [==============================] - 21s 824us/step - loss: 0.1152 - acc: 0.9887 - val_loss: 0.6444 - val_acc: 0.8793\n",
      "Epoch 8/20\n",
      "25000/25000 [==============================] - 20s 799us/step - loss: 2.7451e-04 - acc: 1.0000 - val_loss: 0.7082 - val_acc: 0.8799\n",
      "Epoch 9/20\n",
      "25000/25000 [==============================] - 19s 771us/step - loss: 6.6222e-05 - acc: 1.0000 - val_loss: 0.8225 - val_acc: 0.8799\n",
      "Epoch 10/20\n",
      "25000/25000 [==============================] - 19s 758us/step - loss: 1.0504e-05 - acc: 1.0000 - val_loss: 0.8904 - val_acc: 0.8781\n",
      "Epoch 11/20\n",
      "25000/25000 [==============================] - 19s 759us/step - loss: 2.1694e-06 - acc: 1.0000 - val_loss: 3.2513 - val_acc: 0.7076\n",
      "Epoch 12/20\n",
      "25000/25000 [==============================] - 19s 751us/step - loss: 0.1390 - acc: 0.9836 - val_loss: 2.7421 - val_acc: 0.7087\n",
      "Epoch 13/20\n",
      "25000/25000 [==============================] - 19s 756us/step - loss: 0.0247 - acc: 0.9965 - val_loss: 0.7838 - val_acc: 0.8759\n",
      "Epoch 14/20\n",
      "25000/25000 [==============================] - 19s 767us/step - loss: 6.7176e-04 - acc: 1.0000 - val_loss: 0.8495 - val_acc: 0.8779\n",
      "Epoch 15/20\n",
      "25000/25000 [==============================] - 19s 776us/step - loss: 6.4847e-04 - acc: 1.0000 - val_loss: 0.9326 - val_acc: 0.8783\n",
      "Epoch 16/20\n",
      "25000/25000 [==============================] - 20s 799us/step - loss: 6.4535e-04 - acc: 1.0000 - val_loss: 1.0018 - val_acc: 0.8792\n",
      "Epoch 17/20\n",
      "25000/25000 [==============================] - 20s 796us/step - loss: 6.4494e-04 - acc: 1.0000 - val_loss: 1.0602 - val_acc: 0.8791\n",
      "Epoch 18/20\n",
      "25000/25000 [==============================] - 19s 767us/step - loss: 6.4486e-04 - acc: 1.0000 - val_loss: 1.0903 - val_acc: 0.8791\n",
      "Epoch 19/20\n",
      "25000/25000 [==============================] - 19s 761us/step - loss: 6.4484e-04 - acc: 1.0000 - val_loss: 1.1053 - val_acc: 0.8794\n",
      "Epoch 20/20\n",
      "25000/25000 [==============================] - 20s 785us/step - loss: 6.4484e-04 - acc: 1.0000 - val_loss: 1.1139 - val_acc: 0.8794\n"
     ]
    }
   ],
   "source": [
    "bigger_model_hist = bigger_model.fit(x_train, y_train,\n",
    "                                     epochs=20,\n",
    "                                     batch_size=512,\n",
    "                                     validation_data=(x_test, y_test))"
   ]
  },
  {
   "cell_type": "code",
   "execution_count": 11,
   "metadata": {},
   "outputs": [
    {
     "data": {
      "image/png": "[encoded data removed]",
      "text/plain": [
       "<Figure size 432x288 with 1 Axes>"
      ]
     },
     "metadata": {
      "needs_background": "light"
     },
     "output_type": "display_data"
    }
   ],
   "source": [
    "bigger_model_val_loss = bigger_model_hist.history['val_loss']\n",
    "\n",
    "plt.plot(epochs, original_val_loss, 'b+', label='Original model')\n",
    "plt.plot(epochs, bigger_model_val_loss, 'bo', label='Bigger model')\n",
    "plt.xlabel('Epochs')\n",
    "plt.ylabel('Validation loss')\n",
    "plt.legend()\n",
    "\n",
    "plt.show()"
   ]
  },
  {
   "cell_type": "code",
   "execution_count": 12,
   "metadata": {},
   "outputs": [
    {
     "data": {
      "image/png": "[encoded data removed]",
      "text/plain": [
       "<Figure size 432x288 with 1 Axes>"
      ]
     },
     "metadata": {
      "needs_background": "light"
     },
     "output_type": "display_data"
    }
   ],
   "source": [
    "original_train_loss = original_hist.history['loss']\n",
    "bigger_model_train_loss = bigger_model_hist.history['loss']\n",
    "\n",
    "plt.plot(epochs, original_train_loss, 'b+', label='Original model')\n",
    "plt.plot(epochs, bigger_model_train_loss, 'bo', label='Bigger model')\n",
    "plt.xlabel('Epochs')\n",
    "plt.ylabel('Training loss')\n",
    "plt.legend()\n",
    "\n",
    "plt.show()"
   ]
  },
  {
   "cell_type": "markdown",
   "metadata": {},
   "source": [
    "## Adding weight regularization"
   ]
  },
  {
   "cell_type": "code",
   "execution_count": 13,
   "metadata": {},
   "outputs": [],
   "source": [
    "from keras import regularizers\n",
    "\n",
    "l2_model = models.Sequential()\n",
    "l2_model.add(layers.Dense(16, kernel_regularizer=regularizers.l2(0.001),\n",
    "                          activation='relu', input_shape=(10000,)))\n",
    "l2_model.add(layers.Dense(16, kernel_regularizer=regularizers.l2(0.001),\n",
    "                          activation='relu'))\n",
    "l2_model.add(layers.Dense(1, activation='sigmoid'))"
   ]
  },
  {
   "cell_type": "code",
   "execution_count": 14,
   "metadata": {},
   "outputs": [],
   "source": [
    "l2_model.compile(optimizer='rmsprop',\n",
    "                 loss='binary_crossentropy',\n",
    "                 metrics=['acc'])"
   ]
  },
  {
   "cell_type": "code",
   "execution_count": 15,
   "metadata": {},
   "outputs": [
    {
     "name": "stdout",
     "output_type": "stream",
     "text": [
      "Train on 25000 samples, validate on 25000 samples\n",
      "Epoch 1/20\n",
      "25000/25000 [==============================] - 8s 303us/step - loss: 0.4887 - acc: 0.8152 - val_loss: 0.3899 - val_acc: 0.8655\n",
      "Epoch 2/20\n",
      "25000/25000 [==============================] - 7s 272us/step - loss: 0.3102 - acc: 0.9057 - val_loss: 0.3304 - val_acc: 0.8891\n",
      "Epoch 3/20\n",
      "25000/25000 [==============================] - 7s 271us/step - loss: 0.2648 - acc: 0.9207 - val_loss: 0.3298 - val_acc: 0.8872\n",
      "Epoch 4/20\n",
      "25000/25000 [==============================] - 7s 266us/step - loss: 0.2449 - acc: 0.9295 - val_loss: 0.3404 - val_acc: 0.8820\n",
      "Epoch 5/20\n",
      "25000/25000 [==============================] - 7s 268us/step - loss: 0.2311 - acc: 0.9352 - val_loss: 0.3805 - val_acc: 0.8687\n",
      "Epoch 6/20\n",
      "25000/25000 [==============================] - 7s 261us/step - loss: 0.2225 - acc: 0.9389 - val_loss: 0.3650 - val_acc: 0.8756\n",
      "Epoch 7/20\n",
      "25000/25000 [==============================] - 6s 257us/step - loss: 0.2155 - acc: 0.9415 - val_loss: 0.3766 - val_acc: 0.8732\n",
      "Epoch 8/20\n",
      "25000/25000 [==============================] - 7s 265us/step - loss: 0.2093 - acc: 0.9443 - val_loss: 0.3733 - val_acc: 0.8758\n",
      "Epoch 9/20\n",
      "25000/25000 [==============================] - 7s 262us/step - loss: 0.2033 - acc: 0.9465 - val_loss: 0.3763 - val_acc: 0.8748\n",
      "Epoch 10/20\n",
      "25000/25000 [==============================] - 6s 248us/step - loss: 0.1998 - acc: 0.9500 - val_loss: 0.3821 - val_acc: 0.8743\n",
      "Epoch 11/20\n",
      "25000/25000 [==============================] - 6s 245us/step - loss: 0.1944 - acc: 0.9489 - val_loss: 0.3839 - val_acc: 0.8756\n",
      "Epoch 12/20\n",
      "25000/25000 [==============================] - 6s 246us/step - loss: 0.1920 - acc: 0.9508 - val_loss: 0.3943 - val_acc: 0.8733\n",
      "Epoch 13/20\n",
      "25000/25000 [==============================] - 6s 242us/step - loss: 0.1881 - acc: 0.9526 - val_loss: 0.3966 - val_acc: 0.8725\n",
      "Epoch 14/20\n",
      "25000/25000 [==============================] - 6s 246us/step - loss: 0.1829 - acc: 0.9553 - val_loss: 0.4332 - val_acc: 0.8622\n",
      "Epoch 15/20\n",
      "25000/25000 [==============================] - 6s 241us/step - loss: 0.1832 - acc: 0.9551 - val_loss: 0.4434 - val_acc: 0.8593\n",
      "Epoch 16/20\n",
      "25000/25000 [==============================] - 6s 242us/step - loss: 0.1774 - acc: 0.9580 - val_loss: 0.4440 - val_acc: 0.8641\n",
      "Epoch 17/20\n",
      "25000/25000 [==============================] - 6s 241us/step - loss: 0.1741 - acc: 0.9592 - val_loss: 0.4180 - val_acc: 0.8703\n",
      "Epoch 18/20\n",
      "25000/25000 [==============================] - 6s 245us/step - loss: 0.1716 - acc: 0.9588 - val_loss: 0.4326 - val_acc: 0.8669\n",
      "Epoch 19/20\n",
      "25000/25000 [==============================] - 6s 243us/step - loss: 0.1688 - acc: 0.9604 - val_loss: 0.4467 - val_acc: 0.8630\n",
      "Epoch 20/20\n",
      "25000/25000 [==============================] - 6s 242us/step - loss: 0.1627 - acc: 0.9643 - val_loss: 0.4336 - val_acc: 0.8682\n"
     ]
    }
   ],
   "source": [
    "l2_model_hist = l2_model.fit(x_train, y_train,\n",
    "                             epochs=20,\n",
    "                             batch_size=512,\n",
    "                             validation_data=(x_test, y_test))"
   ]
  },
  {
   "cell_type": "code",
   "execution_count": 16,
   "metadata": {},
   "outputs": [
    {
     "data": {
      "image/png": "[encoded data removed]",
      "text/plain": [
       "<Figure size 432x288 with 1 Axes>"
      ]
     },
     "metadata": {
      "needs_background": "light"
     },
     "output_type": "display_data"
    }
   ],
   "source": [
    "l2_model_val_loss = l2_model_hist.history['val_loss']\n",
    "\n",
    "plt.plot(epochs, original_val_loss, 'b+', label='Original model')\n",
    "plt.plot(epochs, l2_model_val_loss, 'bo', label='L2-regularized model')\n",
    "plt.xlabel('Epochs')\n",
    "plt.ylabel('Validation loss')\n",
    "plt.legend()\n",
    "\n",
    "plt.show()"
   ]
  },
  {
   "cell_type": "code",
   "execution_count": 17,
   "metadata": {},
   "outputs": [
    {
     "data": {
      "text/plain": [
       "<keras.regularizers.L1L2 at 0x1f601f7b688>"
      ]
     },
     "execution_count": 17,
     "metadata": {},
     "output_type": "execute_result"
    }
   ],
   "source": [
    "from keras import regularizers\n",
    "\n",
    "# L1 regularization\n",
    "regularizers.l1(0.001)\n",
    "\n",
    "# L1 and L2 regularization at the same time\n",
    "regularizers.l1_l2(l1=0.001, l2=0.001)"
   ]
  },
  {
   "cell_type": "code",
   "execution_count": null,
   "metadata": {},
   "outputs": [],
   "source": []
  }
 ],
 "metadata": {
  "kernelspec": {
   "display_name": "Python 3",
   "language": "python",
   "name": "python3"
  },
  "language_info": {
   "codemirror_mode": {
    "name": "ipython",
    "version": 3
   },
   "file_extension": ".py",
   "mimetype": "text/x-python",
   "name": "python",
   "nbconvert_exporter": "python",
   "pygments_lexer": "ipython3",
   "version": "3.7.7"
  }
 },
 "nbformat": 4,
 "nbformat_minor": 4
}
