{
    "cells": [
        {
            "cell_type": "markdown",
            "metadata": {},
            "source": [
                "# Classification of Movie Review"
            ]
        },
        {
            "cell_type": "code",
            "execution_count": 1,
            "metadata": {},
            "outputs": [
                {
                    "name": "stderr",
                    "output_type": "stream",
                    "text": [
                        "2022-11-04 13:52:39.906548: I tensorflow/core/platform/cpu_feature_guard.cc:193] This TensorFlow binary is optimized with oneAPI Deep Neural Network Library (oneDNN) to use the following CPU instructions in performance-critical operations:  AVX2 FMA\n",
                        "To enable them in other operations, rebuild TensorFlow with the appropriate compiler flags.\n",
                        "2022-11-04 13:52:41.795578: W tensorflow/stream_executor/platform/default/dso_loader.cc:64] Could not load dynamic library 'libcudart.so.11.0'; dlerror: libcudart.so.11.0: cannot open shared object file: No such file or directory\n",
                        "2022-11-04 13:52:41.795630: I tensorflow/stream_executor/cuda/cudart_stub.cc:29] Ignore above cudart dlerror if you do not have a GPU set up on your machine.\n",
                        "2022-11-04 13:52:42.011224: E tensorflow/stream_executor/cuda/cuda_blas.cc:2981] Unable to register cuBLAS factory: Attempting to register factory for plugin cuBLAS when one has already been registered\n",
                        "2022-11-04 13:52:50.905699: W tensorflow/stream_executor/platform/default/dso_loader.cc:64] Could not load dynamic library 'libnvinfer.so.7'; dlerror: libnvinfer.so.7: cannot open shared object file: No such file or directory\n",
                        "2022-11-04 13:52:50.905949: W tensorflow/stream_executor/platform/default/dso_loader.cc:64] Could not load dynamic library 'libnvinfer_plugin.so.7'; dlerror: libnvinfer_plugin.so.7: cannot open shared object file: No such file or directory\n",
                        "2022-11-04 13:52:50.905970: W tensorflow/compiler/tf2tensorrt/utils/py_utils.cc:38] TF-TRT Warning: Cannot dlopen some TensorRT libraries. If you would like to use Nvidia GPU with TensorRT, please make sure the missing libraries mentioned above are installed properly.\n"
                    ]
                }
            ],
            "source": [
                "import keras"
            ]
        },
        {
            "cell_type": "code",
            "execution_count": 2,
            "metadata": {},
            "outputs": [
                {
                    "name": "stdout",
                    "output_type": "stream",
                    "text": [
                        "Downloading data from https://storage.googleapis.com/tensorflow/tf-keras-datasets/imdb.npz\n",
                        "17464789/17464789 [==============================] - 1s 0us/step\n"
                    ]
                }
            ],
            "source": [
                "from keras.datasets import imdb\n",
                "import numpy as np\n",
                "\n",
                "# save np.load\n",
                "np_load_old = np.load\n",
                "\n",
                "# modify the default parameters of np.load\n",
                "np.load = lambda *a, **k: np_load_old(*a, **k)\n",
                "\n",
                "# call load_data with allow_pickle implicitly set to true\n",
                "(train_data, train_labels), (test_data, test_labels) = imdb.load_data(num_words=10000)\n",
                "\n",
                "# restore np.load for future normal usage\n",
                "np.load = np_load_old"
            ]
        },
        {
            "cell_type": "code",
            "execution_count": 3,
            "metadata": {},
            "outputs": [
                {
                    "data": {
                        "text/plain": [
                            "[1,\n",
                            " 14,\n",
                            " 22,\n",
                            " 16,\n",
                            " 43,\n",
                            " 530,\n",
                            " 973,\n",
                            " 1622,\n",
                            " 1385,\n",
                            " 65,\n",
                            " 458,\n",
                            " 4468,\n",
                            " 66,\n",
                            " 3941,\n",
                            " 4,\n",
                            " 173,\n",
                            " 36,\n",
                            " 256,\n",
                            " 5,\n",
                            " 25,\n",
                            " 100,\n",
                            " 43,\n",
                            " 838,\n",
                            " 112,\n",
                            " 50,\n",
                            " 670,\n",
                            " 2,\n",
                            " 9,\n",
                            " 35,\n",
                            " 480,\n",
                            " 284,\n",
                            " 5,\n",
                            " 150,\n",
                            " 4,\n",
                            " 172,\n",
                            " 112,\n",
                            " 167,\n",
                            " 2,\n",
                            " 336,\n",
                            " 385,\n",
                            " 39,\n",
                            " 4,\n",
                            " 172,\n",
                            " 4536,\n",
                            " 1111,\n",
                            " 17,\n",
                            " 546,\n",
                            " 38,\n",
                            " 13,\n",
                            " 447,\n",
                            " 4,\n",
                            " 192,\n",
                            " 50,\n",
                            " 16,\n",
                            " 6,\n",
                            " 147,\n",
                            " 2025,\n",
                            " 19,\n",
                            " 14,\n",
                            " 22,\n",
                            " 4,\n",
                            " 1920,\n",
                            " 4613,\n",
                            " 469,\n",
                            " 4,\n",
                            " 22,\n",
                            " 71,\n",
                            " 87,\n",
                            " 12,\n",
                            " 16,\n",
                            " 43,\n",
                            " 530,\n",
                            " 38,\n",
                            " 76,\n",
                            " 15,\n",
                            " 13,\n",
                            " 1247,\n",
                            " 4,\n",
                            " 22,\n",
                            " 17,\n",
                            " 515,\n",
                            " 17,\n",
                            " 12,\n",
                            " 16,\n",
                            " 626,\n",
                            " 18,\n",
                            " 2,\n",
                            " 5,\n",
                            " 62,\n",
                            " 386,\n",
                            " 12,\n",
                            " 8,\n",
                            " 316,\n",
                            " 8,\n",
                            " 106,\n",
                            " 5,\n",
                            " 4,\n",
                            " 2223,\n",
                            " 5244,\n",
                            " 16,\n",
                            " 480,\n",
                            " 66,\n",
                            " 3785,\n",
                            " 33,\n",
                            " 4,\n",
                            " 130,\n",
                            " 12,\n",
                            " 16,\n",
                            " 38,\n",
                            " 619,\n",
                            " 5,\n",
                            " 25,\n",
                            " 124,\n",
                            " 51,\n",
                            " 36,\n",
                            " 135,\n",
                            " 48,\n",
                            " 25,\n",
                            " 1415,\n",
                            " 33,\n",
                            " 6,\n",
                            " 22,\n",
                            " 12,\n",
                            " 215,\n",
                            " 28,\n",
                            " 77,\n",
                            " 52,\n",
                            " 5,\n",
                            " 14,\n",
                            " 407,\n",
                            " 16,\n",
                            " 82,\n",
                            " 2,\n",
                            " 8,\n",
                            " 4,\n",
                            " 107,\n",
                            " 117,\n",
                            " 5952,\n",
                            " 15,\n",
                            " 256,\n",
                            " 4,\n",
                            " 2,\n",
                            " 7,\n",
                            " 3766,\n",
                            " 5,\n",
                            " 723,\n",
                            " 36,\n",
                            " 71,\n",
                            " 43,\n",
                            " 530,\n",
                            " 476,\n",
                            " 26,\n",
                            " 400,\n",
                            " 317,\n",
                            " 46,\n",
                            " 7,\n",
                            " 4,\n",
                            " 2,\n",
                            " 1029,\n",
                            " 13,\n",
                            " 104,\n",
                            " 88,\n",
                            " 4,\n",
                            " 381,\n",
                            " 15,\n",
                            " 297,\n",
                            " 98,\n",
                            " 32,\n",
                            " 2071,\n",
                            " 56,\n",
                            " 26,\n",
                            " 141,\n",
                            " 6,\n",
                            " 194,\n",
                            " 7486,\n",
                            " 18,\n",
                            " 4,\n",
                            " 226,\n",
                            " 22,\n",
                            " 21,\n",
                            " 134,\n",
                            " 476,\n",
                            " 26,\n",
                            " 480,\n",
                            " 5,\n",
                            " 144,\n",
                            " 30,\n",
                            " 5535,\n",
                            " 18,\n",
                            " 51,\n",
                            " 36,\n",
                            " 28,\n",
                            " 224,\n",
                            " 92,\n",
                            " 25,\n",
                            " 104,\n",
                            " 4,\n",
                            " 226,\n",
                            " 65,\n",
                            " 16,\n",
                            " 38,\n",
                            " 1334,\n",
                            " 88,\n",
                            " 12,\n",
                            " 16,\n",
                            " 283,\n",
                            " 5,\n",
                            " 16,\n",
                            " 4472,\n",
                            " 113,\n",
                            " 103,\n",
                            " 32,\n",
                            " 15,\n",
                            " 16,\n",
                            " 5345,\n",
                            " 19,\n",
                            " 178,\n",
                            " 32]"
                        ]
                    },
                    "execution_count": 3,
                    "metadata": {},
                    "output_type": "execute_result"
                }
            ],
            "source": [
                "train_data[0]"
            ]
        },
        {
            "cell_type": "code",
            "execution_count": 4,
            "metadata": {},
            "outputs": [
                {
                    "data": {
                        "text/plain": [
                            "1"
                        ]
                    },
                    "execution_count": 4,
                    "metadata": {},
                    "output_type": "execute_result"
                }
            ],
            "source": [
                "train_labels[0]"
            ]
        },
        {
            "cell_type": "code",
            "execution_count": 5,
            "metadata": {},
            "outputs": [
                {
                    "data": {
                        "text/plain": [
                            "9999"
                        ]
                    },
                    "execution_count": 5,
                    "metadata": {},
                    "output_type": "execute_result"
                }
            ],
            "source": [
                "max(max(sequence) for sequence in train_data)"
            ]
        },
        {
            "cell_type": "code",
            "execution_count": 6,
            "metadata": {},
            "outputs": [
                {
                    "name": "stdout",
                    "output_type": "stream",
                    "text": [
                        "Downloading data from https://storage.googleapis.com/tensorflow/tf-keras-datasets/imdb_word_index.json\n",
                        "1641221/1641221 [==============================] - 0s 0us/step\n"
                    ]
                }
            ],
            "source": [
                "# word_index is a dictionary mapping words to an integer index\n",
                "word_index = imdb.get_word_index()\n",
                "# We reverse it, mapping integer indices to words\n",
                "reverse_word_index = dict([(value, key) for (key, value) in word_index.items()])\n",
                "# We decode the review; note that our indices were offset by 3\n",
                "# because 0, 1 and 2 are reserved indices for \"padding\", \"start of sequence\", and \"unknown\".\n",
                "decoded_review = \" \".join([reverse_word_index.get(i - 3, \"?\") for i in train_data[0]])"
            ]
        },
        {
            "cell_type": "code",
            "execution_count": 7,
            "metadata": {},
            "outputs": [
                {
                    "data": {
                        "text/plain": [
                            "\"? this film was just brilliant casting location scenery story direction everyone's really suited the part they played and you could just imagine being there robert ? is an amazing actor and now the same being director ? father came from the same scottish island as myself so i loved the fact there was a real connection with this film the witty remarks throughout the film were great it was just brilliant so much that i bought the film as soon as it was released for ? and would recommend it to everyone to watch and the fly fishing was amazing really cried at the end it was so sad and you know what they say if you cry at a film it must have been good and this definitely was also ? to the two little boy's that played the ? of norman and paul they were just brilliant children are often left out of the ? list i think because the stars that play them all grown up are such a big profile for the whole film but these children are amazing and should be praised for what they have done don't you think the whole story was so lovely because it was true and was someone's life after all that was shared with us all\""
                        ]
                    },
                    "execution_count": 7,
                    "metadata": {},
                    "output_type": "execute_result"
                }
            ],
            "source": [
                "decoded_review"
            ]
        },
        {
            "cell_type": "markdown",
            "metadata": {},
            "source": [
                "## Preparing the data"
            ]
        },
        {
            "cell_type": "code",
            "execution_count": 8,
            "metadata": {},
            "outputs": [],
            "source": [
                "def vectorize_sequences(sequences, dimension=10000):\n",
                "    # Create an all-zero matrix of shape (len(sequences), dimension)\n",
                "    results = np.zeros((len(sequences), dimension))\n",
                "    for i, sequence in enumerate(sequences):\n",
                "        results[i, sequence] = 1.0  # set specific indices of results[i] to 1s\n",
                "    return results\n",
                "\n",
                "\n",
                "# Our vectorized training data\n",
                "x_train = vectorize_sequences(train_data)\n",
                "# Our vectorized test data\n",
                "x_test = vectorize_sequences(test_data)"
            ]
        },
        {
            "cell_type": "code",
            "execution_count": 9,
            "metadata": {},
            "outputs": [
                {
                    "data": {
                        "text/plain": [
                            "array([0., 1., 1., ..., 0., 0., 0.])"
                        ]
                    },
                    "execution_count": 9,
                    "metadata": {},
                    "output_type": "execute_result"
                }
            ],
            "source": [
                "x_train[0]"
            ]
        },
        {
            "cell_type": "code",
            "execution_count": 10,
            "metadata": {},
            "outputs": [],
            "source": [
                "# Our vectorized labels\n",
                "y_train = np.asarray(train_labels).astype(\"float32\")\n",
                "y_test = np.asarray(test_labels).astype(\"float32\")"
            ]
        },
        {
            "cell_type": "markdown",
            "metadata": {},
            "source": [
                "## Building our network"
            ]
        },
        {
            "cell_type": "code",
            "execution_count": 11,
            "metadata": {},
            "outputs": [
                {
                    "name": "stderr",
                    "output_type": "stream",
                    "text": [
                        "2022-11-04 13:53:48.076375: W tensorflow/stream_executor/platform/default/dso_loader.cc:64] Could not load dynamic library 'libcuda.so.1'; dlerror: libcuda.so.1: cannot open shared object file: No such file or directory\n",
                        "2022-11-04 13:53:48.076419: W tensorflow/stream_executor/cuda/cuda_driver.cc:263] failed call to cuInit: UNKNOWN ERROR (303)\n",
                        "2022-11-04 13:53:48.076441: I tensorflow/stream_executor/cuda/cuda_diagnostics.cc:156] kernel driver does not appear to be running on this host (chirag127-aimlcourseqma-3zv0t7o5vgz): /proc/driver/nvidia/version does not exist\n",
                        "2022-11-04 13:53:48.076749: I tensorflow/core/platform/cpu_feature_guard.cc:193] This TensorFlow binary is optimized with oneAPI Deep Neural Network Library (oneDNN) to use the following CPU instructions in performance-critical operations:  AVX2 FMA\n",
                        "To enable them in other operations, rebuild TensorFlow with the appropriate compiler flags.\n"
                    ]
                }
            ],
            "source": [
                "from keras import models\n",
                "from keras import layers\n",
                "\n",
                "model = models.Sequential()\n",
                "model.add(layers.Dense(16, activation=\"relu\", input_shape=(10000,)))\n",
                "model.add(layers.Dense(16, activation=\"relu\"))\n",
                "model.add(layers.Dense(1, activation=\"sigmoid\"))"
            ]
        },
        {
            "cell_type": "code",
            "execution_count": 12,
            "metadata": {},
            "outputs": [],
            "source": [
                "model.compile(optimizer=\"rmsprop\", loss=\"binary_crossentropy\", metrics=[\"accuracy\"])"
            ]
        },
        {
            "cell_type": "code",
            "execution_count": 13,
            "metadata": {},
            "outputs": [
                {
                    "name": "stderr",
                    "output_type": "stream",
                    "text": [
                        "/workspace/.pyenv_mirror/user/current/lib/python3.8/site-packages/keras/optimizers/optimizer_v2/rmsprop.py:140: UserWarning: The `lr` argument is deprecated, use `learning_rate` instead.\n",
                        "  super().__init__(name, **kwargs)\n"
                    ]
                }
            ],
            "source": [
                "from keras import optimizers\n",
                "\n",
                "model.compile(\n",
                "    optimizer=optimizers.RMSprop(lr=0.001),\n",
                "    loss=\"binary_crossentropy\",\n",
                "    metrics=[\"accuracy\"],\n",
                ")"
            ]
        },
        {
            "cell_type": "code",
            "execution_count": 14,
            "metadata": {},
            "outputs": [],
            "source": [
                "from keras import losses\n",
                "from keras import metrics\n",
                "\n",
                "model.compile(\n",
                "    optimizer=optimizers.RMSprop(lr=0.001),\n",
                "    loss=losses.binary_crossentropy,\n",
                "    metrics=[metrics.binary_accuracy],\n",
                ")"
            ]
        },
        {
            "cell_type": "markdown",
            "metadata": {},
            "source": [
                "# Validating our approach"
            ]
        },
        {
            "cell_type": "code",
            "execution_count": 15,
            "metadata": {},
            "outputs": [],
            "source": [
                "x_val = x_train[:10000]\n",
                "partial_x_train = x_train[10000:]\n",
                "\n",
                "y_val = y_train[:10000]\n",
                "partial_y_train = y_train[10000:]"
            ]
        },
        {
            "cell_type": "code",
            "execution_count": 16,
            "metadata": {},
            "outputs": [
                {
                    "name": "stdout",
                    "output_type": "stream",
                    "text": [
                        "Epoch 1/20\n"
                    ]
                },
                {
                    "name": "stderr",
                    "output_type": "stream",
                    "text": [
                        "2022-11-04 13:53:51.266065: W tensorflow/core/framework/cpu_allocator_impl.cc:82] Allocation of 600000000 exceeds 10% of free system memory.\n"
                    ]
                },
                {
                    "name": "stdout",
                    "output_type": "stream",
                    "text": [
                        "24/30 [=======================>......] - ETA: 0s - loss: 0.5453 - binary_accuracy: 0.7748"
                    ]
                },
                {
                    "name": "stderr",
                    "output_type": "stream",
                    "text": [
                        "2022-11-04 13:53:52.954299: W tensorflow/core/framework/cpu_allocator_impl.cc:82] Allocation of 400000000 exceeds 10% of free system memory.\n"
                    ]
                },
                {
                    "name": "stdout",
                    "output_type": "stream",
                    "text": [
                        "30/30 [==============================] - 2s 40ms/step - loss: 0.5216 - binary_accuracy: 0.7925 - val_loss: 0.4049 - val_binary_accuracy: 0.8633\n",
                        "Epoch 2/20\n",
                        "30/30 [==============================] - 0s 10ms/step - loss: 0.3243 - binary_accuracy: 0.8984 - val_loss: 0.3149 - val_binary_accuracy: 0.8868\n",
                        "Epoch 3/20\n",
                        "30/30 [==============================] - 0s 10ms/step - loss: 0.2342 - binary_accuracy: 0.9256 - val_loss: 0.2820 - val_binary_accuracy: 0.8882\n",
                        "Epoch 4/20\n",
                        "30/30 [==============================] - 0s 9ms/step - loss: 0.1859 - binary_accuracy: 0.9394 - val_loss: 0.2725 - val_binary_accuracy: 0.8912\n",
                        "Epoch 5/20\n",
                        "30/30 [==============================] - 0s 10ms/step - loss: 0.1517 - binary_accuracy: 0.9509 - val_loss: 0.3001 - val_binary_accuracy: 0.8797\n",
                        "Epoch 6/20\n",
                        "30/30 [==============================] - 0s 8ms/step - loss: 0.1262 - binary_accuracy: 0.9601 - val_loss: 0.2914 - val_binary_accuracy: 0.8869\n",
                        "Epoch 7/20\n",
                        "30/30 [==============================] - 0s 9ms/step - loss: 0.1051 - binary_accuracy: 0.9687 - val_loss: 0.3027 - val_binary_accuracy: 0.8852\n",
                        "Epoch 8/20\n",
                        "30/30 [==============================] - 0s 9ms/step - loss: 0.0885 - binary_accuracy: 0.9751 - val_loss: 0.3204 - val_binary_accuracy: 0.8829\n",
                        "Epoch 9/20\n",
                        "30/30 [==============================] - 0s 9ms/step - loss: 0.0738 - binary_accuracy: 0.9794 - val_loss: 0.3557 - val_binary_accuracy: 0.8786\n",
                        "Epoch 10/20\n",
                        "30/30 [==============================] - 0s 12ms/step - loss: 0.0604 - binary_accuracy: 0.9842 - val_loss: 0.3863 - val_binary_accuracy: 0.8724\n",
                        "Epoch 11/20\n",
                        "30/30 [==============================] - 0s 9ms/step - loss: 0.0503 - binary_accuracy: 0.9877 - val_loss: 0.3920 - val_binary_accuracy: 0.8781\n",
                        "Epoch 12/20\n",
                        "30/30 [==============================] - 0s 12ms/step - loss: 0.0418 - binary_accuracy: 0.9907 - val_loss: 0.4199 - val_binary_accuracy: 0.8750\n",
                        "Epoch 13/20\n",
                        "30/30 [==============================] - 1s 17ms/step - loss: 0.0346 - binary_accuracy: 0.9924 - val_loss: 0.4526 - val_binary_accuracy: 0.8708\n",
                        "Epoch 14/20\n",
                        "30/30 [==============================] - 0s 16ms/step - loss: 0.0277 - binary_accuracy: 0.9946 - val_loss: 0.4803 - val_binary_accuracy: 0.8724\n",
                        "Epoch 15/20\n",
                        "30/30 [==============================] - 0s 14ms/step - loss: 0.0216 - binary_accuracy: 0.9962 - val_loss: 0.5415 - val_binary_accuracy: 0.8646\n",
                        "Epoch 16/20\n",
                        "30/30 [==============================] - 0s 15ms/step - loss: 0.0168 - binary_accuracy: 0.9981 - val_loss: 0.5862 - val_binary_accuracy: 0.8653\n",
                        "Epoch 17/20\n",
                        "30/30 [==============================] - 0s 13ms/step - loss: 0.0152 - binary_accuracy: 0.9975 - val_loss: 0.5997 - val_binary_accuracy: 0.8694\n",
                        "Epoch 18/20\n",
                        "30/30 [==============================] - 0s 12ms/step - loss: 0.0107 - binary_accuracy: 0.9992 - val_loss: 0.6628 - val_binary_accuracy: 0.8576\n",
                        "Epoch 19/20\n",
                        "30/30 [==============================] - 0s 14ms/step - loss: 0.0090 - binary_accuracy: 0.9989 - val_loss: 0.6615 - val_binary_accuracy: 0.8650\n",
                        "Epoch 20/20\n",
                        "30/30 [==============================] - 0s 11ms/step - loss: 0.0076 - binary_accuracy: 0.9992 - val_loss: 0.6895 - val_binary_accuracy: 0.8652\n"
                    ]
                }
            ],
            "source": [
                "history = model.fit(\n",
                "    partial_x_train,\n",
                "    partial_y_train,\n",
                "    epochs=20,\n",
                "    batch_size=512,\n",
                "    validation_data=(x_val, y_val),\n",
                ")"
            ]
        },
        {
            "cell_type": "code",
            "execution_count": 17,
            "metadata": {},
            "outputs": [
                {
                    "data": {
                        "text/plain": [
                            "dict_keys(['loss', 'binary_accuracy', 'val_loss', 'val_binary_accuracy'])"
                        ]
                    },
                    "execution_count": 17,
                    "metadata": {},
                    "output_type": "execute_result"
                }
            ],
            "source": [
                "history_dict = history.history\n",
                "history_dict.keys()"
            ]
        },
        {
            "cell_type": "code",
            "execution_count": 18,
            "metadata": {},
            "outputs": [
                {
                    "data": {
                        "image/png": "[encoded data removed]",
                        "text/plain": [
                            "<Figure size 640x480 with 1 Axes>"
                        ]
                    },
                    "metadata": {},
                    "output_type": "display_data"
                }
            ],
            "source": [
                "import matplotlib.pyplot as plt\n",
                "\n",
                "acc = history.history[\"binary_accuracy\"]\n",
                "val_acc = history.history[\"val_binary_accuracy\"]\n",
                "loss = history.history[\"loss\"]\n",
                "val_loss = history.history[\"val_loss\"]\n",
                "\n",
                "epochs = range(1, len(acc) + 1)\n",
                "\n",
                "# \"bo\" is for \"blue dot\"\n",
                "plt.plot(epochs, loss, \"bo\", label=\"Training loss\")\n",
                "# b is for \"solid blue line\"\n",
                "plt.plot(epochs, val_loss, \"b\", label=\"Validation loss\")\n",
                "plt.title(\"Training and validation loss\")\n",
                "plt.xlabel(\"Epochs\")\n",
                "plt.ylabel(\"Loss\")\n",
                "plt.legend()\n",
                "\n",
                "plt.show()"
            ]
        },
        {
            "cell_type": "code",
            "execution_count": 19,
            "metadata": {},
            "outputs": [
                {
                    "data": {
                        "image/png": "[encoded data removed]",
                        "text/plain": [
                            "<Figure size 640x480 with 1 Axes>"
                        ]
                    },
                    "metadata": {},
                    "output_type": "display_data"
                }
            ],
            "source": [
                "plt.clf()  # clear figure\n",
                "acc_values = history_dict[\"binary_accuracy\"]\n",
                "val_acc_values = history_dict[\"val_binary_accuracy\"]\n",
                "\n",
                "plt.plot(epochs, acc, \"bo\", label=\"Training acc\")\n",
                "plt.plot(epochs, val_acc, \"b\", label=\"Validation acc\")\n",
                "plt.title(\"Training and validation accuracy\")\n",
                "plt.xlabel(\"Epochs\")\n",
                "plt.ylabel(\"Loss\")\n",
                "plt.legend()\n",
                "\n",
                "plt.show()"
            ]
        },
        {
            "cell_type": "code",
            "execution_count": 20,
            "metadata": {},
            "outputs": [
                {
                    "name": "stdout",
                    "output_type": "stream",
                    "text": [
                        "Epoch 1/4\n"
                    ]
                },
                {
                    "name": "stderr",
                    "output_type": "stream",
                    "text": [
                        "2022-11-04 13:54:03.749196: W tensorflow/core/framework/cpu_allocator_impl.cc:82] Allocation of 1000000000 exceeds 10% of free system memory.\n"
                    ]
                },
                {
                    "name": "stdout",
                    "output_type": "stream",
                    "text": [
                        "49/49 [==============================] - 1s 7ms/step - loss: 0.4647 - accuracy: 0.8209\n",
                        "Epoch 2/4\n",
                        "49/49 [==============================] - 0s 8ms/step - loss: 0.2671 - accuracy: 0.9072\n",
                        "Epoch 3/4\n",
                        "49/49 [==============================] - 0s 9ms/step - loss: 0.2045 - accuracy: 0.9265\n",
                        "Epoch 4/4\n",
                        "49/49 [==============================] - 0s 7ms/step - loss: 0.1710 - accuracy: 0.9400\n"
                    ]
                },
                {
                    "name": "stderr",
                    "output_type": "stream",
                    "text": [
                        "2022-11-04 13:54:09.695486: W tensorflow/core/framework/cpu_allocator_impl.cc:82] Allocation of 1000000000 exceeds 10% of free system memory.\n"
                    ]
                },
                {
                    "name": "stdout",
                    "output_type": "stream",
                    "text": [
                        "782/782 [==============================] - 1s 1ms/step - loss: 0.2916 - accuracy: 0.8851\n"
                    ]
                }
            ],
            "source": [
                "model = models.Sequential()\n",
                "model.add(layers.Dense(16, activation=\"relu\", input_shape=(10000,)))\n",
                "model.add(layers.Dense(16, activation=\"relu\"))\n",
                "model.add(layers.Dense(1, activation=\"sigmoid\"))\n",
                "\n",
                "model.compile(optimizer=\"rmsprop\", loss=\"binary_crossentropy\", metrics=[\"accuracy\"])\n",
                "\n",
                "model.fit(x_train, y_train, epochs=4, batch_size=512)\n",
                "results = model.evaluate(x_test, y_test)"
            ]
        },
        {
            "cell_type": "code",
            "execution_count": 21,
            "metadata": {},
            "outputs": [
                {
                    "data": {
                        "text/plain": [
                            "[0.29159414768218994, 0.8851199746131897]"
                        ]
                    },
                    "execution_count": 21,
                    "metadata": {},
                    "output_type": "execute_result"
                }
            ],
            "source": [
                "results"
            ]
        },
        {
            "cell_type": "markdown",
            "metadata": {},
            "source": [
                "## Using a trained network to generate predictions on new data"
            ]
        },
        {
            "cell_type": "code",
            "execution_count": 22,
            "metadata": {},
            "outputs": [
                {
                    "name": "stderr",
                    "output_type": "stream",
                    "text": [
                        "2022-11-04 13:54:15.566155: W tensorflow/core/framework/cpu_allocator_impl.cc:82] Allocation of 1000000000 exceeds 10% of free system memory.\n"
                    ]
                },
                {
                    "name": "stdout",
                    "output_type": "stream",
                    "text": [
                        "782/782 [==============================] - 2s 1ms/step\n"
                    ]
                },
                {
                    "data": {
                        "text/plain": [
                            "array([[0.20777607],\n",
                            "       [0.9997809 ],\n",
                            "       [0.8788618 ],\n",
                            "       ...,\n",
                            "       [0.14149551],\n",
                            "       [0.09595641],\n",
                            "       [0.68422353]], dtype=float32)"
                        ]
                    },
                    "execution_count": 22,
                    "metadata": {},
                    "output_type": "execute_result"
                }
            ],
            "source": [
                "model.predict(x_test)"
            ]
        },
        {
            "cell_type": "code",
            "execution_count": null,
            "metadata": {},
            "outputs": [],
            "source": []
        }
    ],
    "metadata": {
        "kernelspec": {
            "display_name": "Python 3.8.13 64-bit ('shims')",
            "language": "python",
            "name": "python3"
        },
        "language_info": {
            "codemirror_mode": {
                "name": "ipython",
                "version": 3
            },
            "file_extension": ".py",
            "mimetype": "text/x-python",
            "name": "python",
            "nbconvert_exporter": "python",
            "pygments_lexer": "ipython3",
            "version": "3.8.13"
        },
        "vscode": {
            "interpreter": {
                "hash": "9ac03a0a6051494cc606d484d27d20fce22fb7b4d169f583271e11d5ba46a56e"
            }
        }
    },
    "nbformat": 4,
    "nbformat_minor": 4
}