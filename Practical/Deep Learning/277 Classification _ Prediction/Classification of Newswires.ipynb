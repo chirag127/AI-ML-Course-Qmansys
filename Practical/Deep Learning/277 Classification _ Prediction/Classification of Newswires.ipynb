{
    "cells": [
        {
            "cell_type": "markdown",
            "metadata": {},
            "source": [
                "# Classification of Newswires"
            ]
        },
        {
            "cell_type": "code",
            "execution_count": 3,
            "metadata": {},
            "outputs": [
                {
                    "data": {
                        "text/plain": [
                            "'2.9.0'"
                        ]
                    },
                    "execution_count": 3,
                    "metadata": {},
                    "output_type": "execute_result"
                }
            ],
            "source": [
                "import keras\n",
                "\n",
                "keras.__version__"
            ]
        },
        {
            "cell_type": "markdown",
            "metadata": {},
            "source": [
                "### The Reuters dataset"
            ]
        },
        {
            "cell_type": "code",
            "execution_count": 4,
            "metadata": {},
            "outputs": [
                {
                    "ename": "TypeError",
                    "evalue": "__main__.<lambda>() got multiple values for keyword argument 'allow_pickle'",
                    "output_type": "error",
                    "traceback": [
                        "\u001b[0;31m---------------------------------------------------------------------------\u001b[0m",
                        "\u001b[0;31mTypeError\u001b[0m                                 Traceback (most recent call last)",
                        "\u001b[1;32m/workspaces/AI-ML-Course-Qmansys/Practical/Deep Learning/277 Classification _ Prediction/Classification of Newswires.ipynb Cell 4\u001b[0m in \u001b[0;36m<cell line: 11>\u001b[0;34m()\u001b[0m\n\u001b[1;32m      <a href='vscode-notebook-cell://codespaces%2Bchirag127-ai-ml-course-qmansys-v5ggp49j54jfwq6r/workspaces/AI-ML-Course-Qmansys/Practical/Deep%20Learning/277%20Classification%20_%20Prediction/Classification%20of%20Newswires.ipynb#W3sdnNjb2RlLXJlbW90ZQ%3D%3D?line=7'>8</a>\u001b[0m np\u001b[39m.\u001b[39mload \u001b[39m=\u001b[39m \u001b[39mlambda\u001b[39;00m \u001b[39m*\u001b[39ma, \u001b[39m*\u001b[39m\u001b[39m*\u001b[39mk: np_load_old(\u001b[39m*\u001b[39ma, allow_pickle\u001b[39m=\u001b[39m\u001b[39mTrue\u001b[39;00m, \u001b[39m*\u001b[39m\u001b[39m*\u001b[39mk)\n\u001b[1;32m     <a href='vscode-notebook-cell://codespaces%2Bchirag127-ai-ml-course-qmansys-v5ggp49j54jfwq6r/workspaces/AI-ML-Course-Qmansys/Practical/Deep%20Learning/277%20Classification%20_%20Prediction/Classification%20of%20Newswires.ipynb#W3sdnNjb2RlLXJlbW90ZQ%3D%3D?line=9'>10</a>\u001b[0m \u001b[39m# call load_data with allow_pickle implicitly set to true\u001b[39;00m\n\u001b[0;32m---> <a href='vscode-notebook-cell://codespaces%2Bchirag127-ai-ml-course-qmansys-v5ggp49j54jfwq6r/workspaces/AI-ML-Course-Qmansys/Practical/Deep%20Learning/277%20Classification%20_%20Prediction/Classification%20of%20Newswires.ipynb#W3sdnNjb2RlLXJlbW90ZQ%3D%3D?line=10'>11</a>\u001b[0m (train_data, train_labels), (test_data, test_labels) \u001b[39m=\u001b[39m reuters\u001b[39m.\u001b[39;49mload_data(\n\u001b[1;32m     <a href='vscode-notebook-cell://codespaces%2Bchirag127-ai-ml-course-qmansys-v5ggp49j54jfwq6r/workspaces/AI-ML-Course-Qmansys/Practical/Deep%20Learning/277%20Classification%20_%20Prediction/Classification%20of%20Newswires.ipynb#W3sdnNjb2RlLXJlbW90ZQ%3D%3D?line=11'>12</a>\u001b[0m     num_words\u001b[39m=\u001b[39;49m\u001b[39m10000\u001b[39;49m\n\u001b[1;32m     <a href='vscode-notebook-cell://codespaces%2Bchirag127-ai-ml-course-qmansys-v5ggp49j54jfwq6r/workspaces/AI-ML-Course-Qmansys/Practical/Deep%20Learning/277%20Classification%20_%20Prediction/Classification%20of%20Newswires.ipynb#W3sdnNjb2RlLXJlbW90ZQ%3D%3D?line=12'>13</a>\u001b[0m )\n\u001b[1;32m     <a href='vscode-notebook-cell://codespaces%2Bchirag127-ai-ml-course-qmansys-v5ggp49j54jfwq6r/workspaces/AI-ML-Course-Qmansys/Practical/Deep%20Learning/277%20Classification%20_%20Prediction/Classification%20of%20Newswires.ipynb#W3sdnNjb2RlLXJlbW90ZQ%3D%3D?line=14'>15</a>\u001b[0m \u001b[39m# restore np.load for future normal usage\u001b[39;00m\n\u001b[1;32m     <a href='vscode-notebook-cell://codespaces%2Bchirag127-ai-ml-course-qmansys-v5ggp49j54jfwq6r/workspaces/AI-ML-Course-Qmansys/Practical/Deep%20Learning/277%20Classification%20_%20Prediction/Classification%20of%20Newswires.ipynb#W3sdnNjb2RlLXJlbW90ZQ%3D%3D?line=15'>16</a>\u001b[0m np\u001b[39m.\u001b[39mload \u001b[39m=\u001b[39m np_load_old\n",
                        "File \u001b[0;32m/opt/python/3.10.4/lib/python3.10/site-packages/keras/datasets/reuters.py:114\u001b[0m, in \u001b[0;36mload_data\u001b[0;34m(path, num_words, skip_top, maxlen, test_split, seed, start_char, oov_char, index_from, **kwargs)\u001b[0m\n\u001b[1;32m    108\u001b[0m origin_folder \u001b[39m=\u001b[39m \u001b[39m'\u001b[39m\u001b[39mhttps://storage.googleapis.com/tensorflow/tf-keras-datasets/\u001b[39m\u001b[39m'\u001b[39m\n\u001b[1;32m    109\u001b[0m path \u001b[39m=\u001b[39m get_file(\n\u001b[1;32m    110\u001b[0m     path,\n\u001b[1;32m    111\u001b[0m     origin\u001b[39m=\u001b[39morigin_folder \u001b[39m+\u001b[39m \u001b[39m'\u001b[39m\u001b[39mreuters.npz\u001b[39m\u001b[39m'\u001b[39m,\n\u001b[1;32m    112\u001b[0m     file_hash\u001b[39m=\u001b[39m\n\u001b[1;32m    113\u001b[0m     \u001b[39m'\u001b[39m\u001b[39md6586e694ee56d7a4e65172e12b3e987c03096cb01eab99753921ef915959916\u001b[39m\u001b[39m'\u001b[39m)\n\u001b[0;32m--> 114\u001b[0m \u001b[39mwith\u001b[39;00m np\u001b[39m.\u001b[39;49mload(path, allow_pickle\u001b[39m=\u001b[39;49m\u001b[39mTrue\u001b[39;49;00m) \u001b[39mas\u001b[39;00m f:  \u001b[39m# pylint: disable=unexpected-keyword-arg\u001b[39;00m\n\u001b[1;32m    115\u001b[0m   xs, labels \u001b[39m=\u001b[39m f[\u001b[39m'\u001b[39m\u001b[39mx\u001b[39m\u001b[39m'\u001b[39m], f[\u001b[39m'\u001b[39m\u001b[39my\u001b[39m\u001b[39m'\u001b[39m]\n\u001b[1;32m    117\u001b[0m rng \u001b[39m=\u001b[39m np\u001b[39m.\u001b[39mrandom\u001b[39m.\u001b[39mRandomState(seed)\n",
                        "\u001b[1;32m/workspaces/AI-ML-Course-Qmansys/Practical/Deep Learning/277 Classification _ Prediction/Classification of Newswires.ipynb Cell 4\u001b[0m in \u001b[0;36m<lambda>\u001b[0;34m(*a, **k)\u001b[0m\n\u001b[1;32m      <a href='vscode-notebook-cell://codespaces%2Bchirag127-ai-ml-course-qmansys-v5ggp49j54jfwq6r/workspaces/AI-ML-Course-Qmansys/Practical/Deep%20Learning/277%20Classification%20_%20Prediction/Classification%20of%20Newswires.ipynb#W3sdnNjb2RlLXJlbW90ZQ%3D%3D?line=4'>5</a>\u001b[0m np_load_old \u001b[39m=\u001b[39m np\u001b[39m.\u001b[39mload\n\u001b[1;32m      <a href='vscode-notebook-cell://codespaces%2Bchirag127-ai-ml-course-qmansys-v5ggp49j54jfwq6r/workspaces/AI-ML-Course-Qmansys/Practical/Deep%20Learning/277%20Classification%20_%20Prediction/Classification%20of%20Newswires.ipynb#W3sdnNjb2RlLXJlbW90ZQ%3D%3D?line=6'>7</a>\u001b[0m \u001b[39m# modify the default parameters of np.load\u001b[39;00m\n\u001b[0;32m----> <a href='vscode-notebook-cell://codespaces%2Bchirag127-ai-ml-course-qmansys-v5ggp49j54jfwq6r/workspaces/AI-ML-Course-Qmansys/Practical/Deep%20Learning/277%20Classification%20_%20Prediction/Classification%20of%20Newswires.ipynb#W3sdnNjb2RlLXJlbW90ZQ%3D%3D?line=7'>8</a>\u001b[0m np\u001b[39m.\u001b[39mload \u001b[39m=\u001b[39m \u001b[39mlambda\u001b[39;00m \u001b[39m*\u001b[39ma, \u001b[39m*\u001b[39m\u001b[39m*\u001b[39mk: np_load_old(\u001b[39m*\u001b[39ma, allow_pickle\u001b[39m=\u001b[39m\u001b[39mTrue\u001b[39;00m, \u001b[39m*\u001b[39m\u001b[39m*\u001b[39mk)\n\u001b[1;32m     <a href='vscode-notebook-cell://codespaces%2Bchirag127-ai-ml-course-qmansys-v5ggp49j54jfwq6r/workspaces/AI-ML-Course-Qmansys/Practical/Deep%20Learning/277%20Classification%20_%20Prediction/Classification%20of%20Newswires.ipynb#W3sdnNjb2RlLXJlbW90ZQ%3D%3D?line=9'>10</a>\u001b[0m \u001b[39m# call load_data with allow_pickle implicitly set to true\u001b[39;00m\n\u001b[1;32m     <a href='vscode-notebook-cell://codespaces%2Bchirag127-ai-ml-course-qmansys-v5ggp49j54jfwq6r/workspaces/AI-ML-Course-Qmansys/Practical/Deep%20Learning/277%20Classification%20_%20Prediction/Classification%20of%20Newswires.ipynb#W3sdnNjb2RlLXJlbW90ZQ%3D%3D?line=10'>11</a>\u001b[0m (train_data, train_labels), (test_data, test_labels) \u001b[39m=\u001b[39m reuters\u001b[39m.\u001b[39mload_data(\n\u001b[1;32m     <a href='vscode-notebook-cell://codespaces%2Bchirag127-ai-ml-course-qmansys-v5ggp49j54jfwq6r/workspaces/AI-ML-Course-Qmansys/Practical/Deep%20Learning/277%20Classification%20_%20Prediction/Classification%20of%20Newswires.ipynb#W3sdnNjb2RlLXJlbW90ZQ%3D%3D?line=11'>12</a>\u001b[0m     num_words\u001b[39m=\u001b[39m\u001b[39m10000\u001b[39m\n\u001b[1;32m     <a href='vscode-notebook-cell://codespaces%2Bchirag127-ai-ml-course-qmansys-v5ggp49j54jfwq6r/workspaces/AI-ML-Course-Qmansys/Practical/Deep%20Learning/277%20Classification%20_%20Prediction/Classification%20of%20Newswires.ipynb#W3sdnNjb2RlLXJlbW90ZQ%3D%3D?line=12'>13</a>\u001b[0m )\n",
                        "\u001b[0;31mTypeError\u001b[0m: __main__.<lambda>() got multiple values for keyword argument 'allow_pickle'"
                    ]
                }
            ],
            "source": [
                "from keras.datasets import reuters\n",
                "import numpy as np\n",
                "\n",
                "# save np.load\n",
                "np_load_old = np.load\n",
                "\n",
                "# modify the default parameters of np.load\n",
                "np.load = lambda *a, **k: np_load_old(*a, allow_pickle=True, **k)\n",
                "\n",
                "# call load_data with allow_pickle implicitly set to true\n",
                "(train_data, train_labels), (test_data, test_labels) = reuters.load_data(\n",
                "    num_words=10000\n",
                ")\n",
                "\n",
                "# restore np.load for future normal usage\n",
                "np.load = np_load_old"
            ]
        },
        {
            "cell_type": "code",
            "execution_count": null,
            "metadata": {},
            "outputs": [
                {
                    "data": {
                        "text/plain": [
                            "8982"
                        ]
                    },
                    "execution_count": 3,
                    "metadata": {},
                    "output_type": "execute_result"
                }
            ],
            "source": [
                "len(train_data)"
            ]
        },
        {
            "cell_type": "code",
            "execution_count": null,
            "metadata": {},
            "outputs": [
                {
                    "data": {
                        "text/plain": [
                            "2246"
                        ]
                    },
                    "execution_count": 4,
                    "metadata": {},
                    "output_type": "execute_result"
                }
            ],
            "source": [
                "len(test_data)"
            ]
        },
        {
            "cell_type": "code",
            "execution_count": null,
            "metadata": {},
            "outputs": [
                {
                    "data": {
                        "text/plain": [
                            "[1,\n",
                            " 245,\n",
                            " 273,\n",
                            " 207,\n",
                            " 156,\n",
                            " 53,\n",
                            " 74,\n",
                            " 160,\n",
                            " 26,\n",
                            " 14,\n",
                            " 46,\n",
                            " 296,\n",
                            " 26,\n",
                            " 39,\n",
                            " 74,\n",
                            " 2979,\n",
                            " 3554,\n",
                            " 14,\n",
                            " 46,\n",
                            " 4689,\n",
                            " 4329,\n",
                            " 86,\n",
                            " 61,\n",
                            " 3499,\n",
                            " 4795,\n",
                            " 14,\n",
                            " 61,\n",
                            " 451,\n",
                            " 4329,\n",
                            " 17,\n",
                            " 12]"
                        ]
                    },
                    "execution_count": 5,
                    "metadata": {},
                    "output_type": "execute_result"
                }
            ],
            "source": [
                "train_data[10]"
            ]
        },
        {
            "cell_type": "code",
            "execution_count": null,
            "metadata": {},
            "outputs": [
                {
                    "name": "stdout",
                    "output_type": "stream",
                    "text": [
                        "Downloading data from https://s3.amazonaws.com/text-datasets/reuters_word_index.json\n",
                        "557056/550378 [==============================] - 2s 3us/step\n"
                    ]
                }
            ],
            "source": [
                "word_index = reuters.get_word_index()\n",
                "reverse_word_index = dict([(value, key) for (key, value) in word_index.items()])\n",
                "# Note that our indices were offset by 3\n",
                "# because 0, 1 and 2 are reserved indices for \"padding\", \"start of sequence\", and \"unknown\".\n",
                "decoded_newswire = \" \".join([reverse_word_index.get(i - 3, \"?\") for i in train_data[0]])"
            ]
        },
        {
            "cell_type": "code",
            "execution_count": null,
            "metadata": {},
            "outputs": [
                {
                    "data": {
                        "text/plain": [
                            "'? ? ? said as a result of its december acquisition of space co it expects earnings per share in 1987 of 1 15 to 1 30 dlrs per share up from 70 cts in 1986 the company said pretax net should rise to nine to 10 mln dlrs from six mln dlrs in 1986 and rental operation revenues to 19 to 22 mln dlrs from 12 5 mln dlrs it said cash flow per share this year should be 2 50 to three dlrs reuter 3'"
                        ]
                    },
                    "execution_count": 7,
                    "metadata": {},
                    "output_type": "execute_result"
                }
            ],
            "source": [
                "decoded_newswire"
            ]
        },
        {
            "cell_type": "code",
            "execution_count": null,
            "metadata": {},
            "outputs": [
                {
                    "data": {
                        "text/plain": [
                            "3"
                        ]
                    },
                    "execution_count": 8,
                    "metadata": {},
                    "output_type": "execute_result"
                }
            ],
            "source": [
                "train_labels[10]"
            ]
        },
        {
            "cell_type": "markdown",
            "metadata": {},
            "source": [
                "### Preparing the data"
            ]
        },
        {
            "cell_type": "code",
            "execution_count": null,
            "metadata": {},
            "outputs": [],
            "source": [
                "def vectorize_sequences(sequences, dimension=10000):\n",
                "    results = np.zeros((len(sequences), dimension))\n",
                "    for i, sequence in enumerate(sequences):\n",
                "        results[i, sequence] = 1.0\n",
                "    return results\n",
                "\n",
                "\n",
                "# Our vectorized training data\n",
                "x_train = vectorize_sequences(train_data)\n",
                "# Our vectorized test data\n",
                "x_test = vectorize_sequences(test_data)"
            ]
        },
        {
            "cell_type": "code",
            "execution_count": null,
            "metadata": {},
            "outputs": [],
            "source": [
                "def to_one_hot(labels, dimension=46):\n",
                "    results = np.zeros((len(labels), dimension))\n",
                "    for i, label in enumerate(labels):\n",
                "        results[i, label] = 1.0\n",
                "    return results\n",
                "\n",
                "\n",
                "# Our vectorized training labels\n",
                "one_hot_train_labels = to_one_hot(train_labels)\n",
                "# Our vectorized test labels\n",
                "one_hot_test_labels = to_one_hot(test_labels)"
            ]
        },
        {
            "cell_type": "code",
            "execution_count": null,
            "metadata": {},
            "outputs": [],
            "source": [
                "from keras.utils.np_utils import to_categorical\n",
                "\n",
                "one_hot_train_labels = to_categorical(train_labels)\n",
                "one_hot_test_labels = to_categorical(test_labels)"
            ]
        },
        {
            "cell_type": "markdown",
            "metadata": {},
            "source": [
                "### Building our network"
            ]
        },
        {
            "cell_type": "code",
            "execution_count": null,
            "metadata": {},
            "outputs": [
                {
                    "name": "stdout",
                    "output_type": "stream",
                    "text": [
                        "WARNING:tensorflow:From C:\\ProgramData\\Anaconda3\\lib\\site-packages\\keras\\backend\\tensorflow_backend.py:74: The name tf.get_default_graph is deprecated. Please use tf.compat.v1.get_default_graph instead.\n",
                        "\n",
                        "WARNING:tensorflow:From C:\\ProgramData\\Anaconda3\\lib\\site-packages\\keras\\backend\\tensorflow_backend.py:517: The name tf.placeholder is deprecated. Please use tf.compat.v1.placeholder instead.\n",
                        "\n",
                        "WARNING:tensorflow:From C:\\ProgramData\\Anaconda3\\lib\\site-packages\\keras\\backend\\tensorflow_backend.py:4138: The name tf.random_uniform is deprecated. Please use tf.random.uniform instead.\n",
                        "\n"
                    ]
                }
            ],
            "source": [
                "from keras import models\n",
                "from keras import layers\n",
                "\n",
                "model = models.Sequential()\n",
                "model.add(layers.Dense(64, activation=\"relu\", input_shape=(10000,)))\n",
                "model.add(layers.Dense(64, activation=\"relu\"))\n",
                "model.add(layers.Dense(46, activation=\"softmax\"))"
            ]
        },
        {
            "cell_type": "code",
            "execution_count": null,
            "metadata": {},
            "outputs": [
                {
                    "name": "stdout",
                    "output_type": "stream",
                    "text": [
                        "WARNING:tensorflow:From C:\\ProgramData\\Anaconda3\\lib\\site-packages\\keras\\optimizers.py:790: The name tf.train.Optimizer is deprecated. Please use tf.compat.v1.train.Optimizer instead.\n",
                        "\n",
                        "WARNING:tensorflow:From C:\\ProgramData\\Anaconda3\\lib\\site-packages\\keras\\backend\\tensorflow_backend.py:3295: The name tf.log is deprecated. Please use tf.math.log instead.\n",
                        "\n"
                    ]
                }
            ],
            "source": [
                "model.compile(\n",
                "    optimizer=\"rmsprop\", loss=\"categorical_crossentropy\", metrics=[\"accuracy\"]\n",
                ")"
            ]
        },
        {
            "cell_type": "markdown",
            "metadata": {},
            "source": [
                "### Validating our approach"
            ]
        },
        {
            "cell_type": "code",
            "execution_count": null,
            "metadata": {},
            "outputs": [],
            "source": [
                "x_val = x_train[:1000]\n",
                "partial_x_train = x_train[1000:]\n",
                "\n",
                "y_val = one_hot_train_labels[:1000]\n",
                "partial_y_train = one_hot_train_labels[1000:]"
            ]
        },
        {
            "cell_type": "code",
            "execution_count": null,
            "metadata": {},
            "outputs": [
                {
                    "name": "stdout",
                    "output_type": "stream",
                    "text": [
                        "WARNING:tensorflow:From C:\\ProgramData\\Anaconda3\\lib\\site-packages\\tensorflow_core\\python\\ops\\math_grad.py:1424: where (from tensorflow.python.ops.array_ops) is deprecated and will be removed in a future version.\n",
                        "Instructions for updating:\n",
                        "Use tf.where in 2.0, which has the same broadcast rule as np.where\n",
                        "WARNING:tensorflow:From C:\\ProgramData\\Anaconda3\\lib\\site-packages\\keras\\backend\\tensorflow_backend.py:986: The name tf.assign_add is deprecated. Please use tf.compat.v1.assign_add instead.\n",
                        "\n",
                        "WARNING:tensorflow:From C:\\ProgramData\\Anaconda3\\lib\\site-packages\\keras\\backend\\tensorflow_backend.py:973: The name tf.assign is deprecated. Please use tf.compat.v1.assign instead.\n",
                        "\n",
                        "WARNING:tensorflow:From C:\\ProgramData\\Anaconda3\\lib\\site-packages\\keras\\backend\\tensorflow_backend.py:2741: The name tf.Session is deprecated. Please use tf.compat.v1.Session instead.\n",
                        "\n",
                        "Train on 7982 samples, validate on 1000 samples\n",
                        "Epoch 1/20\n",
                        "WARNING:tensorflow:From C:\\ProgramData\\Anaconda3\\lib\\site-packages\\keras\\backend\\tensorflow_backend.py:174: The name tf.get_default_session is deprecated. Please use tf.compat.v1.get_default_session instead.\n",
                        "\n",
                        "WARNING:tensorflow:From C:\\ProgramData\\Anaconda3\\lib\\site-packages\\keras\\backend\\tensorflow_backend.py:181: The name tf.ConfigProto is deprecated. Please use tf.compat.v1.ConfigProto instead.\n",
                        "\n",
                        "WARNING:tensorflow:From C:\\ProgramData\\Anaconda3\\lib\\site-packages\\keras\\backend\\tensorflow_backend.py:190: The name tf.global_variables is deprecated. Please use tf.compat.v1.global_variables instead.\n",
                        "\n",
                        "WARNING:tensorflow:From C:\\ProgramData\\Anaconda3\\lib\\site-packages\\keras\\backend\\tensorflow_backend.py:199: The name tf.is_variable_initialized is deprecated. Please use tf.compat.v1.is_variable_initialized instead.\n",
                        "\n",
                        "WARNING:tensorflow:From C:\\ProgramData\\Anaconda3\\lib\\site-packages\\keras\\backend\\tensorflow_backend.py:206: The name tf.variables_initializer is deprecated. Please use tf.compat.v1.variables_initializer instead.\n",
                        "\n",
                        "7982/7982 [==============================] - 3s 340us/step - loss: 2.5241 - acc: 0.4977 - val_loss: 1.7183 - val_acc: 0.6120\n",
                        "Epoch 2/20\n",
                        "7982/7982 [==============================] - 2s 228us/step - loss: 1.4443 - acc: 0.6889 - val_loss: 1.3496 - val_acc: 0.7090\n",
                        "Epoch 3/20\n",
                        "7982/7982 [==============================] - 2s 226us/step - loss: 1.0993 - acc: 0.7641 - val_loss: 1.1745 - val_acc: 0.7430\n",
                        "Epoch 4/20\n",
                        "7982/7982 [==============================] - 2s 220us/step - loss: 0.8729 - acc: 0.8157 - val_loss: 1.0842 - val_acc: 0.7580\n",
                        "Epoch 5/20\n",
                        "7982/7982 [==============================] - 2s 213us/step - loss: 0.7061 - acc: 0.8492 - val_loss: 0.9869 - val_acc: 0.7830\n",
                        "Epoch 6/20\n",
                        "7982/7982 [==============================] - 2s 209us/step - loss: 0.5696 - acc: 0.8790 - val_loss: 0.9418 - val_acc: 0.8040\n",
                        "Epoch 7/20\n",
                        "7982/7982 [==============================] - 2s 227us/step - loss: 0.4626 - acc: 0.9034 - val_loss: 0.9092 - val_acc: 0.8030\n",
                        "Epoch 8/20\n",
                        "7982/7982 [==============================] - 2s 210us/step - loss: 0.3728 - acc: 0.9221 - val_loss: 0.9330 - val_acc: 0.7910\n",
                        "Epoch 9/20\n",
                        "7982/7982 [==============================] - 2s 214us/step - loss: 0.3052 - acc: 0.9315 - val_loss: 0.8901 - val_acc: 0.8060\n",
                        "Epoch 10/20\n",
                        "7982/7982 [==============================] - 2s 218us/step - loss: 0.2547 - acc: 0.9415 - val_loss: 0.9053 - val_acc: 0.8140\n",
                        "Epoch 11/20\n",
                        "7982/7982 [==============================] - 2s 214us/step - loss: 0.2191 - acc: 0.9473 - val_loss: 0.9172 - val_acc: 0.8110\n",
                        "Epoch 12/20\n",
                        "7982/7982 [==============================] - 2s 234us/step - loss: 0.1877 - acc: 0.9513 - val_loss: 0.9061 - val_acc: 0.8130\n",
                        "Epoch 13/20\n",
                        "7982/7982 [==============================] - 2s 220us/step - loss: 0.1704 - acc: 0.9523 - val_loss: 0.9317 - val_acc: 0.8090\n",
                        "Epoch 14/20\n",
                        "7982/7982 [==============================] - 2s 207us/step - loss: 0.1534 - acc: 0.9555 - val_loss: 0.9633 - val_acc: 0.8050\n",
                        "Epoch 15/20\n",
                        "7982/7982 [==============================] - 2s 210us/step - loss: 0.1393 - acc: 0.9562 - val_loss: 0.9672 - val_acc: 0.8130\n",
                        "Epoch 16/20\n",
                        "7982/7982 [==============================] - 2s 199us/step - loss: 0.1315 - acc: 0.9559 - val_loss: 1.0246 - val_acc: 0.8030\n",
                        "Epoch 17/20\n",
                        "7982/7982 [==============================] - 2s 208us/step - loss: 0.1221 - acc: 0.9575 - val_loss: 1.0278 - val_acc: 0.7990\n",
                        "Epoch 18/20\n",
                        "7982/7982 [==============================] - 2s 207us/step - loss: 0.1199 - acc: 0.9570 - val_loss: 1.0403 - val_acc: 0.8040\n",
                        "Epoch 19/20\n",
                        "7982/7982 [==============================] - 2s 199us/step - loss: 0.1140 - acc: 0.9593 - val_loss: 1.0962 - val_acc: 0.7940\n",
                        "Epoch 20/20\n",
                        "7982/7982 [==============================] - 2s 212us/step - loss: 0.1113 - acc: 0.9595 - val_loss: 1.0677 - val_acc: 0.7980\n"
                    ]
                }
            ],
            "source": [
                "history = model.fit(\n",
                "    partial_x_train,\n",
                "    partial_y_train,\n",
                "    epochs=20,\n",
                "    batch_size=512,\n",
                "    validation_data=(x_val, y_val),\n",
                ")"
            ]
        },
        {
            "cell_type": "code",
            "execution_count": null,
            "metadata": {},
            "outputs": [
                {
                    "data": {
                        "image/png": "[encoded data removed]",
                        "text/plain": [
                            "<Figure size 432x288 with 1 Axes>"
                        ]
                    },
                    "metadata": {
                        "needs_background": "light"
                    },
                    "output_type": "display_data"
                }
            ],
            "source": [
                "import matplotlib.pyplot as plt\n",
                "\n",
                "loss = history.history[\"loss\"]\n",
                "val_loss = history.history[\"val_loss\"]\n",
                "\n",
                "epochs = range(1, len(loss) + 1)\n",
                "\n",
                "plt.plot(epochs, loss, \"bo\", label=\"Training loss\")\n",
                "plt.plot(epochs, val_loss, \"b\", label=\"Validation loss\")\n",
                "plt.title(\"Training and validation loss\")\n",
                "plt.xlabel(\"Epochs\")\n",
                "plt.ylabel(\"Loss\")\n",
                "plt.legend()\n",
                "\n",
                "plt.show()"
            ]
        },
        {
            "cell_type": "code",
            "execution_count": null,
            "metadata": {},
            "outputs": [
                {
                    "data": {
                        "image/png": "[encoded data removed]",
                        "text/plain": [
                            "<Figure size 432x288 with 1 Axes>"
                        ]
                    },
                    "metadata": {
                        "needs_background": "light"
                    },
                    "output_type": "display_data"
                }
            ],
            "source": [
                "plt.clf()  # clear figure\n",
                "\n",
                "acc = history.history[\"acc\"]\n",
                "val_acc = history.history[\"val_acc\"]\n",
                "\n",
                "plt.plot(epochs, acc, \"bo\", label=\"Training acc\")\n",
                "plt.plot(epochs, val_acc, \"b\", label=\"Validation acc\")\n",
                "plt.title(\"Training and validation accuracy\")\n",
                "plt.xlabel(\"Epochs\")\n",
                "plt.ylabel(\"Loss\")\n",
                "plt.legend()\n",
                "\n",
                "plt.show()"
            ]
        },
        {
            "cell_type": "code",
            "execution_count": null,
            "metadata": {},
            "outputs": [
                {
                    "name": "stdout",
                    "output_type": "stream",
                    "text": [
                        "Train on 7982 samples, validate on 1000 samples\n",
                        "Epoch 1/8\n",
                        "7982/7982 [==============================] - 2s 305us/step - loss: 2.5398 - acc: 0.5226 - val_loss: 1.6733 - val_acc: 0.6570\n",
                        "Epoch 2/8\n",
                        "7982/7982 [==============================] - 2s 225us/step - loss: 1.3712 - acc: 0.7121 - val_loss: 1.2758 - val_acc: 0.7210\n",
                        "Epoch 3/8\n",
                        "7982/7982 [==============================] - 2s 237us/step - loss: 1.0136 - acc: 0.7781 - val_loss: 1.1303 - val_acc: 0.7530\n",
                        "Epoch 4/8\n",
                        "7982/7982 [==============================] - 2s 242us/step - loss: 0.7976 - acc: 0.8251 - val_loss: 1.0539 - val_acc: 0.7590\n",
                        "Epoch 5/8\n",
                        "7982/7982 [==============================] - 2s 231us/step - loss: 0.6393 - acc: 0.8624 - val_loss: 0.9754 - val_acc: 0.7920\n",
                        "Epoch 6/8\n",
                        "7982/7982 [==============================] - 2s 234us/step - loss: 0.5124 - acc: 0.8923 - val_loss: 0.9102 - val_acc: 0.8140\n",
                        "Epoch 7/8\n",
                        "7982/7982 [==============================] - 2s 215us/step - loss: 0.4123 - acc: 0.9137 - val_loss: 0.8932 - val_acc: 0.8210\n",
                        "Epoch 8/8\n",
                        "7982/7982 [==============================] - 2s 209us/step - loss: 0.3354 - acc: 0.9288 - val_loss: 0.8732 - val_acc: 0.8260\n",
                        "2246/2246 [==============================] - 1s 235us/step\n"
                    ]
                }
            ],
            "source": [
                "model = models.Sequential()\n",
                "model.add(layers.Dense(64, activation=\"relu\", input_shape=(10000,)))\n",
                "model.add(layers.Dense(64, activation=\"relu\"))\n",
                "model.add(layers.Dense(46, activation=\"softmax\"))\n",
                "\n",
                "model.compile(\n",
                "    optimizer=\"rmsprop\", loss=\"categorical_crossentropy\", metrics=[\"accuracy\"]\n",
                ")\n",
                "model.fit(\n",
                "    partial_x_train,\n",
                "    partial_y_train,\n",
                "    epochs=8,\n",
                "    batch_size=512,\n",
                "    validation_data=(x_val, y_val),\n",
                ")\n",
                "results = model.evaluate(x_test, one_hot_test_labels)"
            ]
        },
        {
            "cell_type": "code",
            "execution_count": null,
            "metadata": {},
            "outputs": [
                {
                    "data": {
                        "text/plain": [
                            "[0.984747024486878, 0.7845057880676759]"
                        ]
                    },
                    "execution_count": 19,
                    "metadata": {},
                    "output_type": "execute_result"
                }
            ],
            "source": [
                "results"
            ]
        },
        {
            "cell_type": "code",
            "execution_count": null,
            "metadata": {},
            "outputs": [
                {
                    "data": {
                        "text/plain": [
                            "0.19679430097951914"
                        ]
                    },
                    "execution_count": 20,
                    "metadata": {},
                    "output_type": "execute_result"
                }
            ],
            "source": [
                "import copy\n",
                "\n",
                "test_labels_copy = copy.copy(test_labels)\n",
                "np.random.shuffle(test_labels_copy)\n",
                "float(np.sum(np.array(test_labels) == np.array(test_labels_copy))) / len(test_labels)"
            ]
        },
        {
            "cell_type": "markdown",
            "metadata": {},
            "source": [
                "### Generating predictions on new data"
            ]
        },
        {
            "cell_type": "code",
            "execution_count": null,
            "metadata": {},
            "outputs": [],
            "source": [
                "predictions = model.predict(x_test)"
            ]
        },
        {
            "cell_type": "code",
            "execution_count": null,
            "metadata": {},
            "outputs": [
                {
                    "data": {
                        "text/plain": [
                            "(46,)"
                        ]
                    },
                    "execution_count": 22,
                    "metadata": {},
                    "output_type": "execute_result"
                }
            ],
            "source": [
                "predictions[0].shape"
            ]
        },
        {
            "cell_type": "code",
            "execution_count": null,
            "metadata": {},
            "outputs": [
                {
                    "data": {
                        "text/plain": [
                            "0.9999998"
                        ]
                    },
                    "execution_count": 23,
                    "metadata": {},
                    "output_type": "execute_result"
                }
            ],
            "source": [
                "np.sum(predictions[0])"
            ]
        },
        {
            "cell_type": "code",
            "execution_count": null,
            "metadata": {},
            "outputs": [
                {
                    "data": {
                        "text/plain": [
                            "3"
                        ]
                    },
                    "execution_count": 24,
                    "metadata": {},
                    "output_type": "execute_result"
                }
            ],
            "source": [
                "np.argmax(predictions[0])"
            ]
        },
        {
            "cell_type": "markdown",
            "metadata": {},
            "source": [
                "### A different way to handle the labels and the loss"
            ]
        },
        {
            "cell_type": "code",
            "execution_count": null,
            "metadata": {},
            "outputs": [],
            "source": [
                "y_train = np.array(train_labels)\n",
                "y_test = np.array(test_labels)"
            ]
        },
        {
            "cell_type": "code",
            "execution_count": null,
            "metadata": {},
            "outputs": [],
            "source": [
                "model.compile(\n",
                "    optimizer=\"rmsprop\", loss=\"sparse_categorical_crossentropy\", metrics=[\"acc\"]\n",
                ")"
            ]
        },
        {
            "cell_type": "markdown",
            "metadata": {},
            "source": [
                "### On the importance of having sufficiently large intermediate layers"
            ]
        },
        {
            "cell_type": "code",
            "execution_count": null,
            "metadata": {},
            "outputs": [
                {
                    "name": "stdout",
                    "output_type": "stream",
                    "text": [
                        "Train on 7982 samples, validate on 1000 samples\n",
                        "Epoch 1/20\n",
                        "7982/7982 [==============================] - 3s 414us/step - loss: 2.7073 - acc: 0.4410 - val_loss: 2.0154 - val_acc: 0.5930\n",
                        "Epoch 2/20\n",
                        "7982/7982 [==============================] - 3s 333us/step - loss: 1.7340 - acc: 0.6180 - val_loss: 1.6572 - val_acc: 0.6100\n",
                        "Epoch 3/20\n",
                        "7982/7982 [==============================] - 3s 330us/step - loss: 1.4678 - acc: 0.6359 - val_loss: 1.5679 - val_acc: 0.6090\n",
                        "Epoch 4/20\n",
                        "7982/7982 [==============================] - 2s 312us/step - loss: 1.3270 - acc: 0.6442 - val_loss: 1.4840 - val_acc: 0.6170\n",
                        "Epoch 5/20\n",
                        "7982/7982 [==============================] - 2s 301us/step - loss: 1.2165 - acc: 0.6503 - val_loss: 1.4553 - val_acc: 0.6200\n",
                        "Epoch 6/20\n",
                        "7982/7982 [==============================] - 2s 304us/step - loss: 1.1262 - acc: 0.6758 - val_loss: 1.4347 - val_acc: 0.6330\n",
                        "Epoch 7/20\n",
                        "7982/7982 [==============================] - 2s 310us/step - loss: 1.0514 - acc: 0.6942 - val_loss: 1.4591 - val_acc: 0.6390\n",
                        "Epoch 8/20\n",
                        "7982/7982 [==============================] - 3s 317us/step - loss: 0.9919 - acc: 0.7042 - val_loss: 1.4435 - val_acc: 0.6500\n",
                        "Epoch 9/20\n",
                        "7982/7982 [==============================] - 2s 312us/step - loss: 0.9418 - acc: 0.7164 - val_loss: 1.4865 - val_acc: 0.6530\n",
                        "Epoch 10/20\n",
                        "7982/7982 [==============================] - 2s 302us/step - loss: 0.8982 - acc: 0.7434 - val_loss: 1.5200 - val_acc: 0.6560\n",
                        "Epoch 11/20\n",
                        "7982/7982 [==============================] - 2s 285us/step - loss: 0.8605 - acc: 0.7553 - val_loss: 1.5158 - val_acc: 0.6620\n",
                        "Epoch 12/20\n",
                        "7982/7982 [==============================] - 2s 291us/step - loss: 0.8264 - acc: 0.7606 - val_loss: 1.5306 - val_acc: 0.6610\n",
                        "Epoch 13/20\n",
                        "7982/7982 [==============================] - 2s 291us/step - loss: 0.7968 - acc: 0.7677 - val_loss: 1.5486 - val_acc: 0.6720\n",
                        "Epoch 14/20\n",
                        "7982/7982 [==============================] - 2s 293us/step - loss: 0.7710 - acc: 0.7730 - val_loss: 1.6102 - val_acc: 0.6670\n",
                        "Epoch 15/20\n",
                        "7982/7982 [==============================] - 2s 298us/step - loss: 0.7463 - acc: 0.7818 - val_loss: 1.6473 - val_acc: 0.6680\n",
                        "Epoch 16/20\n",
                        "7982/7982 [==============================] - 2s 300us/step - loss: 0.7247 - acc: 0.7870 - val_loss: 1.7218 - val_acc: 0.6630\n",
                        "Epoch 17/20\n",
                        "7982/7982 [==============================] - 2s 290us/step - loss: 0.7060 - acc: 0.7960 - val_loss: 1.7390 - val_acc: 0.6630\n",
                        "Epoch 18/20\n",
                        "7982/7982 [==============================] - 2s 291us/step - loss: 0.6872 - acc: 0.8013 - val_loss: 1.7975 - val_acc: 0.6670\n",
                        "Epoch 19/20\n",
                        "7982/7982 [==============================] - 2s 293us/step - loss: 0.6704 - acc: 0.8073 - val_loss: 1.7894 - val_acc: 0.6700\n",
                        "Epoch 20/20\n",
                        "7982/7982 [==============================] - 2s 296us/step - loss: 0.6558 - acc: 0.8146 - val_loss: 1.8330 - val_acc: 0.6670\n"
                    ]
                },
                {
                    "data": {
                        "text/plain": [
                            "<keras.callbacks.History at 0x1d880442d08>"
                        ]
                    },
                    "execution_count": 27,
                    "metadata": {},
                    "output_type": "execute_result"
                }
            ],
            "source": [
                "model = models.Sequential()\n",
                "model.add(layers.Dense(64, activation=\"relu\", input_shape=(10000,)))\n",
                "model.add(layers.Dense(4, activation=\"relu\"))\n",
                "model.add(layers.Dense(46, activation=\"softmax\"))\n",
                "\n",
                "model.compile(\n",
                "    optimizer=\"rmsprop\", loss=\"categorical_crossentropy\", metrics=[\"accuracy\"]\n",
                ")\n",
                "model.fit(\n",
                "    partial_x_train,\n",
                "    partial_y_train,\n",
                "    epochs=20,\n",
                "    batch_size=128,\n",
                "    validation_data=(x_val, y_val),\n",
                ")"
            ]
        },
        {
            "cell_type": "code",
            "execution_count": null,
            "metadata": {},
            "outputs": [],
            "source": []
        }
    ],
    "metadata": {
        "kernelspec": {
            "display_name": "Python 3.10.4 64-bit",
            "language": "python",
            "name": "python3"
        },
        "language_info": {
            "codemirror_mode": {
                "name": "ipython",
                "version": 3
            },
            "file_extension": ".py",
            "mimetype": "text/x-python",
            "name": "python",
            "nbconvert_exporter": "python",
            "pygments_lexer": "ipython3",
            "version": "3.10.4"
        },
        "vscode": {
            "interpreter": {
                "hash": "4f946df053fbf2b937619d3c5458e7af74262f9a954d8797ba0b27400bcafe06"
            }
        }
    },
    "nbformat": 4,
    "nbformat_minor": 4
}