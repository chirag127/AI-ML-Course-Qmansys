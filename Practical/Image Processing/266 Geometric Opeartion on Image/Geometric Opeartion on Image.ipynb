{
 "cells": [
  {
   "cell_type": "markdown",
   "metadata": {},
   "source": [
    "# Geometric Operation on Image\n"
   ]
  },
  {
   "cell_type": "markdown",
   "metadata": {},
   "source": [
    "## Image gradients. Introduction to convolution"
   ]
  },
  {
   "cell_type": "code",
   "execution_count": 1,
   "metadata": {},
   "outputs": [],
   "source": [
    "import numpy as np\n",
    "from matplotlib import pyplot as plt\n",
    "from copy import deepcopy"
   ]
  },
  {
   "cell_type": "code",
   "execution_count": 2,
   "metadata": {},
   "outputs": [],
   "source": [
    "import cv2"
   ]
  },
  {
   "cell_type": "code",
   "execution_count": 3,
   "metadata": {},
   "outputs": [],
   "source": [
    "def wind(image):\n",
    "    cv2.namedWindow(\"image\", cv2.WINDOW_NORMAL)\n",
    "    cv2.imshow(\"image\", image)\n",
    "    cv2.waitKey(0)\n",
    "    cv2.destroyAllWindows()"
   ]
  },
  {
   "cell_type": "code",
   "execution_count": 4,
   "metadata": {},
   "outputs": [],
   "source": [
    "crops=cv2.imread('victoria.png',0)"
   ]
  },
  {
   "cell_type": "code",
   "execution_count": 5,
   "metadata": {},
   "outputs": [],
   "source": [
    "wind(crops)"
   ]
  },
  {
   "cell_type": "code",
   "execution_count": 6,
   "metadata": {},
   "outputs": [],
   "source": [
    "sobelx=cv2.Sobel(crops, cv2.CV_8U,1,0,ksize=3)"
   ]
  },
  {
   "cell_type": "code",
   "execution_count": 7,
   "metadata": {},
   "outputs": [],
   "source": [
    "wind(sobelx)"
   ]
  },
  {
   "cell_type": "code",
   "execution_count": 8,
   "metadata": {},
   "outputs": [],
   "source": [
    "laplacian = cv2.Laplacian(crops, cv2.CV_8U)"
   ]
  },
  {
   "cell_type": "code",
   "execution_count": 9,
   "metadata": {},
   "outputs": [],
   "source": [
    "wind(laplacian)"
   ]
  },
  {
   "cell_type": "markdown",
   "metadata": {},
   "source": [
    "## Edge detection with Canny operator"
   ]
  },
  {
   "cell_type": "code",
   "execution_count": 10,
   "metadata": {},
   "outputs": [],
   "source": [
    "edges = cv2.Canny(crops,100,200)"
   ]
  },
  {
   "cell_type": "code",
   "execution_count": 11,
   "metadata": {},
   "outputs": [],
   "source": [
    "wind(edges)"
   ]
  },
  {
   "cell_type": "code",
   "execution_count": 12,
   "metadata": {},
   "outputs": [],
   "source": [
    "bbal=cv2.imread(\"busket.jpg\",1)\n",
    "wind(bbal)"
   ]
  },
  {
   "cell_type": "code",
   "execution_count": 13,
   "metadata": {},
   "outputs": [
    {
     "data": {
      "text/plain": [
       "array([[0, 0, 0, ..., 0, 0, 0],\n",
       "       [0, 0, 0, ..., 0, 0, 0],\n",
       "       [0, 0, 0, ..., 0, 0, 0],\n",
       "       ...,\n",
       "       [0, 0, 0, ..., 0, 0, 0],\n",
       "       [0, 0, 0, ..., 0, 0, 0],\n",
       "       [0, 0, 0, ..., 0, 0, 0]], dtype=uint8)"
      ]
     },
     "execution_count": 13,
     "metadata": {},
     "output_type": "execute_result"
    }
   ],
   "source": [
    "edges = cv2.Canny(bbal, 150,400)\n",
    "edges"
   ]
  },
  {
   "cell_type": "code",
   "execution_count": 14,
   "metadata": {},
   "outputs": [],
   "source": [
    "wind(edges)"
   ]
  },
  {
   "cell_type": "markdown",
   "metadata": {},
   "source": [
    "## Line detection with Hough Transform"
   ]
  },
  {
   "cell_type": "code",
   "execution_count": 15,
   "metadata": {},
   "outputs": [],
   "source": [
    "# Reading the required image in  \n",
    "# which operations are to be done.  \n",
    "# Make sure that the image is in the same  \n",
    "# directory in which this python program is \n",
    "img = cv2.imread('victoria.jpg') \n",
    "  \n",
    "# Convert the img to grayscale \n",
    "gray = cv2.cvtColor(img,cv2.COLOR_BGR2GRAY) \n",
    "wind(gray)"
   ]
  },
  {
   "cell_type": "code",
   "execution_count": 16,
   "metadata": {},
   "outputs": [],
   "source": [
    "  \n",
    "# Apply edge detection method on the image \n",
    "edges = cv2.Canny(gray,50,150,apertureSize = 3) \n",
    "  \n",
    "wind(edges)"
   ]
  },
  {
   "cell_type": "code",
   "execution_count": 17,
   "metadata": {},
   "outputs": [
    {
     "data": {
      "text/plain": [
       "array([[[ 379.       ,    1.5707964]],\n",
       "\n",
       "       [[ 371.       ,    1.6406095]],\n",
       "\n",
       "       [[ 387.       ,    1.6755161]],\n",
       "\n",
       "       ...,\n",
       "\n",
       "       [[  16.       ,    2.3561945]],\n",
       "\n",
       "       [[-260.       ,    2.4260077]],\n",
       "\n",
       "       [[-267.       ,    2.4783676]]], dtype=float32)"
      ]
     },
     "execution_count": 17,
     "metadata": {},
     "output_type": "execute_result"
    }
   ],
   "source": [
    "# This returns an array of r and theta values \n",
    "lines = cv2.HoughLines(edges,1,np.pi/180, 200) \n",
    "lines"
   ]
  },
  {
   "cell_type": "code",
   "execution_count": 18,
   "metadata": {},
   "outputs": [
    {
     "data": {
      "text/plain": [
       "True"
      ]
     },
     "execution_count": 18,
     "metadata": {},
     "output_type": "execute_result"
    }
   ],
   "source": [
    "# The below for loop runs till r and theta values  \n",
    "# are in the range of the 2d array \n",
    "for r,theta in lines[0]: \n",
    "      \n",
    "    # Stores the value of cos(theta) in a \n",
    "    a = np.cos(theta) \n",
    "  \n",
    "    # Stores the value of sin(theta) in b \n",
    "    b = np.sin(theta) \n",
    "      \n",
    "    # x0 stores the value rcos(theta) \n",
    "    x0 = a*r \n",
    "      \n",
    "    # y0 stores the value rsin(theta) \n",
    "    y0 = b*r \n",
    "      \n",
    "    # x1 stores the rounded off value of (rcos(theta)-1000sin(theta)) \n",
    "    x1 = int(x0 + 1000*(-b)) \n",
    "      \n",
    "    # y1 stores the rounded off value of (rsin(theta)+1000cos(theta)) \n",
    "    y1 = int(y0 + 1000*(a)) \n",
    "  \n",
    "    # x2 stores the rounded off value of (rcos(theta)+1000sin(theta)) \n",
    "    x2 = int(x0 - 1000*(-b)) \n",
    "      \n",
    "    # y2 stores the rounded off value of (rsin(theta)-1000cos(theta)) \n",
    "    y2 = int(y0 - 1000*(a)) \n",
    "      \n",
    "    # cv2.line draws a line in img from the point(x1,y1) to (x2,y2). \n",
    "    # (0,0,255) denotes the colour of the line to be  \n",
    "    #drawn. In this case, it is red.  \n",
    "    cv2.line(img,(x1,y1), (x2,y2), (0,0,255),2) \n",
    "      \n",
    "# All the changes made in the input image are finally \n",
    "wind(img)\n",
    "# written on a new image houghlines.jpg \n",
    "cv2.imwrite('linesDetected.jpg', img) "
   ]
  },
  {
   "cell_type": "code",
   "execution_count": null,
   "metadata": {},
   "outputs": [],
   "source": []
  }
 ],
 "metadata": {
  "kernelspec": {
   "display_name": "Python 3",
   "language": "python",
   "name": "python3"
  },
  "language_info": {
   "codemirror_mode": {
    "name": "ipython",
    "version": 3
   },
   "file_extension": ".py",
   "mimetype": "text/x-python",
   "name": "python",
   "nbconvert_exporter": "python",
   "pygments_lexer": "ipython3",
   "version": "3.7.7"
  }
 },
 "nbformat": 4,
 "nbformat_minor": 4
}
